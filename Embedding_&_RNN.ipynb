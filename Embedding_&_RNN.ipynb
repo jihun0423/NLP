{
  "nbformat": 4,
  "nbformat_minor": 0,
  "metadata": {
    "colab": {
      "provenance": [],
      "authorship_tag": "ABX9TyP13M9CNS9NdwXA7n1TwVFc",
      "include_colab_link": true
    },
    "kernelspec": {
      "name": "python3",
      "display_name": "Python 3"
    },
    "language_info": {
      "name": "python"
    }
  },
  "cells": [
    {
      "cell_type": "markdown",
      "metadata": {
        "id": "view-in-github",
        "colab_type": "text"
      },
      "source": [
        "<a href=\"https://colab.research.google.com/github/jihun0423/NLP/blob/main/Embedding_%26_RNN.ipynb\" target=\"_parent\"><img src=\"https://colab.research.google.com/assets/colab-badge.svg\" alt=\"Open In Colab\"/></a>"
      ]
    },
    {
      "cell_type": "code",
      "execution_count": 3,
      "metadata": {
        "id": "ASKXEQID-AFD"
      },
      "outputs": [],
      "source": [
        "import torch\n",
        "import torch.nn as nn\n",
        "import torch.optim as optim\n",
        "import torch.nn.functional as F\n",
        "\n",
        "import pandas as pd\n",
        "import numpy as np\n",
        "import matplotlib.pyplot as plt\n",
        "\n",
        "import tensorflow as tf\n",
        "from tensorflow import keras\n",
        "from tensorflow.keras.preprocessing.text import Tokenizer\n",
        "from tensorflow.keras.preprocessing.sequence import pad_sequences\n",
        "from tensorflow.keras.utils import to_categorical"
      ]
    },
    {
      "cell_type": "code",
      "source": [],
      "metadata": {
        "id": "VopK1jdGO-4p"
      },
      "execution_count": null,
      "outputs": []
    },
    {
      "cell_type": "code",
      "source": [
        "sentences = ['I love my dog.',\n",
        "             'I do not love my cat.',\n",
        "             'I love my dog and love my cat',\n",
        "             'You love my dog!',\n",
        "             'My dog is not amazing',\n",
        "             'Do you think my dog is amazing?',\n",
        "             'I do not love my dog',\n",
        "             'Do you hate my dog?',\n",
        "             'I hate my dog',\n",
        "             'I do not hate my dog']"
      ],
      "metadata": {
        "id": "3M9pBteB-R-p"
      },
      "execution_count": 102,
      "outputs": []
    },
    {
      "cell_type": "code",
      "source": [
        "tokenizer = Tokenizer()\n",
        "tokenizer.fit_on_texts(sentences)\n",
        "word_index = tokenizer.word_index\n",
        "word_index"
      ],
      "metadata": {
        "colab": {
          "base_uri": "https://localhost:8080/"
        },
        "id": "lPMrj0R2-SBr",
        "outputId": "bde50cef-0d1e-4eee-82d3-2c9fd8f74898"
      },
      "execution_count": 103,
      "outputs": [
        {
          "output_type": "execute_result",
          "data": {
            "text/plain": [
              "{'my': 1,\n",
              " 'dog': 2,\n",
              " 'i': 3,\n",
              " 'love': 4,\n",
              " 'do': 5,\n",
              " 'not': 6,\n",
              " 'you': 7,\n",
              " 'hate': 8,\n",
              " 'cat': 9,\n",
              " 'is': 10,\n",
              " 'amazing': 11,\n",
              " 'and': 12,\n",
              " 'think': 13}"
            ]
          },
          "metadata": {},
          "execution_count": 103
        }
      ]
    },
    {
      "cell_type": "code",
      "source": [
        "sequences = tokenizer.texts_to_sequences(sentences)\n",
        "padded = pad_sequences(sequences, padding='post', truncating='post')"
      ],
      "metadata": {
        "id": "H9dzTmF6-Vep"
      },
      "execution_count": 104,
      "outputs": []
    },
    {
      "cell_type": "code",
      "source": [
        "padded"
      ],
      "metadata": {
        "colab": {
          "base_uri": "https://localhost:8080/"
        },
        "id": "F_XfZvgP-VhP",
        "outputId": "9abbabe3-cc27-4b5c-880e-1c229caecaf6"
      },
      "execution_count": 105,
      "outputs": [
        {
          "output_type": "execute_result",
          "data": {
            "text/plain": [
              "array([[ 3,  4,  1,  2,  0,  0,  0,  0],\n",
              "       [ 3,  5,  6,  4,  1,  9,  0,  0],\n",
              "       [ 3,  4,  1,  2, 12,  4,  1,  9],\n",
              "       [ 7,  4,  1,  2,  0,  0,  0,  0],\n",
              "       [ 1,  2, 10,  6, 11,  0,  0,  0],\n",
              "       [ 5,  7, 13,  1,  2, 10, 11,  0],\n",
              "       [ 3,  5,  6,  4,  1,  2,  0,  0],\n",
              "       [ 5,  7,  8,  1,  2,  0,  0,  0],\n",
              "       [ 3,  8,  1,  2,  0,  0,  0,  0],\n",
              "       [ 3,  5,  6,  8,  1,  2,  0,  0]], dtype=int32)"
            ]
          },
          "metadata": {},
          "execution_count": 105
        }
      ]
    },
    {
      "cell_type": "code",
      "source": [
        "labels = [1,0,1,1,0,1,0,0,0,1]"
      ],
      "metadata": {
        "id": "PtjdaSh0-VjV"
      },
      "execution_count": 106,
      "outputs": []
    },
    {
      "cell_type": "code",
      "source": [
        "padded=torch.LongTensor(padded)"
      ],
      "metadata": {
        "id": "jly_KN_l_NWf"
      },
      "execution_count": 107,
      "outputs": []
    },
    {
      "cell_type": "code",
      "source": [],
      "metadata": {
        "id": "_QJX9BweVP5Q"
      },
      "execution_count": null,
      "outputs": []
    },
    {
      "cell_type": "code",
      "source": [],
      "metadata": {
        "id": "xFYevMegWQJm"
      },
      "execution_count": null,
      "outputs": []
    },
    {
      "cell_type": "code",
      "source": [],
      "metadata": {
        "id": "14zqO8FsWQMF"
      },
      "execution_count": null,
      "outputs": []
    },
    {
      "cell_type": "code",
      "source": [
        "test = ['I hate my cat',\n",
        "        'I do not hate my cat',\n",
        "        'I love my cat',\n",
        "        'I think I love my cat',\n",
        "        'I think I hate my cat']"
      ],
      "metadata": {
        "id": "A97m0gkfKNEh"
      },
      "execution_count": null,
      "outputs": []
    },
    {
      "cell_type": "code",
      "source": [
        "test_labels = torch.LongTensor([0,1,1,1,0])"
      ],
      "metadata": {
        "id": "I4uHEm4GLd5p"
      },
      "execution_count": null,
      "outputs": []
    },
    {
      "cell_type": "code",
      "source": [
        "test_sequences = tokenizer.texts_to_sequences(test)\n",
        "padded_test = pad_sequences(test_sequences, padding='post', truncating='post')"
      ],
      "metadata": {
        "id": "U2sA5Yh2KNvc"
      },
      "execution_count": null,
      "outputs": []
    },
    {
      "cell_type": "code",
      "source": [
        "padded_test"
      ],
      "metadata": {
        "colab": {
          "base_uri": "https://localhost:8080/"
        },
        "id": "htCLFtnCKa4r",
        "outputId": "8cdd3cf0-23c3-4da8-8699-a00ef6026719"
      },
      "execution_count": null,
      "outputs": [
        {
          "output_type": "execute_result",
          "data": {
            "text/plain": [
              "array([[ 3,  8,  1,  9,  0,  0],\n",
              "       [ 3,  5,  6,  8,  1,  9],\n",
              "       [ 3,  4,  1,  9,  0,  0],\n",
              "       [ 3, 13,  3,  4,  1,  9],\n",
              "       [ 3, 13,  3,  8,  1,  9]], dtype=int32)"
            ]
          },
          "metadata": {},
          "execution_count": 148
        }
      ]
    },
    {
      "cell_type": "code",
      "source": [],
      "metadata": {
        "id": "kV6dnfSgWQOa"
      },
      "execution_count": null,
      "outputs": []
    },
    {
      "cell_type": "code",
      "source": [
        "from torch.utils.data import (DataLoader, TensorDataset)\n",
        "\n",
        "train_dataset = TensorDataset(torch.LongTensor(padded),torch.LongTensor(labels))\n",
        "train_loader = DataLoader(train_dataset, shuffle=True, batch_size=1)"
      ],
      "metadata": {
        "id": "k3wgyFABVP7Z"
      },
      "execution_count": 211,
      "outputs": []
    },
    {
      "cell_type": "code",
      "source": [
        "vocab_size = len(word_index)+1\n",
        "embed_size = 20\n",
        "hidden_size = 10\n"
      ],
      "metadata": {
        "id": "KMq5DrXx_iUw"
      },
      "execution_count": 108,
      "outputs": []
    },
    {
      "cell_type": "code",
      "source": [],
      "metadata": {
        "id": "5Qxwzy8qWL_z"
      },
      "execution_count": null,
      "outputs": []
    },
    {
      "cell_type": "code",
      "source": [
        "class RNN(nn.Module):\n",
        "  def __init__(self,vocab_size,input_size,hidden_size,batch_first=True):\n",
        "    super(RNN,self).__init__()\n",
        "    self.embedding = nn.Embedding(vocab_size,input_size)\n",
        "    self.rnn = nn.RNN(input_size,hidden_size,batch_first=True)\n",
        "    self.linear = nn.Linear(hidden_size,2)\n",
        "\n",
        "  def forward(self,x):\n",
        "    embedded = self.embedding(x)\n",
        "    output,hidden = self.rnn(embedded)\n",
        "    output = self.linear(output[:,-1])\n",
        "\n",
        "    return output # ,x.shape, embedded.shape, hidden.shape"
      ],
      "metadata": {
        "id": "rAOPAJmW_iXk"
      },
      "execution_count": 204,
      "outputs": []
    },
    {
      "cell_type": "code",
      "source": [
        "model = RNN(vocab_size,embed_size,hidden_size)\n",
        "loss_function = nn.CrossEntropyLoss()\n",
        "optimizer = optim.Adam(params = model.parameters(),lr=0.001)\n"
      ],
      "metadata": {
        "id": "Z7D35ky0_NZB"
      },
      "execution_count": 205,
      "outputs": []
    },
    {
      "cell_type": "code",
      "source": [
        "train_loss = []\n",
        "valid_loss = []\n",
        "from tqdm import tqdm\n",
        "\n",
        "for epoch in tqdm(range(30)):\n",
        "  optimizer.zero_grad()\n",
        "\n",
        "  output = model(padded)\n",
        "  loss = loss_function(output,torch.LongTensor(labels))\n",
        "\n",
        "  train_loss.append(loss.item())\n",
        "\n",
        "  with torch.no_grad():\n",
        "    valid_loss.append(loss_function(model(torch.LongTensor(padded_test)),test_labels).item())\n",
        "\n",
        "  loss.backward()\n",
        "  optimizer.step()\n",
        "\n",
        "  if epoch %10 == 0:\n",
        "    print('\\n',epoch,' : ',loss)\n"
      ],
      "metadata": {
        "colab": {
          "base_uri": "https://localhost:8080/"
        },
        "id": "5Drwt-ejClBW",
        "outputId": "e8c1f9fb-d15a-4ce7-a7e0-1c1a71e1bb7c"
      },
      "execution_count": 206,
      "outputs": [
        {
          "output_type": "stream",
          "name": "stderr",
          "text": [
            "100%|██████████| 30/30 [00:00<00:00, 344.78it/s]"
          ]
        },
        {
          "output_type": "stream",
          "name": "stdout",
          "text": [
            "\n",
            " 0  :  tensor(0.7433, grad_fn=<NllLossBackward0>)\n",
            "\n",
            " 10  :  tensor(0.6907, grad_fn=<NllLossBackward0>)\n",
            "\n",
            " 20  :  tensor(0.6642, grad_fn=<NllLossBackward0>)\n"
          ]
        },
        {
          "output_type": "stream",
          "name": "stderr",
          "text": [
            "\n"
          ]
        }
      ]
    },
    {
      "cell_type": "code",
      "source": [],
      "metadata": {
        "id": "LMyzyUdwUd9S"
      },
      "execution_count": 206,
      "outputs": []
    },
    {
      "cell_type": "code",
      "source": [
        "plt.subplots()\n",
        "epochs = range(1, len(train_loss) + 1)\n",
        "plt.plot(list(epochs),train_loss,label = 'train_loss')\n",
        "plt.plot(list(epochs),valid_loss,label = 'valid_loss')\n",
        "plt.legend()"
      ],
      "metadata": {
        "colab": {
          "base_uri": "https://localhost:8080/",
          "height": 448
        },
        "id": "IG-RhtM-QMJS",
        "outputId": "0563ccb9-8b64-41f2-e0dc-5413a6d7c68e"
      },
      "execution_count": 207,
      "outputs": [
        {
          "output_type": "execute_result",
          "data": {
            "text/plain": [
              "<matplotlib.legend.Legend at 0x7ec9a5c90df0>"
            ]
          },
          "metadata": {},
          "execution_count": 207
        },
        {
          "output_type": "display_data",
          "data": {
            "text/plain": [
              "<Figure size 640x480 with 1 Axes>"
            ],
            "image/png": "[encoded data removed]"
          },
          "metadata": {}
        }
      ]
    },
    {
      "cell_type": "code",
      "source": [],
      "metadata": {
        "id": "x2HUa7HTJ_Aa"
      },
      "execution_count": null,
      "outputs": []
    },
    {
      "cell_type": "code",
      "source": [],
      "metadata": {
        "id": "udceo9AfWU3n"
      },
      "execution_count": null,
      "outputs": []
    },
    {
      "cell_type": "code",
      "source": [],
      "metadata": {
        "id": "nFm-z0UrWU6S"
      },
      "execution_count": null,
      "outputs": []
    },
    {
      "cell_type": "code",
      "source": [],
      "metadata": {
        "id": "Oux0b19tWU82"
      },
      "execution_count": null,
      "outputs": []
    },
    {
      "cell_type": "code",
      "source": [
        "loss_function(model(torch.LongTensor(padded_test)),test_labels)"
      ],
      "metadata": {
        "colab": {
          "base_uri": "https://localhost:8080/"
        },
        "id": "N-DpEPBxKa7K",
        "outputId": "ba8c2c71-f75b-455c-a2ae-0b753fdc2e79"
      },
      "execution_count": null,
      "outputs": [
        {
          "output_type": "execute_result",
          "data": {
            "text/plain": [
              "tensor(3.2285, grad_fn=<NllLossBackward0>)"
            ]
          },
          "metadata": {},
          "execution_count": 149
        }
      ]
    },
    {
      "cell_type": "code",
      "source": [
        "tf.argmax(model(torch.LongTensor(padded_test)).detach().numpy(),1)"
      ],
      "metadata": {
        "colab": {
          "base_uri": "https://localhost:8080/"
        },
        "id": "uMgp-Fl0J-9r",
        "outputId": "b71a7368-f8ad-4d92-95a6-b3d8f39468b1"
      },
      "execution_count": null,
      "outputs": [
        {
          "output_type": "execute_result",
          "data": {
            "text/plain": [
              "<tf.Tensor: shape=(5,), dtype=int64, numpy=array([1, 1, 0, 1, 1])>"
            ]
          },
          "metadata": {},
          "execution_count": 150
        }
      ]
    }
  ]
}