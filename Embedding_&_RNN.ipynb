{
  "nbformat": 4,
  "nbformat_minor": 0,
  "metadata": {
    "colab": {
      "provenance": [],
      "authorship_tag": "ABX9TyPwb0GMH+83rMG6+90LkKgu",
      "include_colab_link": true
    },
    "kernelspec": {
      "name": "python3",
      "display_name": "Python 3"
    },
    "language_info": {
      "name": "python"
    }
  },
  "cells": [
    {
      "cell_type": "markdown",
      "metadata": {
        "id": "view-in-github",
        "colab_type": "text"
      },
      "source": [
        "<a href=\"https://colab.research.google.com/github/jihun0423/NLP/blob/main/Embedding_%26_RNN.ipynb\" target=\"_parent\"><img src=\"https://colab.research.google.com/assets/colab-badge.svg\" alt=\"Open In Colab\"/></a>"
      ]
    },
    {
      "cell_type": "code",
      "execution_count": 1,
      "metadata": {
        "id": "ASKXEQID-AFD"
      },
      "outputs": [],
      "source": [
        "import torch\n",
        "import torch.nn as nn\n",
        "import torch.optim as optim\n",
        "import torch.nn.functional as F\n",
        "\n",
        "import pandas as pd\n",
        "import numpy as np\n",
        "import matplotlib.pyplot as plt\n",
        "\n",
        "import tensorflow as tf\n",
        "from tensorflow import keras\n",
        "from tensorflow.keras.preprocessing.text import Tokenizer\n",
        "from tensorflow.keras.preprocessing.sequence import pad_sequences\n",
        "from tensorflow.keras.utils import to_categorical"
      ]
    },
    {
      "cell_type": "code",
      "source": [],
      "metadata": {
        "id": "VopK1jdGO-4p"
      },
      "execution_count": 1,
      "outputs": []
    },
    {
      "cell_type": "code",
      "source": [
        "sentences = ['I love my dog.',\n",
        "             'I do not love my cat.',\n",
        "             'I love my dog and love my cat',\n",
        "             'You love my dog!',\n",
        "             'My dog is not amazing',\n",
        "             'Do you think my dog is amazing?',\n",
        "             'I do not love my dog',\n",
        "             'Do you hate my dog?',\n",
        "             'I hate my dog',\n",
        "             'I do not hate my dog']"
      ],
      "metadata": {
        "id": "3M9pBteB-R-p"
      },
      "execution_count": 2,
      "outputs": []
    },
    {
      "cell_type": "code",
      "source": [
        "tokenizer = Tokenizer()\n",
        "tokenizer.fit_on_texts(sentences)\n",
        "word_index = tokenizer.word_index\n",
        "word_index"
      ],
      "metadata": {
        "colab": {
          "base_uri": "https://localhost:8080/"
        },
        "id": "lPMrj0R2-SBr",
        "outputId": "69c693c0-ee98-43ef-afb7-1053ad739c44"
      },
      "execution_count": 3,
      "outputs": [
        {
          "output_type": "execute_result",
          "data": {
            "text/plain": [
              "{'my': 1,\n",
              " 'dog': 2,\n",
              " 'i': 3,\n",
              " 'love': 4,\n",
              " 'do': 5,\n",
              " 'not': 6,\n",
              " 'you': 7,\n",
              " 'hate': 8,\n",
              " 'cat': 9,\n",
              " 'is': 10,\n",
              " 'amazing': 11,\n",
              " 'and': 12,\n",
              " 'think': 13}"
            ]
          },
          "metadata": {},
          "execution_count": 3
        }
      ]
    },
    {
      "cell_type": "code",
      "source": [
        "sequences = tokenizer.texts_to_sequences(sentences)\n",
        "padded = pad_sequences(sequences, padding='post', truncating='post')"
      ],
      "metadata": {
        "id": "H9dzTmF6-Vep"
      },
      "execution_count": 4,
      "outputs": []
    },
    {
      "cell_type": "code",
      "source": [
        "padded"
      ],
      "metadata": {
        "colab": {
          "base_uri": "https://localhost:8080/"
        },
        "id": "F_XfZvgP-VhP",
        "outputId": "668ccdcc-92dc-4759-899d-98f858dc3d66"
      },
      "execution_count": 5,
      "outputs": [
        {
          "output_type": "execute_result",
          "data": {
            "text/plain": [
              "array([[ 3,  4,  1,  2,  0,  0,  0,  0],\n",
              "       [ 3,  5,  6,  4,  1,  9,  0,  0],\n",
              "       [ 3,  4,  1,  2, 12,  4,  1,  9],\n",
              "       [ 7,  4,  1,  2,  0,  0,  0,  0],\n",
              "       [ 1,  2, 10,  6, 11,  0,  0,  0],\n",
              "       [ 5,  7, 13,  1,  2, 10, 11,  0],\n",
              "       [ 3,  5,  6,  4,  1,  2,  0,  0],\n",
              "       [ 5,  7,  8,  1,  2,  0,  0,  0],\n",
              "       [ 3,  8,  1,  2,  0,  0,  0,  0],\n",
              "       [ 3,  5,  6,  8,  1,  2,  0,  0]], dtype=int32)"
            ]
          },
          "metadata": {},
          "execution_count": 5
        }
      ]
    },
    {
      "cell_type": "code",
      "source": [
        "labels = [1,0,1,1,0,1,0,0,0,1]"
      ],
      "metadata": {
        "id": "PtjdaSh0-VjV"
      },
      "execution_count": 6,
      "outputs": []
    },
    {
      "cell_type": "code",
      "source": [
        "padded=torch.LongTensor(padded)"
      ],
      "metadata": {
        "id": "jly_KN_l_NWf"
      },
      "execution_count": 7,
      "outputs": []
    },
    {
      "cell_type": "code",
      "source": [],
      "metadata": {
        "id": "_QJX9BweVP5Q"
      },
      "execution_count": 7,
      "outputs": []
    },
    {
      "cell_type": "code",
      "source": [],
      "metadata": {
        "id": "xFYevMegWQJm"
      },
      "execution_count": 7,
      "outputs": []
    },
    {
      "cell_type": "code",
      "source": [],
      "metadata": {
        "id": "14zqO8FsWQMF"
      },
      "execution_count": 7,
      "outputs": []
    },
    {
      "cell_type": "code",
      "source": [
        "test = ['I hate my cat',\n",
        "        'I do not hate my cat',\n",
        "        'I love my cat',\n",
        "        'I think I love my cat',\n",
        "        'I think I hate my cat']"
      ],
      "metadata": {
        "id": "A97m0gkfKNEh"
      },
      "execution_count": 8,
      "outputs": []
    },
    {
      "cell_type": "code",
      "source": [
        "test_labels = torch.LongTensor([0,1,1,1,0])"
      ],
      "metadata": {
        "id": "I4uHEm4GLd5p"
      },
      "execution_count": 9,
      "outputs": []
    },
    {
      "cell_type": "code",
      "source": [
        "test_sequences = tokenizer.texts_to_sequences(test)\n",
        "padded_test = pad_sequences(test_sequences, padding='post', truncating='post')"
      ],
      "metadata": {
        "id": "U2sA5Yh2KNvc"
      },
      "execution_count": 10,
      "outputs": []
    },
    {
      "cell_type": "code",
      "source": [
        "padded_test"
      ],
      "metadata": {
        "colab": {
          "base_uri": "https://localhost:8080/"
        },
        "id": "htCLFtnCKa4r",
        "outputId": "93d657ad-72c5-44bd-ee79-3d7e23321333"
      },
      "execution_count": 11,
      "outputs": [
        {
          "output_type": "execute_result",
          "data": {
            "text/plain": [
              "array([[ 3,  8,  1,  9,  0,  0],\n",
              "       [ 3,  5,  6,  8,  1,  9],\n",
              "       [ 3,  4,  1,  9,  0,  0],\n",
              "       [ 3, 13,  3,  4,  1,  9],\n",
              "       [ 3, 13,  3,  8,  1,  9]], dtype=int32)"
            ]
          },
          "metadata": {},
          "execution_count": 11
        }
      ]
    },
    {
      "cell_type": "code",
      "source": [],
      "metadata": {
        "id": "kV6dnfSgWQOa"
      },
      "execution_count": 11,
      "outputs": []
    },
    {
      "cell_type": "code",
      "source": [
        "from torch.utils.data import (DataLoader, TensorDataset)\n",
        "\n",
        "train_dataset = TensorDataset(torch.LongTensor(padded),torch.LongTensor(labels))\n",
        "train_loader = DataLoader(train_dataset, shuffle=True, batch_size=1)"
      ],
      "metadata": {
        "id": "k3wgyFABVP7Z"
      },
      "execution_count": 12,
      "outputs": []
    },
    {
      "cell_type": "code",
      "source": [
        "vocab_size = len(word_index)+1\n",
        "embed_size = 20\n",
        "hidden_size = 5\n"
      ],
      "metadata": {
        "id": "KMq5DrXx_iUw"
      },
      "execution_count": 13,
      "outputs": []
    },
    {
      "cell_type": "code",
      "source": [],
      "metadata": {
        "id": "5Qxwzy8qWL_z"
      },
      "execution_count": 13,
      "outputs": []
    },
    {
      "cell_type": "code",
      "source": [
        "class RNN(nn.Module):\n",
        "  def __init__(self,vocab_size,input_size,hidden_size,batch_first=True):\n",
        "    super(RNN,self).__init__()\n",
        "    self.embedding = nn.Embedding(vocab_size,input_size)\n",
        "    self.rnn = nn.RNN(input_size,hidden_size,batch_first=True)\n",
        "    self.linear = nn.Linear(hidden_size,2)\n",
        "\n",
        "  def forward(self,x):\n",
        "    embedded = self.embedding(x)\n",
        "    output,hidden = self.rnn(embedded)\n",
        "    output_1 = self.linear(output[:,-1,:])\n",
        "    return output_1 # ,output.shape,hidden.shape, output[:,-1,:]  ,x.shape, embedded.shape, hidden.shape"
      ],
      "metadata": {
        "id": "rAOPAJmW_iXk"
      },
      "execution_count": 68,
      "outputs": []
    },
    {
      "cell_type": "code",
      "source": [
        "class lstm(nn.Module):\n",
        "  def __init__(self,vocab_size,input_size,hidden_size,batch_first=True):\n",
        "    super(lstm,self).__init__()\n",
        "    self.embedding = nn.Embedding(vocab_size,input_size)\n",
        "    self.rnn = nn.LSTM(input_size,hidden_size,batch_first=True,bidirectional=True)\n",
        "    self.linear = nn.Linear(hidden_size*2,2)\n",
        "\n",
        "  def forward(self,x):\n",
        "    embedded = self.embedding(x)\n",
        "    output,(hidden,cell) = self.rnn(embedded)\n",
        "    output_1 = self.linear(output[:,-1,:])\n",
        "    return output_1 # ,output.shape,hidden.shape, output[:,-1,:]  ,x.shape, embedded.shape, hidden.shape"
      ],
      "metadata": {
        "id": "5VuACwUQT7jR"
      },
      "execution_count": 46,
      "outputs": []
    },
    {
      "cell_type": "code",
      "source": [
        "model = RNN(vocab_size,embed_size,hidden_size)\n",
        "model(padded)"
      ],
      "metadata": {
        "colab": {
          "base_uri": "https://localhost:8080/"
        },
        "id": "y5Sxmbv_Z_iJ",
        "outputId": "c0eaf147-9f8a-4fe1-ba58-6052ba7be45c"
      },
      "execution_count": 69,
      "outputs": [
        {
          "output_type": "execute_result",
          "data": {
            "text/plain": [
              "tensor([[-1.6855,  0.3661],\n",
              "        [-1.6563,  0.3570],\n",
              "        [-1.5651,  0.3183],\n",
              "        [-1.6854,  0.3661],\n",
              "        [-1.6755,  0.3657],\n",
              "        [-1.5224,  0.3521],\n",
              "        [-1.6525,  0.3596],\n",
              "        [-1.6831,  0.3664],\n",
              "        [-1.6855,  0.3661],\n",
              "        [-1.6561,  0.3603]], grad_fn=<AddmmBackward0>)"
            ]
          },
          "metadata": {},
          "execution_count": 69
        }
      ]
    },
    {
      "cell_type": "code",
      "source": [
        "model = lstm(vocab_size,embed_size,hidden_size)\n",
        "model(padded)"
      ],
      "metadata": {
        "colab": {
          "base_uri": "https://localhost:8080/"
        },
        "id": "hqRSRK3vUZFC",
        "outputId": "768b037e-ab33-4920-bfbe-7873a7724ed2"
      },
      "execution_count": 48,
      "outputs": [
        {
          "output_type": "execute_result",
          "data": {
            "text/plain": [
              "tensor([[0.3447, 0.3590],\n",
              "        [0.3483, 0.3592],\n",
              "        [0.1870, 0.1273],\n",
              "        [0.3449, 0.3587],\n",
              "        [0.3410, 0.3507],\n",
              "        [0.2947, 0.3626],\n",
              "        [0.3126, 0.3758],\n",
              "        [0.3296, 0.3651],\n",
              "        [0.3444, 0.3581],\n",
              "        [0.3079, 0.3760]], grad_fn=<AddmmBackward0>)"
            ]
          },
          "metadata": {},
          "execution_count": 48
        }
      ]
    },
    {
      "cell_type": "code",
      "source": [
        "model = RNN(vocab_size,embed_size,hidden_size)\n",
        "loss_function = nn.CrossEntropyLoss()\n",
        "optimizer = optim.Adam(params = model.parameters(),lr=0.001)\n"
      ],
      "metadata": {
        "id": "Z7D35ky0_NZB"
      },
      "execution_count": 70,
      "outputs": []
    },
    {
      "cell_type": "code",
      "source": [
        "labels  = torch.LongTensor(labels)"
      ],
      "metadata": {
        "id": "rMsm62T4WDi7"
      },
      "execution_count": 52,
      "outputs": []
    },
    {
      "cell_type": "code",
      "source": [
        "train_loss = []\n",
        "valid_loss = []\n",
        "from tqdm import tqdm\n",
        "\n",
        "for epoch in tqdm(range(50)):\n",
        "  optimizer.zero_grad()\n",
        "\n",
        "  output = model(padded)\n",
        "  loss = loss_function(output,labels)\n",
        "\n",
        "  train_loss.append(loss.item())\n",
        "\n",
        "  with torch.no_grad():\n",
        "    valid_loss.append(loss_function(model(torch.LongTensor(padded_test)),test_labels).item())\n",
        "\n",
        "  loss.backward()\n",
        "  optimizer.step()\n",
        "\n",
        "  if epoch %10 == 0:\n",
        "    print('\\n',epoch,' : ',loss)\n"
      ],
      "metadata": {
        "colab": {
          "base_uri": "https://localhost:8080/"
        },
        "id": "5Drwt-ejClBW",
        "outputId": "224a28b3-6d86-4700-bc26-50c0de0d6384"
      },
      "execution_count": 72,
      "outputs": [
        {
          "output_type": "stream",
          "name": "stderr",
          "text": [
            " 84%|████████▍ | 42/50 [00:00<00:00, 204.62it/s]"
          ]
        },
        {
          "output_type": "stream",
          "name": "stdout",
          "text": [
            "\n",
            " 0  :  tensor(0.7129, grad_fn=<NllLossBackward0>)\n",
            "\n",
            " 10  :  tensor(0.6746, grad_fn=<NllLossBackward0>)\n",
            "\n",
            " 20  :  tensor(0.6516, grad_fn=<NllLossBackward0>)\n",
            "\n",
            " 30  :  tensor(0.6382, grad_fn=<NllLossBackward0>)\n",
            "\n",
            " 40  :  tensor(0.6286, grad_fn=<NllLossBackward0>)\n"
          ]
        },
        {
          "output_type": "stream",
          "name": "stderr",
          "text": [
            "\r100%|██████████| 50/50 [00:00<00:00, 204.35it/s]\n"
          ]
        }
      ]
    },
    {
      "cell_type": "code",
      "source": [],
      "metadata": {
        "id": "LMyzyUdwUd9S"
      },
      "execution_count": null,
      "outputs": []
    },
    {
      "cell_type": "code",
      "source": [
        "plt.subplots()\n",
        "epochs = range(1, len(train_loss) + 1)\n",
        "plt.plot(list(epochs),train_loss,label = 'train_loss')\n",
        "plt.plot(list(epochs),valid_loss,label = 'valid_loss')\n",
        "plt.legend()"
      ],
      "metadata": {
        "colab": {
          "base_uri": "https://localhost:8080/",
          "height": 448
        },
        "id": "IG-RhtM-QMJS",
        "outputId": "db2ae106-3421-4a46-9091-a0317390dc44"
      },
      "execution_count": 73,
      "outputs": [
        {
          "output_type": "execute_result",
          "data": {
            "text/plain": [
              "<matplotlib.legend.Legend at 0x7eb0feb73ac0>"
            ]
          },
          "metadata": {},
          "execution_count": 73
        },
        {
          "output_type": "display_data",
          "data": {
            "text/plain": [
              "<Figure size 640x480 with 1 Axes>"
            ],
            "image/png": "[encoded data removed]"
          },
          "metadata": {}
        }
      ]
    },
    {
      "cell_type": "code",
      "source": [],
      "metadata": {
        "id": "x2HUa7HTJ_Aa"
      },
      "execution_count": null,
      "outputs": []
    },
    {
      "cell_type": "code",
      "source": [],
      "metadata": {
        "id": "udceo9AfWU3n"
      },
      "execution_count": null,
      "outputs": []
    },
    {
      "cell_type": "code",
      "source": [],
      "metadata": {
        "id": "5Ww7qKykXnzu"
      },
      "execution_count": null,
      "outputs": []
    },
    {
      "cell_type": "code",
      "source": [
        "model = LSTM(vocab_size,embed_size,hidden_size)\n",
        "loss_function = nn.CrossEntropyLoss()\n",
        "optimizer = optim.Adam(params = model.parameters(),lr=0.1)"
      ],
      "metadata": {
        "id": "t9A58lsKXn2L"
      },
      "execution_count": 80,
      "outputs": []
    },
    {
      "cell_type": "code",
      "source": [
        "train_loss = []\n",
        "valid_loss = []\n",
        "from tqdm import tqdm\n",
        "\n",
        "for epoch in tqdm(range(10)):\n",
        "  optimizer.zero_grad()\n",
        "\n",
        "  output = model(padded)\n",
        "  loss = loss_function(output,labels)\n",
        "\n",
        "  train_loss.append(loss.item())\n",
        "\n",
        "  with torch.no_grad():\n",
        "    valid_loss.append(loss_function(model(torch.LongTensor(padded_test)),test_labels).item())\n",
        "\n",
        "  loss.backward()\n",
        "  optimizer.step()\n",
        "\n",
        "  if epoch %10 == 0:\n",
        "    print('\\n',epoch,' : ',loss)"
      ],
      "metadata": {
        "id": "nFm-z0UrWU6S",
        "colab": {
          "base_uri": "https://localhost:8080/"
        },
        "outputId": "1d779fd6-2898-412c-cf97-3a232afbec3e"
      },
      "execution_count": 81,
      "outputs": [
        {
          "output_type": "stream",
          "name": "stderr",
          "text": [
            "100%|██████████| 10/10 [00:00<00:00, 161.99it/s]"
          ]
        },
        {
          "output_type": "stream",
          "name": "stdout",
          "text": [
            "\n",
            " 0  :  tensor(0.7247, grad_fn=<NllLossBackward0>)\n"
          ]
        },
        {
          "output_type": "stream",
          "name": "stderr",
          "text": [
            "\n"
          ]
        }
      ]
    },
    {
      "cell_type": "code",
      "source": [
        "plt.subplots()\n",
        "epochs = range(1, len(train_loss) + 1)\n",
        "plt.plot(list(epochs),train_loss,label = 'train_loss')\n",
        "plt.plot(list(epochs),valid_loss,label = 'valid_loss')\n",
        "plt.legend()"
      ],
      "metadata": {
        "id": "Oux0b19tWU82",
        "colab": {
          "base_uri": "https://localhost:8080/",
          "height": 448
        },
        "outputId": "97587b2c-16ab-4073-f544-6ec583ce6546"
      },
      "execution_count": 82,
      "outputs": [
        {
          "output_type": "execute_result",
          "data": {
            "text/plain": [
              "<matplotlib.legend.Legend at 0x7eb0fbdb1de0>"
            ]
          },
          "metadata": {},
          "execution_count": 82
        },
        {
          "output_type": "display_data",
          "data": {
            "text/plain": [
              "<Figure size 640x480 with 1 Axes>"
            ],
            "image/png": "[encoded data removed]"
          },
          "metadata": {}
        }
      ]
    },
    {
      "cell_type": "code",
      "source": [],
      "metadata": {
        "id": "8RiqvDfwXtE0"
      },
      "execution_count": null,
      "outputs": []
    },
    {
      "cell_type": "code",
      "source": [],
      "metadata": {
        "id": "YXw81gtlXtHn"
      },
      "execution_count": null,
      "outputs": []
    },
    {
      "cell_type": "code",
      "source": [],
      "metadata": {
        "id": "FIGuaKjVXtKr"
      },
      "execution_count": null,
      "outputs": []
    },
    {
      "cell_type": "code",
      "source": [
        "with torch.no_grad():\n",
        "  print('valid loss : ',loss_function(model(torch.LongTensor(padded_test)),test_labels).item())\n",
        "  print('labels : ',model(torch.LongTensor(padded_test)).max(1)[1])"
      ],
      "metadata": {
        "colab": {
          "base_uri": "https://localhost:8080/"
        },
        "id": "N-DpEPBxKa7K",
        "outputId": "6ed49fc2-931a-4dd4-cfeb-56422c4282a4"
      },
      "execution_count": 83,
      "outputs": [
        {
          "output_type": "stream",
          "name": "stdout",
          "text": [
            "valid loss :  1.086639165878296\n",
            "labels :  tensor([0, 1, 0, 1, 1])\n"
          ]
        }
      ]
    },
    {
      "cell_type": "code",
      "source": [
        "tf.argmax(model(torch.LongTensor(padded_test)).detach().numpy(),1)"
      ],
      "metadata": {
        "colab": {
          "base_uri": "https://localhost:8080/"
        },
        "id": "uMgp-Fl0J-9r",
        "outputId": "35d04793-bc2c-4cc7-857b-5993a8cbf97d"
      },
      "execution_count": null,
      "outputs": [
        {
          "output_type": "execute_result",
          "data": {
            "text/plain": [
              "<tf.Tensor: shape=(5,), dtype=int64, numpy=array([0, 1, 0, 1, 1])>"
            ]
          },
          "metadata": {},
          "execution_count": 298
        }
      ]
    },
    {
      "cell_type": "code",
      "source": [
        "model(torch.LongTensor(padded_test)).max(1)[1]"
      ],
      "metadata": {
        "colab": {
          "base_uri": "https://localhost:8080/"
        },
        "id": "8zAbPp1VYHqW",
        "outputId": "f689746d-6606-45a5-89e8-9940cad1d012"
      },
      "execution_count": null,
      "outputs": [
        {
          "output_type": "execute_result",
          "data": {
            "text/plain": [
              "tensor([0, 1, 0, 1, 1])"
            ]
          },
          "metadata": {},
          "execution_count": 299
        }
      ]
    },
    {
      "cell_type": "code",
      "source": [],
      "metadata": {
        "id": "-3eMDiMWYH2T"
      },
      "execution_count": null,
      "outputs": []
    }
  ]
}