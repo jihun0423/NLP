{
  "cells": [
    {
      "cell_type": "markdown",
      "metadata": {
        "id": "view-in-github",
        "colab_type": "text"
      },
      "source": [
        "<a href=\"https://colab.research.google.com/github/jihun0423/NLP/blob/main/language_translation_Keras_teacherForcing.ipynb\" target=\"_parent\"><img src=\"https://colab.research.google.com/assets/colab-badge.svg\" alt=\"Open In Colab\"/></a>"
      ]
    },
    {
      "cell_type": "markdown",
      "metadata": {
        "id": "Q15ChKHSG8y4"
      },
      "source": [
        "seq2seq language translation\n",
        "\n",
        "### Encoder-Decoder model\n",
        "\n",
        "\n",
        "- 영어-한국어 번역"
      ]
    },
    {
      "cell_type": "code",
      "execution_count": 1,
      "metadata": {
        "colab": {
          "base_uri": "https://localhost:8080/"
        },
        "id": "8qdw8FpThxGP",
        "outputId": "b247b37e-82cf-471b-8a3c-b7d0c9e50944"
      },
      "outputs": [
        {
          "output_type": "stream",
          "name": "stdout",
          "text": [
            "Requirement already satisfied: gdown in /usr/local/lib/python3.10/dist-packages (4.6.6)\n",
            "Collecting gdown\n",
            "  Downloading gdown-4.7.1-py3-none-any.whl (15 kB)\n",
            "Requirement already satisfied: filelock in /usr/local/lib/python3.10/dist-packages (from gdown) (3.12.4)\n",
            "Requirement already satisfied: requests[socks] in /usr/local/lib/python3.10/dist-packages (from gdown) (2.31.0)\n",
            "Requirement already satisfied: six in /usr/local/lib/python3.10/dist-packages (from gdown) (1.16.0)\n",
            "Requirement already satisfied: tqdm in /usr/local/lib/python3.10/dist-packages (from gdown) (4.66.1)\n",
            "Requirement already satisfied: beautifulsoup4 in /usr/local/lib/python3.10/dist-packages (from gdown) (4.11.2)\n",
            "Requirement already satisfied: soupsieve>1.2 in /usr/local/lib/python3.10/dist-packages (from beautifulsoup4->gdown) (2.5)\n",
            "Requirement already satisfied: charset-normalizer<4,>=2 in /usr/local/lib/python3.10/dist-packages (from requests[socks]->gdown) (3.3.0)\n",
            "Requirement already satisfied: idna<4,>=2.5 in /usr/local/lib/python3.10/dist-packages (from requests[socks]->gdown) (3.4)\n",
            "Requirement already satisfied: urllib3<3,>=1.21.1 in /usr/local/lib/python3.10/dist-packages (from requests[socks]->gdown) (2.0.6)\n",
            "Requirement already satisfied: certifi>=2017.4.17 in /usr/local/lib/python3.10/dist-packages (from requests[socks]->gdown) (2023.7.22)\n",
            "Requirement already satisfied: PySocks!=1.5.7,>=1.5.6 in /usr/local/lib/python3.10/dist-packages (from requests[socks]->gdown) (1.7.1)\n",
            "Installing collected packages: gdown\n",
            "  Attempting uninstall: gdown\n",
            "    Found existing installation: gdown 4.6.6\n",
            "    Uninstalling gdown-4.6.6:\n",
            "      Successfully uninstalled gdown-4.6.6\n",
            "Successfully installed gdown-4.7.1\n"
          ]
        }
      ],
      "source": [
        "!pip install --upgrade --no-cache-dir gdown"
      ]
    },
    {
      "cell_type": "markdown",
      "metadata": {
        "id": "_kawPBRbh6NO"
      },
      "source": [
        "한글 Glove file download"
      ]
    },
    {
      "cell_type": "code",
      "execution_count": 2,
      "metadata": {
        "colab": {
          "base_uri": "https://localhost:8080/"
        },
        "id": "HC1Ot3voh4-k",
        "outputId": "4144f1a7-451a-4ee0-f181-0b5489e0e6cf"
      },
      "outputs": [
        {
          "output_type": "stream",
          "name": "stdout",
          "text": [
            "Downloading...\n",
            "From (uriginal): https://drive.google.com/uc?id=1zR1TJm9hjqinSU0OkCcAmaVjfeTgmoOC\n",
            "From (redirected): https://drive.google.com/uc?id=1zR1TJm9hjqinSU0OkCcAmaVjfeTgmoOC&confirm=t&uuid=50b00fa8-c02b-4d50-8505-e0030fb9dfea\n",
            "To: /content/glove.6B.100d.txt\n",
            "100% 347M/347M [00:09<00:00, 37.0MB/s]\n"
          ]
        }
      ],
      "source": [
        "!gdown 1zR1TJm9hjqinSU0OkCcAmaVjfeTgmoOC"
      ]
    },
    {
      "cell_type": "code",
      "execution_count": 3,
      "metadata": {
        "id": "LC4sXvgFG8y5"
      },
      "outputs": [],
      "source": [
        "import numpy as np\n",
        "import pandas as pd\n",
        "import matplotlib.pyplot as plt\n",
        "\n",
        "import tensorflow as tf\n",
        "from tensorflow.keras.models import Model\n",
        "from tensorflow.keras.layers import Dense, Embedding, Input, LSTM, Bidirectional\n",
        "\n",
        "from tensorflow.keras.preprocessing.text import Tokenizer\n",
        "from tensorflow.keras.preprocessing.sequence import pad_sequences\n",
        "from tensorflow.keras.utils import to_categorical\n",
        "from tensorflow.keras.optimizers import RMSprop\n",
        "from tensorflow.keras.utils import plot_model"
      ]
    },
    {
      "cell_type": "code",
      "execution_count": 4,
      "metadata": {
        "id": "k9fxpcfPG8y9"
      },
      "outputs": [],
      "source": [
        "BATCH_SIZE = 64\n",
        "MAX_VOCAB_SIZE = 10000\n",
        "EMBEDDING_DIM = 100\n",
        "LATENT_DIM = 512"
      ]
    },
    {
      "cell_type": "markdown",
      "metadata": {
        "id": "88dOCLrOG8zA"
      },
      "source": [
        "## 입력 data list 작성  \n",
        "\n",
        "### 1. input_texts     : original language 의 input text  \n",
        "\n",
        "\n",
        "### 2. Teacher Forcing 용 input / target data 생성\n",
        "\n",
        "- target_texts_inputs  : 1 만큼 offset 된 target language sentence $\\rightarrow$ `<sos>....`  \n",
        "- target_texts  : target language sentence  $\\rightarrow$ `.....<eos>`\n",
        "\n",
        "\n",
        "\n",
        "- data 는 http://www.manythings.org/anki/  (Tab-delimited Bilingual Sentence Pairs) 에서 download  \n",
        "\n",
        "\n",
        "    - English(input) + `\\t` + The Other Language(target) + `\\t` + Attribution(기여자) 형식으로 구성\n",
        "        ex)\n",
        "        - Hi.\t안녕.\tCC-BY 2.0 (France) Attribution: tatoeba.org #538123 (CM) & #8355888 (Eunhee).\n",
        "        - I like horses.\t나는 말을 좋아해.\tCC-BY 2.0 (France) Attribution: tatoeba.org #1331062 (Kirschen112) & #8365125 (Eunhee)\n",
        "        - We had fun with Tom.\t우리는 톰과 즐거운 시간을 가졌다.\tCC-BY 2.0 (France) Attribution: tatoeba.org #6845055 (CK) & #6845295 (dalgarak)\n",
        "\n",
        "        \n",
        "   "
      ]
    },
    {
      "cell_type": "code",
      "execution_count": 5,
      "metadata": {
        "id": "GajIBj3cG8zA",
        "colab": {
          "base_uri": "https://localhost:8080/"
        },
        "outputId": "21590a2b-2e68-4783-81d3-2f4cb14062e1"
      },
      "outputs": [
        {
          "output_type": "stream",
          "name": "stdout",
          "text": [
            "Downloading data from https://github.com/ironmanciti/NLP_lecture/raw/master/data/kor.txt\n",
            "484226/484226 [==============================] - 0s 0us/step\n"
          ]
        }
      ],
      "source": [
        "file_path = tf.keras.utils.get_file(\"kor.txt\",\n",
        "             \"https://github.com/ironmanciti/NLP_lecture/raw/master/data/kor.txt\")"
      ]
    },
    {
      "cell_type": "markdown",
      "metadata": {
        "id": "HlozoHc8GI8C"
      },
      "source": [
        "- teacher forcing 용 input, target 작성"
      ]
    },
    {
      "cell_type": "code",
      "execution_count": 6,
      "metadata": {
        "colab": {
          "base_uri": "https://localhost:8080/"
        },
        "id": "FyP9H8NeG8zD",
        "outputId": "b8def43b-3b81-4318-b1c6-a59cdb6aaec2"
      },
      "outputs": [
        {
          "output_type": "stream",
          "name": "stdout",
          "text": [
            "3318\n",
            "3318\n",
            "3318\n"
          ]
        }
      ],
      "source": [
        "# load in the data\n",
        "eng_texts = []\n",
        "kor_inputs = []\n",
        "kor_targets = []\n",
        "\n",
        "# load data\n",
        "for line in open(file_path, 'r', encoding='utf-8'):\n",
        "\n",
        "    if '\\t' not in line:     # \\t 가 없는 line 은 skip\n",
        "        continue\n",
        "\n",
        "    # input 과 target translation 구분\n",
        "\n",
        "    eng_texts.append(line.split('\\t')[0])\n",
        "    kor = line.split('\\t')[1]\n",
        "    kor_inputs.append('<sos> '+kor)\n",
        "    kor_targets.append(kor+' <eos>')\n",
        "\n",
        "\n",
        "    # target input 과 output 을 teacher forcing 입력 구성\n",
        "\n",
        "print(len(eng_texts))\n",
        "print(len(kor_inputs))\n",
        "print(len(kor_targets))\n"
      ]
    },
    {
      "cell_type": "code",
      "execution_count": 7,
      "metadata": {
        "colab": {
          "base_uri": "https://localhost:8080/"
        },
        "id": "8jgPJsAcG8zI",
        "outputId": "a1517268-3b70-452f-a5f4-473387f37635"
      },
      "outputs": [
        {
          "output_type": "stream",
          "name": "stdout",
          "text": [
            "English : [\"Don't lie anymore, OK?\", \"Don't you laugh at me.\", 'French is fascinating.', 'French is interesting.', 'French is very useful.', 'He looked quite tired.', 'He was about to speak.', 'He was born in Africa.', 'I called Tom for help.', \"I didn't come by taxi.\"]\n",
            "\n",
            "Teacher Forcing Input : ['<sos> 거짓말 하지 마세요, 알았죠?', '<sos> 날 비웃지마.', '<sos> 프랑스어는 매력적이야.', '<sos> 프랑스어는 흥미로워.', '<sos> 프랑스어는 아주 유용해.', '<sos> 그사람은 좀 지쳐보였어.', '<sos> 그사람이 말하려고 했어.', '<sos> 그는 아프리카에서 태어났다.', '<sos> 나는 톰에게 도움을 요청했다.', '<sos> 택시로 안 왔어.']\n",
            "\n",
            "Teacher Forcing Target ['거짓말 하지 마세요, 알았죠? <eos>', '날 비웃지마. <eos>', '프랑스어는 매력적이야. <eos>', '프랑스어는 흥미로워. <eos>', '프랑스어는 아주 유용해. <eos>', '그사람은 좀 지쳐보였어. <eos>', '그사람이 말하려고 했어. <eos>', '그는 아프리카에서 태어났다. <eos>', '나는 톰에게 도움을 요청했다. <eos>', '택시로 안 왔어. <eos>']\n"
          ]
        }
      ],
      "source": [
        "print(\"English :\", eng_texts[1100:1110])\n",
        "print(\"\\nTeacher Forcing Input :\", kor_inputs[1100:1110])\n",
        "print(\"\\nTeacher Forcing Target\", kor_targets[1100:1110])"
      ]
    },
    {
      "cell_type": "markdown",
      "metadata": {
        "id": "9xJ-KzkAG8zK"
      },
      "source": [
        "## Tokenization\n",
        "\n",
        "- language 가 2 개 이므로 언어별로 서로 다른 tokenizer 생성. 따라서, 2 개의 word_index 구성\n",
        "\n",
        "### 영어 input text 의 tokenizer"
      ]
    },
    {
      "cell_type": "code",
      "execution_count": 8,
      "metadata": {
        "colab": {
          "base_uri": "https://localhost:8080/"
        },
        "id": "xnBwFkjtG8zO",
        "outputId": "34f1ff6f-c93d-48a0-f95e-318d90966ca7"
      },
      "outputs": [
        {
          "output_type": "execute_result",
          "data": {
            "text/plain": [
              "([32, 17, 6, 601, 105], 'We have a white cat.')"
            ]
          },
          "metadata": {},
          "execution_count": 8
        }
      ],
      "source": [
        "tokenizer_eng = Tokenizer()\n",
        "tokenizer_eng.fit_on_texts(eng_texts)\n",
        "\n",
        "eng_sequences = tokenizer_eng.texts_to_sequences(eng_texts)\n",
        "eng_sequences[1000],eng_texts[1000]"
      ]
    },
    {
      "cell_type": "code",
      "execution_count": 9,
      "metadata": {
        "colab": {
          "base_uri": "https://localhost:8080/"
        },
        "id": "IeySmpW7G8zS",
        "outputId": "56f60b8f-e88d-4129-959e-2689f861b3cf"
      },
      "outputs": [
        {
          "output_type": "stream",
          "name": "stdout",
          "text": [
            "unique input token 수 : 2395\n",
            "Input Text 의 단어 수 : 2396\n",
            "Input Text 의 최대 길이 : 101\n"
          ]
        }
      ],
      "source": [
        "word2idx_eng = tokenizer_eng.word_index\n",
        "print(f'unique input token 수 : {len(word2idx_eng)}')\n",
        "\n",
        "num_words_eng = min(MAX_VOCAB_SIZE, len(word2idx_eng) + 1)\n",
        "print(\"Input Text 의 단어 수 :\", num_words_eng)\n",
        "\n",
        "max_len_eng = max(len(s) for s in eng_sequences)\n",
        "print(\"Input Text 의 최대 길이 :\", max_len_eng)"
      ]
    },
    {
      "cell_type": "markdown",
      "metadata": {
        "id": "UnAyAZK6G8zU"
      },
      "source": [
        "### 한국어 Input Text"
      ]
    },
    {
      "cell_type": "markdown",
      "metadata": {
        "id": "RvBj6QEPG8zX"
      },
      "source": [
        "### Translation language 의 tokenizer\n",
        "- 주의 사항 : $<sos>, <eos>$때문에 special character 를 filtering 하면 안됨"
      ]
    },
    {
      "cell_type": "code",
      "execution_count": 13,
      "metadata": {
        "colab": {
          "base_uri": "https://localhost:8080/"
        },
        "id": "7Qqal6P9G8zX",
        "outputId": "98f3d7fe-14e1-4953-e4ae-baccf0791126"
      },
      "outputs": [
        {
          "output_type": "execute_result",
          "data": {
            "text/plain": [
              "([1, 34, 2237, 163, 187, 6],\n",
              " [34, 2237, 163, 187, 6, 2],\n",
              " '<sos> 우린 하얀색 고양이를 가지고 있어.',\n",
              " '우린 하얀색 고양이를 가지고 있어. <eos>')"
            ]
          },
          "metadata": {},
          "execution_count": 13
        }
      ],
      "source": [
        "tokenizer_kor = Tokenizer(filters = '')\n",
        "tokenizer_kor.fit_on_texts(kor_inputs+kor_targets)\n",
        "\n",
        "kor_input_sequences = tokenizer_kor.texts_to_sequences(kor_inputs)\n",
        "kor_target_sequences = tokenizer_kor.texts_to_sequences(kor_targets)\n",
        "\n",
        "kor_input_sequences[1000],kor_target_sequences[1000],kor_inputs[1000],kor_targets[1000]"
      ]
    },
    {
      "cell_type": "code",
      "execution_count": 14,
      "metadata": {
        "colab": {
          "base_uri": "https://localhost:8080/"
        },
        "id": "QUXO5Ny7G8zc",
        "outputId": "f7b76952-8fd4-49e7-d2ae-78bfd467ee88"
      },
      "outputs": [
        {
          "output_type": "stream",
          "name": "stdout",
          "text": [
            "unique output tokens : 5324\n",
            "Target 언어의 단어 수 : 5325\n",
            "Target 언어의 최대 길이 : 90\n"
          ]
        }
      ],
      "source": [
        "word2idx_kor = tokenizer_kor.word_index\n",
        "print(f'unique output tokens : {len(word2idx_kor)}')\n",
        "\n",
        "num_words_kor = len(word2idx_kor) +1\n",
        "print(\"Target 언어의 단어 수 :\", num_words_kor)\n",
        "\n",
        "max_len_kor = max(len(s) for s in  kor_target_sequences)\n",
        "print(\"Target 언어의 최대 길이 :\", max_len_kor )"
      ]
    },
    {
      "cell_type": "markdown",
      "metadata": {
        "id": "XujZjSHZG8zh"
      },
      "source": [
        "## sequence padding\n",
        "\n",
        "\n",
        "### 주의 사항\n",
        "- encoder 는 thought vector 생성 목적이므로 `pre`(default) 로 padding\n",
        "\n",
        "\n",
        "- decoder 는 teacher forcing 을 해야하므로 `post` 로 padding"
      ]
    },
    {
      "cell_type": "code",
      "execution_count": 17,
      "metadata": {
        "colab": {
          "base_uri": "https://localhost:8080/"
        },
        "id": "6xE80jITG8zh",
        "outputId": "459a7489-58b6-4bc0-fcc0-33b870ee742c",
        "scrolled": false
      },
      "outputs": [
        {
          "output_type": "stream",
          "name": "stdout",
          "text": [
            "(3318, 101)\n",
            "[ 0  0  0  0  0  0  0  0  0  0  0  0  0  0  0  0  0  0  0  0  0  0  0  0\n",
            "  0  0  0  0  0  0  0  0  0  0  0  0  0  0  0  0  0  0  0  0  0  0  0  0\n",
            "  0  0  0  0  0  0  0  0  0  0  0  0  0  0  0  0  0  0  0  0  0  0  0  0\n",
            "  0  0  0  0  0  0  0  0  0  0  0  0  0  0  0  0  0  0  0  0  0  0  0  0\n",
            "  0  0  0  0 43]\n",
            "\n",
            " (3318, 90)\n",
            "[  1 342   0   0   0   0   0   0   0   0   0   0   0   0   0   0   0   0\n",
            "   0   0   0   0   0   0   0   0   0   0   0   0   0   0   0   0   0   0\n",
            "   0   0   0   0   0   0   0   0   0   0   0   0   0   0   0   0   0   0\n",
            "   0   0   0   0   0   0   0   0   0   0   0   0   0   0   0   0   0   0\n",
            "   0   0   0   0   0   0   0   0   0   0   0   0   0   0   0   0   0   0]\n",
            "\n",
            " (3318, 90)\n",
            "[342   2   0   0   0   0   0   0   0   0   0   0   0   0   0   0   0   0\n",
            "   0   0   0   0   0   0   0   0   0   0   0   0   0   0   0   0   0   0\n",
            "   0   0   0   0   0   0   0   0   0   0   0   0   0   0   0   0   0   0\n",
            "   0   0   0   0   0   0   0   0   0   0   0   0   0   0   0   0   0   0\n",
            "   0   0   0   0   0   0   0   0   0   0   0   0   0   0   0   0   0   0]\n"
          ]
        }
      ],
      "source": [
        "encoder_inputs = pad_sequences(eng_sequences,padding='pre',maxlen=max_len_eng)\n",
        "print(encoder_inputs.shape)\n",
        "print(encoder_inputs[0])\n",
        "\n",
        "decoder_inputs = pad_sequences(kor_input_sequences,padding='post',maxlen = max_len_kor)\n",
        "print('\\n',decoder_inputs.shape)\n",
        "print(decoder_inputs[0])\n",
        "\n",
        "decoder_targets = pad_sequences(kor_target_sequences,padding='post',maxlen = max_len_kor)\n",
        "print('\\n',decoder_targets.shape)\n",
        "print(decoder_targets[0])\n"
      ]
    },
    {
      "cell_type": "markdown",
      "metadata": {
        "id": "TWIdoqQGG8zk"
      },
      "source": [
        "## pretrained word embedding 값을 transfer learning\n",
        "\n",
        "- Embedding layer 의 weight 를 pre-trained model 로 초기화  \n",
        "\n",
        "\n",
        "- glove.6B 의 EMBEDDING_DIM version 사용  \n",
        "    - space 로 구분된 text file\n",
        "    - 첫번째는 word 이고 두번째 이후는 weight vector 값이다\n",
        "\n",
        "\n",
        "- word index 가 1 부터 시작하므로 0 padding 감안하여 num_words 는 len(word2idx)+1, 혹은 MAX_VOCAB_SIZE 중 작은 것 선택  \n",
        "\n",
        "\n",
        "- embedding_dict dictionary : key - word, value - embedding_vector"
      ]
    },
    {
      "cell_type": "code",
      "execution_count": 18,
      "metadata": {
        "id": "9_uGq7s8G8zq"
      },
      "outputs": [],
      "source": [
        "def make_embedding(num_words, embedding_dim, tokenizer, max_vocab_size):\n",
        "\n",
        "    embeddings_dict = {}\n",
        "    output = './glove.6B.100d.txt'\n",
        "\n",
        "    with open(output, encoding=\"utf8\") as f:\n",
        "        for i, line in enumerate(f):\n",
        "            values = line.split()            # 각 줄을 읽어와서 word_vector에 저장\n",
        "            word = values[0]                 # 첫번째 값은 word\n",
        "            # 두번째 element 부터 마지막까지 100 개는 해당 단어의 임베딩 벡터의  값\n",
        "            coefs = np.asarray(values[1:], dtype='float32')\n",
        "            embeddings_dict[word] = coefs\n",
        "\n",
        "    embedding_matrix = np.zeros((num_words, embedding_dim))    # zero 로 초기화\n",
        "\n",
        "    print(\"word 갯수 =\", num_words)\n",
        "    print(embedding_matrix.shape)\n",
        "\n",
        "    for word, i in tokenizer.word_index.items():\n",
        "        if i < max_vocab_size:\n",
        "            embedding_vector = embeddings_dict.get(word)\n",
        "            if embedding_vector is not None:         # 해당 word 가 없으면 all zero 로 남겨둠\n",
        "                embedding_matrix[i] = embedding_vector\n",
        "\n",
        "    return embedding_matrix"
      ]
    },
    {
      "cell_type": "code",
      "execution_count": 19,
      "metadata": {
        "id": "eHnRPkgFG8zv"
      },
      "outputs": [],
      "source": [
        "num_words = min(MAX_VOCAB_SIZE, len(word2idx_kor) + 1)"
      ]
    },
    {
      "cell_type": "markdown",
      "metadata": {
        "id": "VjrgS3RWG8zy"
      },
      "source": [
        "### embedding layer 작성\n",
        "\n",
        "- encoder 와 decoder 의 Embedding layer 에 pre-trained embedding weight 를 초기값으로 load"
      ]
    },
    {
      "cell_type": "code",
      "execution_count": 21,
      "metadata": {
        "colab": {
          "base_uri": "https://localhost:8080/"
        },
        "id": "Lu4ntZP8G8zy",
        "outputId": "f8ae77d7-bc5e-449a-cc46-775b46740be4"
      },
      "outputs": [
        {
          "output_type": "stream",
          "name": "stdout",
          "text": [
            "word 갯수 = 5325\n",
            "(5325, 100)\n"
          ]
        }
      ],
      "source": [
        "# create embedding layer\n",
        "embedding_metrix = make_embedding(num_words,EMBEDDING_DIM,tokenizer_eng,MAX_VOCAB_SIZE)\n",
        "embedding_layer = Embedding(num_words,EMBEDDING_DIM,weights=[embedding_metrix],trainable=True)"
      ]
    },
    {
      "cell_type": "markdown",
      "metadata": {
        "id": "0lTBcpJ7G8z2"
      },
      "source": [
        "## Build model\n",
        "\n",
        "- encoder 와 decoder 의 embedding, lstm 및 dense layer 를 training 할 목적의 model 작성  \n",
        "\n",
        "- encoder 는 decoder 에 states [h, c] 만 전달\n",
        "\n",
        "- prediction 을 위한 model 은 training model 에서 만들어진 layer 들의 weight 를 이용하여 별도 작성  "
      ]
    },
    {
      "cell_type": "markdown",
      "metadata": {
        "id": "uahjsXKTG8z2"
      },
      "source": [
        "## Encoder model 작성  \n",
        "\n",
        "- Training과 Inference State 에서 모두 사용"
      ]
    },
    {
      "cell_type": "code",
      "execution_count": 70,
      "metadata": {
        "colab": {
          "base_uri": "https://localhost:8080/"
        },
        "id": "p_q7v3baG8z3",
        "outputId": "4c4a0c4f-33f0-4a53-902a-e35fd8070388"
      },
      "outputs": [
        {
          "output_type": "stream",
          "name": "stdout",
          "text": [
            "Model: \"model_10\"\n",
            "_________________________________________________________________\n",
            " Layer (type)                Output Shape              Param #   \n",
            "=================================================================\n",
            " Encoder Input (InputLayer)  [(None, 101)]             0         \n",
            "                                                                 \n",
            " embedding (Embedding)       (None, 101, 100)          532500    \n",
            "                                                                 \n",
            " lstm_6 (LSTM)               [(None, 512),             1255424   \n",
            "                              (None, 512),                       \n",
            "                              (None, 512)]                       \n",
            "                                                                 \n",
            "=================================================================\n",
            "Total params: 1787924 (6.82 MB)\n",
            "Trainable params: 1787924 (6.82 MB)\n",
            "Non-trainable params: 0 (0.00 Byte)\n",
            "_________________________________________________________________\n"
          ]
        }
      ],
      "source": [
        "# Encoder\n",
        "\n",
        "encoder_inputs_ = Input(shape=(max_len_eng,),name='Encoder Input')\n",
        "\n",
        "# pre-trained embedding layer 사용\n",
        "x = embedding_layer(encoder_inputs_)\n",
        "encoder_outputs,h,c = LSTM(LATENT_DIM,return_state=True)(x)\n",
        "\n",
        "\n",
        "# encoder 는 hidden state and cell state 만 decoder 로 전달 --> thought vector\n",
        "encoder_states=[h,c]\n",
        "\n",
        "encoder_model = Model(inputs=encoder_inputs_,outputs = encoder_states)\n",
        "encoder_model.summary()"
      ]
    },
    {
      "cell_type": "markdown",
      "metadata": {
        "id": "r4tlTKf0G8z5"
      },
      "source": [
        "## Decoder model for Teacher Forcing\n",
        "\n",
        "- Training stage 에서 만 사용"
      ]
    },
    {
      "cell_type": "code",
      "execution_count": 71,
      "metadata": {
        "colab": {
          "base_uri": "https://localhost:8080/"
        },
        "id": "83RPsXl-G8z5",
        "outputId": "31583329-eaf1-48e9-da9b-79fcdc55c6d1"
      },
      "outputs": [
        {
          "output_type": "stream",
          "name": "stdout",
          "text": [
            "Model: \"model_11\"\n",
            "__________________________________________________________________________________________________\n",
            " Layer (type)                Output Shape                 Param #   Connected to                  \n",
            "==================================================================================================\n",
            " Encoder Input (InputLayer)  [(None, 101)]                0         []                            \n",
            "                                                                                                  \n",
            " Decoder_Input (InputLayer)  [(None, 90)]                 0         []                            \n",
            "                                                                                                  \n",
            " embedding (Embedding)       (None, 101, 100)             532500    ['Encoder Input[0][0]']       \n",
            "                                                                                                  \n",
            " embedding_4 (Embedding)     (None, 90, 100)              532500    ['Decoder_Input[0][0]']       \n",
            "                                                                                                  \n",
            " lstm_6 (LSTM)               [(None, 512),                1255424   ['embedding[1][0]']           \n",
            "                              (None, 512),                                                        \n",
            "                              (None, 512)]                                                        \n",
            "                                                                                                  \n",
            " lstm_7 (LSTM)               [(None, 90, 512),            1255424   ['embedding_4[0][0]',         \n",
            "                              (None, 512),                           'lstm_6[0][1]',              \n",
            "                              (None, 512)]                           'lstm_6[0][2]']              \n",
            "                                                                                                  \n",
            " Decoder_Output (Dense)      (None, 90, 5325)             2731725   ['lstm_7[0][0]']              \n",
            "                                                                                                  \n",
            "==================================================================================================\n",
            "Total params: 6307573 (24.06 MB)\n",
            "Trainable params: 6307573 (24.06 MB)\n",
            "Non-trainable params: 0 (0.00 Byte)\n",
            "__________________________________________________________________________________________________\n"
          ]
        }
      ],
      "source": [
        "# decoder 는 [h, c] 를 initial state 로 사용\n",
        "decoder_inputs_ = Input(shape = (max_len_kor,),name='Decoder_Input')\n",
        "\n",
        "# decoder word embedding 은 pre-trained vector 를 사용 않음\n",
        "decoder_embedding = Embedding(num_words_kor,EMBEDDING_DIM)\n",
        "decoder_inputs_e = decoder_embedding(decoder_inputs_)\n",
        "\n",
        "# decoder for teacher-forcing\n",
        "decoder_lstm = LSTM(LATENT_DIM,return_sequences=True,return_state=True)\n",
        "\n",
        "# initial state = encoder [h, c]\n",
        "decoder_outputs,_,_ = decoder_lstm(decoder_inputs_e,initial_state=encoder_states)\n",
        "\n",
        "# final layer\n",
        "decoder_dense = Dense(num_words_kor,activation='softmax',name='Decoder_Output')\n",
        "decoder_outputs = decoder_dense(decoder_outputs)\n",
        "\n",
        "# Teacher-forcing 모델 생성\n",
        "model_teacher_forcing = Model(inputs = [encoder_inputs_,decoder_inputs_],outputs=decoder_outputs)\n",
        "model_teacher_forcing.compile(loss='SparseCategoricalCrossentropy',optimizer=RMSprop(0.001),metrics=['accuracy'])\n",
        "#model compile and train\n",
        "model_teacher_forcing.summary()"
      ]
    },
    {
      "cell_type": "markdown",
      "metadata": {
        "id": "73rTNuLZIaiy"
      },
      "source": [
        "- teacher-forcing model 시각화"
      ]
    },
    {
      "cell_type": "code",
      "execution_count": 72,
      "metadata": {
        "colab": {
          "base_uri": "https://localhost:8080/",
          "height": 533
        },
        "id": "nh-geR7BG8z7",
        "outputId": "36a57789-3109-4c81-d5b6-636acd9f925f"
      },
      "outputs": [
        {
          "output_type": "execute_result",
          "data": {
            "image/png": "[encoded data removed]",
            "text/plain": [
              "<IPython.core.display.Image object>"
            ]
          },
          "metadata": {},
          "execution_count": 72
        }
      ],
      "source": [
        "plot_model(model_teacher_forcing,show_shapes=True)"
      ]
    },
    {
      "cell_type": "markdown",
      "metadata": {
        "id": "5wbWW3D9IgZi"
      },
      "source": [
        "- teacher-forcing model train"
      ]
    },
    {
      "cell_type": "code",
      "execution_count": 73,
      "metadata": {
        "colab": {
          "base_uri": "https://localhost:8080/"
        },
        "id": "NbWbW3NsG8z-",
        "outputId": "a23389f2-c34e-4b78-adaf-b2ff024c15f8",
        "scrolled": true
      },
      "outputs": [
        {
          "output_type": "stream",
          "name": "stdout",
          "text": [
            "Epoch 1/30\n",
            "42/42 [==============================] - 12s 202ms/step - loss: 1.1475 - accuracy: 0.9261 - val_loss: 0.7330 - val_accuracy: 0.9168\n",
            "Epoch 2/30\n",
            "42/42 [==============================] - 5s 108ms/step - loss: 0.3622 - accuracy: 0.9521 - val_loss: 0.6518 - val_accuracy: 0.9206\n",
            "Epoch 3/30\n",
            "42/42 [==============================] - 4s 101ms/step - loss: 0.3451 - accuracy: 0.9527 - val_loss: 0.6166 - val_accuracy: 0.9208\n",
            "Epoch 4/30\n",
            "42/42 [==============================] - 4s 103ms/step - loss: 0.3378 - accuracy: 0.9526 - val_loss: 0.6338 - val_accuracy: 0.9215\n",
            "Epoch 5/30\n",
            "42/42 [==============================] - 4s 100ms/step - loss: 0.3318 - accuracy: 0.9533 - val_loss: 0.6632 - val_accuracy: 0.9206\n",
            "Epoch 6/30\n",
            "42/42 [==============================] - 4s 91ms/step - loss: 0.3278 - accuracy: 0.9535 - val_loss: 0.6466 - val_accuracy: 0.9209\n",
            "Epoch 7/30\n",
            "42/42 [==============================] - 4s 102ms/step - loss: 0.3245 - accuracy: 0.9540 - val_loss: 0.6392 - val_accuracy: 0.9213\n",
            "Epoch 8/30\n",
            "42/42 [==============================] - 4s 101ms/step - loss: 0.3215 - accuracy: 0.9541 - val_loss: 0.6762 - val_accuracy: 0.9198\n",
            "Epoch 9/30\n",
            "42/42 [==============================] - 4s 93ms/step - loss: 0.3188 - accuracy: 0.9545 - val_loss: 0.6766 - val_accuracy: 0.9200\n",
            "Epoch 10/30\n",
            "42/42 [==============================] - 4s 97ms/step - loss: 0.3151 - accuracy: 0.9556 - val_loss: 0.6250 - val_accuracy: 0.9247\n",
            "Epoch 11/30\n",
            "42/42 [==============================] - 4s 95ms/step - loss: 0.3086 - accuracy: 0.9578 - val_loss: 0.6146 - val_accuracy: 0.9272\n",
            "Epoch 12/30\n",
            "42/42 [==============================] - 4s 99ms/step - loss: 0.3021 - accuracy: 0.9602 - val_loss: 0.6025 - val_accuracy: 0.9304\n",
            "Epoch 13/30\n",
            "42/42 [==============================] - 4s 95ms/step - loss: 0.2969 - accuracy: 0.9611 - val_loss: 0.6049 - val_accuracy: 0.9305\n",
            "Epoch 14/30\n",
            "42/42 [==============================] - 4s 98ms/step - loss: 0.2932 - accuracy: 0.9618 - val_loss: 0.6041 - val_accuracy: 0.9305\n",
            "Epoch 15/30\n",
            "42/42 [==============================] - 4s 88ms/step - loss: 0.2905 - accuracy: 0.9618 - val_loss: 0.5943 - val_accuracy: 0.9308\n",
            "Epoch 16/30\n",
            "42/42 [==============================] - 4s 96ms/step - loss: 0.2886 - accuracy: 0.9620 - val_loss: 0.5972 - val_accuracy: 0.9309\n",
            "Epoch 17/30\n",
            "42/42 [==============================] - 4s 91ms/step - loss: 0.2866 - accuracy: 0.9620 - val_loss: 0.5929 - val_accuracy: 0.9310\n",
            "Epoch 18/30\n",
            "42/42 [==============================] - 4s 98ms/step - loss: 0.2863 - accuracy: 0.9619 - val_loss: 0.6005 - val_accuracy: 0.9308\n",
            "Epoch 19/30\n",
            "42/42 [==============================] - 4s 90ms/step - loss: 0.2843 - accuracy: 0.9621 - val_loss: 0.5957 - val_accuracy: 0.9311\n",
            "Epoch 20/30\n",
            "42/42 [==============================] - 4s 96ms/step - loss: 0.2830 - accuracy: 0.9621 - val_loss: 0.5940 - val_accuracy: 0.9309\n",
            "Epoch 21/30\n",
            "42/42 [==============================] - 4s 92ms/step - loss: 0.2825 - accuracy: 0.9621 - val_loss: 0.5925 - val_accuracy: 0.9311\n",
            "Epoch 22/30\n",
            "42/42 [==============================] - 4s 105ms/step - loss: 0.2799 - accuracy: 0.9623 - val_loss: 0.5965 - val_accuracy: 0.9311\n",
            "Epoch 23/30\n",
            "42/42 [==============================] - 4s 97ms/step - loss: 0.2787 - accuracy: 0.9623 - val_loss: 0.5923 - val_accuracy: 0.9313\n",
            "Epoch 24/30\n",
            "42/42 [==============================] - 4s 93ms/step - loss: 0.2773 - accuracy: 0.9623 - val_loss: 0.5938 - val_accuracy: 0.9311\n",
            "Epoch 25/30\n",
            "42/42 [==============================] - 4s 86ms/step - loss: 0.2758 - accuracy: 0.9623 - val_loss: 0.5956 - val_accuracy: 0.9309\n",
            "Epoch 26/30\n",
            "42/42 [==============================] - 4s 89ms/step - loss: 0.2749 - accuracy: 0.9623 - val_loss: 0.5938 - val_accuracy: 0.9314\n",
            "Epoch 27/30\n",
            "42/42 [==============================] - 4s 89ms/step - loss: 0.2733 - accuracy: 0.9624 - val_loss: 0.5985 - val_accuracy: 0.9307\n",
            "Epoch 28/30\n",
            "42/42 [==============================] - 4s 89ms/step - loss: 0.2725 - accuracy: 0.9625 - val_loss: 0.5981 - val_accuracy: 0.9312\n",
            "Epoch 29/30\n",
            "42/42 [==============================] - 4s 98ms/step - loss: 0.2710 - accuracy: 0.9625 - val_loss: 0.5984 - val_accuracy: 0.9308\n",
            "Epoch 30/30\n",
            "42/42 [==============================] - 4s 95ms/step - loss: 0.2697 - accuracy: 0.9625 - val_loss: 0.5961 - val_accuracy: 0.9307\n"
          ]
        }
      ],
      "source": [
        "history = model_teacher_forcing.fit([encoder_inputs,decoder_inputs],decoder_targets,batch_size=BATCH_SIZE, epochs=30, validation_split=0.2)\n"
      ]
    },
    {
      "cell_type": "markdown",
      "metadata": {
        "id": "XyUjTEg1IkC5"
      },
      "source": [
        "- accuracy, loss 시각화"
      ]
    },
    {
      "cell_type": "code",
      "execution_count": 74,
      "metadata": {
        "colab": {
          "base_uri": "https://localhost:8080/",
          "height": 448
        },
        "id": "9BWSgxh3G80A",
        "outputId": "7af4c617-c58e-4d69-8fbf-a522cfeca7eb"
      },
      "outputs": [
        {
          "output_type": "execute_result",
          "data": {
            "text/plain": [
              "<matplotlib.legend.Legend at 0x7871901cffa0>"
            ]
          },
          "metadata": {},
          "execution_count": 74
        },
        {
          "output_type": "display_data",
          "data": {
            "text/plain": [
              "<Figure size 640x480 with 2 Axes>"
            ],
            "image/png": "[encoded data removed]"
          },
          "metadata": {}
        }
      ],
      "source": [
        "# plot some data\n",
        "fig,(ax1,ax2) = plt.subplots(1,2)\n",
        "ax1.plot(history.history['loss'],label='loss')\n",
        "ax1.plot(history.history['val_loss'],label='val_loss')\n",
        "ax1.legend()\n",
        "# accuracies\n",
        "ax2.plot(history.history['accuracy'],label='accuracy')\n",
        "ax2.plot(history.history['val_accuracy'],label='val_accuracy')\n",
        "ax2.legend()"
      ]
    },
    {
      "cell_type": "markdown",
      "metadata": {
        "id": "7hQEWBi6IpGl"
      },
      "source": [
        "- save model"
      ]
    },
    {
      "cell_type": "code",
      "execution_count": 76,
      "metadata": {
        "id": "4G41Pc0MG80C"
      },
      "outputs": [],
      "source": [
        "model_teacher_forcing.save('seq2seq_translation.h5')"
      ]
    },
    {
      "cell_type": "markdown",
      "metadata": {
        "id": "QXpQ5xqKG80E"
      },
      "source": [
        "## Make Predictions - Inference phase\n",
        "\n",
        "- prediction 을 위한 별도의 decoder model 작성  \n",
        "\n",
        "- 별로 training 없이 앞에서 train 된 weights 를 모두 재사용 한다.\n",
        "\n",
        "- decoder 는 encoder 와 분리되어 구성"
      ]
    },
    {
      "cell_type": "code",
      "execution_count": 109,
      "metadata": {
        "colab": {
          "base_uri": "https://localhost:8080/"
        },
        "id": "0JJGUKl-G80E",
        "outputId": "fe7f329c-53b2-4dad-c907-2f389349ce28"
      },
      "outputs": [
        {
          "output_type": "stream",
          "name": "stdout",
          "text": [
            "Model: \"model_14\"\n",
            "__________________________________________________________________________________________________\n",
            " Layer (type)                Output Shape                 Param #   Connected to                  \n",
            "==================================================================================================\n",
            " Decoder_Input (InputLayer)  [(None, 1)]                  0         []                            \n",
            "                                                                                                  \n",
            " embedding_6 (Embedding)     multiple                     532500    ['Decoder_Input[0][0]']       \n",
            "                                                                                                  \n",
            " Decoder_hidden_h (InputLay  [(None, 512)]                0         []                            \n",
            " er)                                                                                              \n",
            "                                                                                                  \n",
            " Decoder_hidden_c (InputLay  [(None, 512)]                0         []                            \n",
            " er)                                                                                              \n",
            "                                                                                                  \n",
            " lstm_7 (LSTM)               multiple                     1255424   ['embedding_6[1][0]',         \n",
            "                                                                     'Decoder_hidden_h[0][0]',    \n",
            "                                                                     'Decoder_hidden_c[0][0]']    \n",
            "                                                                                                  \n",
            " Decoder_Output (Dense)      multiple                     2731725   ['lstm_7[3][0]']              \n",
            "                                                                                                  \n",
            "==================================================================================================\n",
            "Total params: 4519649 (17.24 MB)\n",
            "Trainable params: 4519649 (17.24 MB)\n",
            "Non-trainable params: 0 (0.00 Byte)\n",
            "__________________________________________________________________________________________________\n"
          ]
        }
      ],
      "source": [
        "# Decoder for inference\n",
        "decoder_state_input_h = Input(shape=(512,),name='Decoder_hidden_h')\n",
        "decoder_state_input_c = Input(shape=(512,),name='Decoder_hidden_c')\n",
        "decoder_state_inputs = [decoder_state_input_h,decoder_state_input_c]\n",
        "\n",
        "decoder_inputs_single = Input(shape=(1,),name='Decoder_Input')  # 단어 하나\n",
        "x = decoder_embedding(decoder_inputs_single)\n",
        "\n",
        "# output, hidden states 를 저장\n",
        "\n",
        "decoder_outputs,h,c = decoder_lstm(x,initial_state = decoder_state_inputs)\n",
        "decoder_states = [h,c]\n",
        "\n",
        "decoder_outputs = decoder_dense(decoder_outputs)\n",
        "\n",
        "decoder_model = Model(inputs = [decoder_inputs_single]+decoder_state_inputs,outputs = [decoder_outputs]+decoder_states)\n",
        "\n",
        "decoder_model.summary()"
      ]
    },
    {
      "cell_type": "code",
      "source": [
        "decoder_embedding = Embedding(num_words_kor,EMBEDDING_DIM)\n",
        "decoder_inputs_e = decoder_embedding(decoder_inputs_)"
      ],
      "metadata": {
        "id": "txwGzmd0msQh"
      },
      "execution_count": 107,
      "outputs": []
    },
    {
      "cell_type": "code",
      "source": [
        "# from keras.models import Sequential\n",
        "# prac = Sequential()\n",
        "# prac.add(decoder_embedding)\n",
        "# # 모델은 (batch, input_length)의 크기를 가진 정수 행렬만 인풋으로 전달받습니다.\n",
        "# # 인풋 내 가장 큰 정수(다시 말해 단어 색인)는\n",
        "# # 999(어휘목록 사이즈)보다 커서는 안됩니다.\n",
        "# # 현재 model.output_shape == (None, 10, 64), 여기서 배치 차원은 None입니다.\n",
        "\n",
        "# input_array = np.random.randint(num_words_kor, size=(1, 10))\n",
        "\n",
        "# prac.compile('rmsprop', 'mse')\n",
        "# output_array = prac.predict(input_array)\n",
        "# output_array.shape"
      ],
      "metadata": {
        "id": "PS9gglZ8maPB"
      },
      "execution_count": 108,
      "outputs": []
    },
    {
      "cell_type": "code",
      "source": [
        "plot_model(decoder_model,show_shapes=True)"
      ],
      "metadata": {
        "colab": {
          "base_uri": "https://localhost:8080/",
          "height": 422
        },
        "id": "k-j-WTpoY48H",
        "outputId": "cf815bb8-cd01-4bae-8fbf-a25184920e46"
      },
      "execution_count": 79,
      "outputs": [
        {
          "output_type": "execute_result",
          "data": {
            "image/png": "[encoded data removed]",
            "text/plain": [
              "<IPython.core.display.Image object>"
            ]
          },
          "metadata": {},
          "execution_count": 79
        }
      ]
    },
    {
      "cell_type": "markdown",
      "metadata": {
        "id": "HOl_sDoVI1N7"
      },
      "source": [
        "- inference 용 decoder model 시각화"
      ]
    },
    {
      "cell_type": "code",
      "execution_count": null,
      "metadata": {
        "colab": {
          "base_uri": "https://localhost:8080/",
          "height": 277
        },
        "id": "v_QF0GNtG80I",
        "outputId": "722980b3-d322-433b-cdc4-82415f696aee"
      },
      "outputs": [
        {
          "data": {
            "image/png": "[encoded data removed]",
            "text/plain": [
              "<IPython.core.display.Image object>"
            ]
          },
          "execution_count": 24,
          "metadata": {},
          "output_type": "execute_result"
        }
      ],
      "source": []
    },
    {
      "cell_type": "markdown",
      "metadata": {
        "id": "RTLcPG9RI8dR"
      },
      "source": [
        "예측하는 동안 index를 단어를 되돌리기 위한 reverse word2idx dictionary 작성"
      ]
    },
    {
      "cell_type": "code",
      "source": [],
      "metadata": {
        "id": "Dq5lWo3izYUd"
      },
      "execution_count": null,
      "outputs": []
    },
    {
      "cell_type": "code",
      "source": [
        "for _ in range(5):\n",
        "  i = np.random.choice(len(eng_texts))\n",
        "  input_seq = encoder_inputs[i]\n",
        "  print(input_seq)"
      ],
      "metadata": {
        "colab": {
          "base_uri": "https://localhost:8080/"
        },
        "id": "URQFRe8_jWIq",
        "outputId": "84e691e5-4a85-4ccf-9f2f-3df7a891bb2e"
      },
      "execution_count": 81,
      "outputs": [
        {
          "output_type": "stream",
          "name": "stdout",
          "text": [
            "[  0   0   0   0   0   0   0   0   0   0   0   0   0   0   0   0   0   0\n",
            "   0   0   0   0   0   0   0   0   0   0   0   0   0   0   0   0   0   0\n",
            "   0   0   0   0   0   0   0   0   0   0   0   0   0   0   0   0   0   0\n",
            "   0   0   0   0   0   0   0   0   0   0   0   0   0   0   0   0   0   0\n",
            "   0   0   0   0   0   0   0   0   0   0   0   0   0   0   0   0   0   0\n",
            "   0   0   0   0   0   0   0   0   0   0 548]\n",
            "[   0    0    0    0    0    0    0    0    0    0    0    0    0    0\n",
            "    0    0    0    0    0    0    0    0    0    0    0    0    0    0\n",
            "    0    0    0    0    0    0    0    0    0    0    0    0    0    0\n",
            "    0    0    0    0    0    0    0    0    0    0    0    0    0    0\n",
            "    0    0    0    0    0    0    0    0    0    0    0    0    0    0\n",
            "    0    0    0    0    0    0    0    0    0    0    0    0    0    0\n",
            "    0    0    0    0    0    0    0    0    0    0    0 1821    1 1822\n",
            "   34   12  515]\n",
            "[  0   0   0   0   0   0   0   0   0   0   0   0   0   0   0   0   0   0\n",
            "   0   0   0   0   0   0   0   0   0   0   0   0   0   0   0   0   0   0\n",
            "   0   0   0   0   0   0   0   0   0   0   0   0   0   0   0   0   0   0\n",
            "   0   0   0   0   0   0   0   0   0   0   0   0   0   0   0   0   0   0\n",
            "   0   0   0   0   0   0   0   0   0   0   0   0   0   0   0   0   0   0\n",
            "   0   0   0   0   0   0   0   0   0   1 565]\n",
            "[  0   0   0   0   0   0   0   0   0   0   0   0   0   0   0   0   0   0\n",
            "   0   0   0   0   0   0   0   0   0   0   0   0   0   0   0   0   0   0\n",
            "   0   0   0   0   0   0   0   0   0   0   0   0   0   0   0   0   0   0\n",
            "   0   0   0   0   0   0   0   0   0   0   0   0   0   0   0   0   0   0\n",
            "   0   0   0   0   0   0   0   0   0   0   0   0   0   0   0   0   0   0\n",
            "   0   0   0   0   2  28   3  85  25 127 262]\n",
            "[  0   0   0   0   0   0   0   0   0   0   0   0   0   0   0   0   0   0\n",
            "   0   0   0   0   0   0   0   0   0   0   0   0   0   0   0   0   0   0\n",
            "   0   0   0   0   0   0   0   0   0   0   0   0   0   0   0   0   0   0\n",
            "   0   0   0   0   0   0   0   0   0   0   0   0   0   0   0   0   0   0\n",
            "   0   0   0   0   0   0   0   0   0   0   0   0   0   0   0   0   0   0\n",
            "   0   0   0   0   0   0   0   7 285  12 167]\n"
          ]
        }
      ]
    },
    {
      "cell_type": "markdown",
      "metadata": {
        "id": "fUZfCBF-JKPR"
      },
      "source": [
        "### Translation Inference"
      ]
    },
    {
      "cell_type": "code",
      "source": [
        "encoder_inputs[1]"
      ],
      "metadata": {
        "colab": {
          "base_uri": "https://localhost:8080/"
        },
        "id": "XjSVky-Yzaje",
        "outputId": "ce4748cf-29b2-46e8-fb2d-69f0cd93b991"
      },
      "execution_count": 123,
      "outputs": [
        {
          "output_type": "execute_result",
          "data": {
            "text/plain": [
              "array([   0,    0,    0,    0,    0,    0,    0,    0,    0,    0,    0,\n",
              "          0,    0,    0,    0,    0,    0,    0,    0,    0,    0,    0,\n",
              "          0,    0,    0,    0,    0,    0,    0,    0,    0,    0,    0,\n",
              "          0,    0,    0,    0,    0,    0,    0,    0,    0,    0,    0,\n",
              "          0,    0,    0,    0,    0,    0,    0,    0,    0,    0,    0,\n",
              "          0,    0,    0,    0,    0,    0,    0,    0,    0,    0,    0,\n",
              "          0,    0,    0,    0,    0,    0,    0,    0,    0,    0,    0,\n",
              "          0,    0,    0,    0,    0,    0,    0,    0,    0,    0,    0,\n",
              "          0,    0,    0,    0,    0,    0,    0,    0,    0,    0,    0,\n",
              "          0, 1249], dtype=int32)"
            ]
          },
          "metadata": {},
          "execution_count": 123
        }
      ]
    },
    {
      "cell_type": "code",
      "source": [
        "h_c=encoder_model.predict(encoder_inputs[1][np.newaxis,:])"
      ],
      "metadata": {
        "colab": {
          "base_uri": "https://localhost:8080/"
        },
        "id": "A7otv7LKoaLd",
        "outputId": "7506c930-c155-4a46-ece2-8c00da305ca6"
      },
      "execution_count": 112,
      "outputs": [
        {
          "output_type": "stream",
          "name": "stdout",
          "text": [
            "1/1 [==============================] - 0s 19ms/step\n"
          ]
        }
      ]
    },
    {
      "cell_type": "code",
      "source": [
        "\n",
        "\n",
        "encoder_inputs[1][np.newaxis,:].shape"
      ],
      "metadata": {
        "colab": {
          "base_uri": "https://localhost:8080/"
        },
        "id": "VjFxreD1rfg5",
        "outputId": "330ca3df-6ccd-4efd-d5d4-523dc942b478"
      },
      "execution_count": 113,
      "outputs": [
        {
          "output_type": "execute_result",
          "data": {
            "text/plain": [
              "(1, 101)"
            ]
          },
          "metadata": {},
          "execution_count": 113
        }
      ]
    },
    {
      "cell_type": "code",
      "source": [
        "target_seq = np.zeros((1,1))\n",
        "target_seq[0,0] = word2idx_kor['<sos>']"
      ],
      "metadata": {
        "id": "xdWNmIiru9Z4"
      },
      "execution_count": 114,
      "outputs": []
    },
    {
      "cell_type": "code",
      "source": [],
      "metadata": {
        "id": "ohfPiZE2zQp6"
      },
      "execution_count": null,
      "outputs": []
    },
    {
      "cell_type": "code",
      "source": [
        "print(decoder_model.predict([target_seq]+h_c)[0].shape)\n",
        "print(decoder_model.predict([target_seq]+h_c)[1].shape)\n",
        "print(decoder_model.predict([target_seq]+h_c)[2].shape)\n",
        "\n",
        "print(np.argmax(decoder_model.predict([target_seq]+h_c)[0][0,0,:]))"
      ],
      "metadata": {
        "colab": {
          "base_uri": "https://localhost:8080/"
        },
        "id": "z5cNcYu5uqZo",
        "outputId": "78075ad1-779d-4ba6-d091-cae32f0dabf3"
      },
      "execution_count": 118,
      "outputs": [
        {
          "output_type": "stream",
          "name": "stdout",
          "text": [
            "1/1 [==============================] - 0s 93ms/step\n",
            "(1, 1, 5325)\n",
            "1/1 [==============================] - 0s 21ms/step\n",
            "(1, 512)\n",
            "1/1 [==============================] - 0s 21ms/step\n",
            "(1, 512)\n",
            "1/1 [==============================] - 0s 22ms/step\n",
            "51\n"
          ]
        }
      ]
    },
    {
      "cell_type": "code",
      "source": [
        "target_seq[0,0] = 51\n",
        "print(np.argmax(decoder_model.predict([target_seq]+h_c)[0][0,0,:]))"
      ],
      "metadata": {
        "colab": {
          "base_uri": "https://localhost:8080/"
        },
        "id": "hAf_ExIhwB3Y",
        "outputId": "28ac07c7-a185-47df-a4f1-10636df22e5e"
      },
      "execution_count": 121,
      "outputs": [
        {
          "output_type": "stream",
          "name": "stdout",
          "text": [
            "1/1 [==============================] - 0s 22ms/step\n",
            "51\n"
          ]
        }
      ]
    },
    {
      "cell_type": "code",
      "execution_count": null,
      "metadata": {
        "id": "tlCAy_2MG80N",
        "scrolled": false
      },
      "outputs": [],
      "source": [
        "def decode_sequence(input_seq):\n",
        "   # encoder model을 이용하여 input을 state vector로 encoding\n",
        "  states_value = encoder_model.predict(input_seq)\n",
        "\n",
        "   # Generate empty target sequence of length 1.\n",
        "  target_seq = np.zeros((1,1))\n",
        "\n",
        "   # target sequence 의 첫번째 character 를 start character (<sos>) 로 설정\n",
        "\n",
        "  target_seq[0,0] = word2idx_kor['<sos>']\n",
        "\n",
        "   # <eos> token이 decode 에서 생성되면 loop 에서 break\n",
        "  eos = word2idx_kor['<eos>']\n",
        "\n",
        "   # 번역문 생성\n",
        "  output_sentence = []\n",
        "  for _ in range(max_len_kor):\n",
        "    output_tokens,h,c = decoder_model.predict([target_seq]+states_value)\n",
        "       # argmax 로 가장 확률 높은 단어 선택 --> greedy selection\n",
        "    idx = np.argmax(output_tokens[0,0,:])\n",
        "\n",
        "    if eos == idx:  # <EOS> token\n",
        "        break\n",
        "\n",
        "    if idx > 0:  # idx 0 은 zero padding 된 sequence 이므로 ''\n",
        "      word = tokenizer_kor.index_word[idx]\n",
        "      output_sentence.append(word)\n",
        "\n",
        "        # 생성된 word 를 decoder 의 다음 input 으로 사용\n",
        "    target_seq[0,0] = idx\n",
        "\n",
        "       # Update states\n",
        "    states_value = [h,c]\n",
        "\n",
        "  return ' '.join(output_sentence)\n",
        "\n",
        "for _ in range(5):\n",
        "  i = np.random.choice(len(eng_texts))\n",
        "  input_seq = encoder_inputs[i][np.newaxis,:]\n",
        "\n",
        "  translation = decode_sequence(input_seq)\n",
        "  print('-')\n",
        "  print('Input:', eng_texts[i])\n",
        "  print('Translation:',translation)\n"
      ]
    },
    {
      "cell_type": "code",
      "source": [],
      "metadata": {
        "id": "M79IBorSwF5t"
      },
      "execution_count": null,
      "outputs": []
    },
    {
      "cell_type": "code",
      "source": [
        "i = np.random.choice(len(eng_texts))\n",
        "i"
      ],
      "metadata": {
        "colab": {
          "base_uri": "https://localhost:8080/"
        },
        "id": "we6Zf-BaiH7M",
        "outputId": "427218e9-68cc-4ac2-f3fc-405562f6bfbf"
      },
      "execution_count": 43,
      "outputs": [
        {
          "output_type": "execute_result",
          "data": {
            "text/plain": [
              "2790"
            ]
          },
          "metadata": {},
          "execution_count": 43
        }
      ]
    },
    {
      "cell_type": "code",
      "source": [
        "encoder_inputs[i]"
      ],
      "metadata": {
        "colab": {
          "base_uri": "https://localhost:8080/"
        },
        "id": "OU2jIXmRiKOn",
        "outputId": "9d3acafd-e1d7-4d69-ad39-e12c8e757f55"
      },
      "execution_count": 44,
      "outputs": [
        {
          "output_type": "execute_result",
          "data": {
            "text/plain": [
              "array([  0,   0,   0,   0,   0,   0,   0,   0,   0,   0,   0,   0,   0,\n",
              "         0,   0,   0,   0,   0,   0,   0,   0,   0,   0,   0,   0,   0,\n",
              "         0,   0,   0,   0,   0,   0,   0,   0,   0,   0,   0,   0,   0,\n",
              "         0,   0,   0,   0,   0,   0,   0,   0,   0,   0,   0,   0,   0,\n",
              "         0,   0,   0,   0,   0,   0,   0,   0,   0,   0,   0,   0,   0,\n",
              "         0,   0,   0,   0,   0,   0,   0,   0,   0,   0,   0,   0,   0,\n",
              "         0,   0,   0,   0,   0,   0,   0,   0,   0,   0,   0,   0,   0,\n",
              "         0,   0,   0,  33,  53,   4, 410,  26, 572, 542], dtype=int32)"
            ]
          },
          "metadata": {},
          "execution_count": 44
        }
      ]
    },
    {
      "cell_type": "markdown",
      "metadata": {
        "id": "Qjr59AvAJTqF"
      },
      "source": [
        "### 임의의 영어 입력을 처리하는 영한 번역 함수"
      ]
    },
    {
      "cell_type": "code",
      "execution_count": null,
      "metadata": {
        "id": "MxL71Hf4Y53i"
      },
      "outputs": [],
      "source": [
        "def Eng_Kor_translation(txt):\n"
      ]
    },
    {
      "cell_type": "code",
      "execution_count": null,
      "metadata": {
        "colab": {
          "base_uri": "https://localhost:8080/"
        },
        "id": "8t8TnjTUZJiE",
        "outputId": "6f9913eb-5201-483a-fec2-9dde447b4ac2"
      },
      "outputs": [
        {
          "name": "stdout",
          "output_type": "stream",
          "text": [
            "----\n",
            "Input: Your lips are red.\n",
            "Translation: 네 입술 빨개.\n",
            "----\n",
            "Input: French is interesting.\n",
            "Translation: 프랑스어는 흥미로워.\n",
            "----\n",
            "Input: I like you.\n",
            "Translation: 너 널 좋아해.\n",
            "----\n",
            "Input: Let's go to home.\n",
            "Translation: 나는 좀 가고 마.\n"
          ]
        }
      ],
      "source": [
        "test_text = [\n",
        "       \"Your lips are red.\",\n",
        "       \"French is interesting.\",\n",
        "       \"I like you.\",\n",
        "       \"Let's go to home.\"\n",
        "]\n",
        "for text in test_text:\n",
        "    translation = Eng_Kor_translation(text)\n",
        "    print('----')\n",
        "    print('Input:', text)\n",
        "    print('Translation:', translation)"
      ]
    },
    {
      "cell_type": "code",
      "execution_count": null,
      "metadata": {
        "id": "cWDt0zKTG80R"
      },
      "outputs": [],
      "source": []
    }
  ],
  "metadata": {
    "accelerator": "GPU",
    "colab": {
      "provenance": [],
      "gpuType": "T4",
      "include_colab_link": true
    },
    "kernelspec": {
      "display_name": "Python 3",
      "name": "python3"
    },
    "language_info": {
      "codemirror_mode": {
        "name": "ipython",
        "version": 3
      },
      "file_extension": ".py",
      "mimetype": "text/x-python",
      "name": "python",
      "nbconvert_exporter": "python",
      "pygments_lexer": "ipython3",
      "version": "3.8.12"
    }
  },
  "nbformat": 4,
  "nbformat_minor": 0
}