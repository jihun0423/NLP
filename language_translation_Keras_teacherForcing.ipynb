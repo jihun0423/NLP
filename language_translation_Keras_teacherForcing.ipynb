{
  "cells": [
    {
      "cell_type": "markdown",
      "metadata": {
        "id": "view-in-github",
        "colab_type": "text"
      },
      "source": [
        "<a href=\"https://colab.research.google.com/github/jihun0423/NLP/blob/main/language_translation_Keras_teacherForcing.ipynb\" target=\"_parent\"><img src=\"https://colab.research.google.com/assets/colab-badge.svg\" alt=\"Open In Colab\"/></a>"
      ]
    },
    {
      "cell_type": "markdown",
      "metadata": {
        "id": "Q15ChKHSG8y4"
      },
      "source": [
        "seq2seq language translation\n",
        "\n",
        "### Encoder-Decoder model\n",
        "\n",
        "\n",
        "- 영어-한국어 번역"
      ]
    },
    {
      "cell_type": "code",
      "execution_count": null,
      "metadata": {
        "colab": {
          "base_uri": "https://localhost:8080/"
        },
        "id": "8qdw8FpThxGP",
        "outputId": "a9eaad3c-8938-4f65-d279-5c317eba2fec"
      },
      "outputs": [
        {
          "name": "stdout",
          "output_type": "stream",
          "text": [
            "Requirement already satisfied: gdown in /usr/local/lib/python3.7/dist-packages (4.4.0)\n",
            "Requirement already satisfied: requests[socks] in /usr/local/lib/python3.7/dist-packages (from gdown) (2.23.0)\n",
            "Requirement already satisfied: filelock in /usr/local/lib/python3.7/dist-packages (from gdown) (3.6.0)\n",
            "Requirement already satisfied: six in /usr/local/lib/python3.7/dist-packages (from gdown) (1.15.0)\n",
            "Requirement already satisfied: beautifulsoup4 in /usr/local/lib/python3.7/dist-packages (from gdown) (4.6.3)\n",
            "Requirement already satisfied: tqdm in /usr/local/lib/python3.7/dist-packages (from gdown) (4.63.0)\n",
            "Requirement already satisfied: chardet<4,>=3.0.2 in /usr/local/lib/python3.7/dist-packages (from requests[socks]->gdown) (3.0.4)\n",
            "Requirement already satisfied: certifi>=2017.4.17 in /usr/local/lib/python3.7/dist-packages (from requests[socks]->gdown) (2021.10.8)\n",
            "Requirement already satisfied: idna<3,>=2.5 in /usr/local/lib/python3.7/dist-packages (from requests[socks]->gdown) (2.10)\n",
            "Requirement already satisfied: urllib3!=1.25.0,!=1.25.1,<1.26,>=1.21.1 in /usr/local/lib/python3.7/dist-packages (from requests[socks]->gdown) (1.24.3)\n",
            "Requirement already satisfied: PySocks!=1.5.7,>=1.5.6 in /usr/local/lib/python3.7/dist-packages (from requests[socks]->gdown) (1.7.1)\n"
          ]
        }
      ],
      "source": [
        "!pip install --upgrade --no-cache-dir gdown"
      ]
    },
    {
      "cell_type": "markdown",
      "metadata": {
        "id": "_kawPBRbh6NO"
      },
      "source": [
        "한글 Glove file download"
      ]
    },
    {
      "cell_type": "code",
      "execution_count": null,
      "metadata": {
        "colab": {
          "base_uri": "https://localhost:8080/"
        },
        "id": "HC1Ot3voh4-k",
        "outputId": "ff1cd557-af8e-4115-b457-5729636cd3bb"
      },
      "outputs": [
        {
          "name": "stdout",
          "output_type": "stream",
          "text": [
            "Downloading...\n",
            "From: https://drive.google.com/uc?id=1zR1TJm9hjqinSU0OkCcAmaVjfeTgmoOC\n",
            "To: /content/glove.6B.100d.txt\n",
            "100% 347M/347M [00:01<00:00, 174MB/s]\n"
          ]
        }
      ],
      "source": [
        "!gdown 1zR1TJm9hjqinSU0OkCcAmaVjfeTgmoOC"
      ]
    },
    {
      "cell_type": "code",
      "execution_count": null,
      "metadata": {
        "id": "LC4sXvgFG8y5"
      },
      "outputs": [],
      "source": [
        "import numpy as np\n",
        "import pandas as pd\n",
        "import matplotlib.pyplot as plt\n",
        "\n",
        "import tensorflow as tf\n",
        "from tensorflow.keras.models import Model\n",
        "from tensorflow.keras.layers import Dense, Embedding, Input, LSTM, Bidirectional\n",
        "\n",
        "from tensorflow.keras.preprocessing.text import Tokenizer\n",
        "from tensorflow.keras.preprocessing.sequence import pad_sequences\n",
        "from tensorflow.keras.utils import to_categorical\n",
        "from tensorflow.keras.optimizers import RMSprop\n",
        "from tensorflow.keras.utils import plot_model"
      ]
    },
    {
      "cell_type": "code",
      "execution_count": null,
      "metadata": {
        "id": "k9fxpcfPG8y9"
      },
      "outputs": [],
      "source": [
        "BATCH_SIZE = 64\n",
        "MAX_VOCAB_SIZE = 10000\n",
        "EMBEDDING_DIM = 100\n",
        "LATENT_DIM = 512"
      ]
    },
    {
      "cell_type": "markdown",
      "metadata": {
        "id": "88dOCLrOG8zA"
      },
      "source": [
        "## 입력 data list 작성  \n",
        "\n",
        "### 1. input_texts     : original language 의 input text  \n",
        "\n",
        "\n",
        "### 2. Teacher Forcing 용 input / target data 생성\n",
        "\n",
        "- target_texts_inputs  : 1 만큼 offset 된 target language sentence $\\rightarrow$ `<sos>....`  \n",
        "- target_texts  : target language sentence  $\\rightarrow$ `.....<eos>`\n",
        "\n",
        "\n",
        "\n",
        "- data 는 http://www.manythings.org/anki/  (Tab-delimited Bilingual Sentence Pairs) 에서 download  \n",
        "\n",
        "\n",
        "    - English(input) + `\\t` + The Other Language(target) + `\\t` + Attribution(기여자) 형식으로 구성\n",
        "        ex)\n",
        "        - Hi.\t안녕.\tCC-BY 2.0 (France) Attribution: tatoeba.org #538123 (CM) & #8355888 (Eunhee).\n",
        "        - I like horses.\t나는 말을 좋아해.\tCC-BY 2.0 (France) Attribution: tatoeba.org #1331062 (Kirschen112) & #8365125 (Eunhee)\n",
        "        - We had fun with Tom.\t우리는 톰과 즐거운 시간을 가졌다.\tCC-BY 2.0 (France) Attribution: tatoeba.org #6845055 (CK) & #6845295 (dalgarak)\n",
        "\n",
        "        \n",
        "   "
      ]
    },
    {
      "cell_type": "code",
      "execution_count": null,
      "metadata": {
        "id": "GajIBj3cG8zA"
      },
      "outputs": [],
      "source": [
        "file_path = tf.keras.utils.get_file(\"kor.txt\",\n",
        "             \"https://github.com/ironmanciti/NLP_lecture/raw/master/data/kor.txt\")"
      ]
    },
    {
      "cell_type": "markdown",
      "metadata": {
        "id": "HlozoHc8GI8C"
      },
      "source": [
        "- teacher forcing 용 input, target 작성"
      ]
    },
    {
      "cell_type": "code",
      "execution_count": null,
      "metadata": {
        "colab": {
          "base_uri": "https://localhost:8080/"
        },
        "id": "FyP9H8NeG8zD",
        "outputId": "8f18b4c7-dd68-428f-e67c-03a7c524f034"
      },
      "outputs": [
        {
          "data": {
            "text/plain": [
              "(3318, 3318, 3318)"
            ]
          },
          "execution_count": 7,
          "metadata": {},
          "output_type": "execute_result"
        }
      ],
      "source": [
        "# load in the data\n",
        "eng_texts = []\n",
        "kor_inputs = []\n",
        "kor_targets = []\n",
        "\n",
        "# load data\n",
        "for line in open(file_path, 'r', encoding='utf-8'):\n",
        "\n",
        "    if '\\t' not in line:     # \\t 가 없는 line 은 skip\n",
        "        continue\n",
        "\n",
        "    # input 과 target translation 구분\n",
        "\n",
        "    eng_texts.append(line.split('\\t')[0])\n",
        "    kor = line.split('\\t')[1]\n",
        "    kor_inputs.append('<sos> '+kor)\n",
        "    kor_targets.append(kor+' <eos>')\n",
        "\n",
        "\n",
        "    # target input 과 output 을 teacher forcing 입력 구성\n",
        "\n",
        "print(len(eng_texts))\n",
        "print(len(kor_inputs))\n",
        "print(len(kor_targets))\n"
      ]
    },
    {
      "cell_type": "code",
      "execution_count": null,
      "metadata": {
        "colab": {
          "base_uri": "https://localhost:8080/"
        },
        "id": "8jgPJsAcG8zI",
        "outputId": "5cce008e-fa1b-46bc-8da8-00a37eb3e031"
      },
      "outputs": [
        {
          "name": "stdout",
          "output_type": "stream",
          "text": [
            "English : [\"Don't lie anymore, OK?\", \"Don't you laugh at me.\", 'French is fascinating.', 'French is interesting.', 'French is very useful.', 'He looked quite tired.', 'He was about to speak.', 'He was born in Africa.', 'I called Tom for help.', \"I didn't come by taxi.\"]\n",
            "\n",
            "Teacher Forcing Input : ['<sos> 거짓말 하지 마세요, 알았죠?', '<sos> 날 비웃지마.', '<sos> 프랑스어는 매력적이야.', '<sos> 프랑스어는 흥미로워.', '<sos> 프랑스어는 아주 유용해.', '<sos> 그사람은 좀 지쳐보였어.', '<sos> 그사람이 말하려고 했어.', '<sos> 그는 아프리카에서 태어났다.', '<sos> 나는 톰에게 도움을 요청했다.', '<sos> 택시로 안 왔어.']\n",
            "\n",
            "Teacher Forcing Target ['거짓말 하지 마세요, 알았죠? <eos>', '날 비웃지마. <eos>', '프랑스어는 매력적이야. <eos>', '프랑스어는 흥미로워. <eos>', '프랑스어는 아주 유용해. <eos>', '그사람은 좀 지쳐보였어. <eos>', '그사람이 말하려고 했어. <eos>', '그는 아프리카에서 태어났다. <eos>', '나는 톰에게 도움을 요청했다. <eos>', '택시로 안 왔어. <eos>']\n"
          ]
        }
      ],
      "source": [
        "print(\"English :\", eng_texts[1100:1110])\n",
        "print(\"\\nTeacher Forcing Input :\", kor_inputs[1100:1110])\n",
        "print(\"\\nTeacher Forcing Target\", kor_targets[1100:1110])"
      ]
    },
    {
      "cell_type": "markdown",
      "metadata": {
        "id": "9xJ-KzkAG8zK"
      },
      "source": [
        "## Tokenization\n",
        "\n",
        "- language 가 2 개 이므로 언어별로 서로 다른 tokenizer 생성. 따라서, 2 개의 word_index 구성\n",
        "\n",
        "### 영어 input text 의 tokenizer"
      ]
    },
    {
      "cell_type": "code",
      "execution_count": null,
      "metadata": {
        "colab": {
          "base_uri": "https://localhost:8080/"
        },
        "id": "xnBwFkjtG8zO",
        "outputId": "b917d000-505c-4f73-f2e7-9019630fdadd"
      },
      "outputs": [
        {
          "name": "stdout",
          "output_type": "stream",
          "text": [
            "[126, 12, 6, 94, 153]\n",
            "Yesterday was a good day.\n"
          ]
        },
        {
          "data": {
            "text/plain": [
              "['yesterday', 'was', 'a', 'good', 'day']"
            ]
          },
          "execution_count": 9,
          "metadata": {},
          "output_type": "execute_result"
        }
      ],
      "source": [
        "tokenizer_eng = Tokenizer()\n",
        "tokenizer_eng.fit_on_texts(eng_texts)\n",
        "\n",
        "eng_sequences = tokenizer_eng.texts_to_sequences(eng_texts)\n",
        "eng_sequences[1000],eng_texts[1000]"
      ]
    },
    {
      "cell_type": "code",
      "execution_count": null,
      "metadata": {
        "colab": {
          "base_uri": "https://localhost:8080/"
        },
        "id": "IeySmpW7G8zS",
        "outputId": "5d425e4e-76ac-4d4f-df8c-43b121d2ff4b"
      },
      "outputs": [
        {
          "name": "stdout",
          "output_type": "stream",
          "text": [
            "unique input token 수 : 2395\n",
            "Input Text 의 단어 수 : 2396\n",
            "Input Text 의 최대 길이 : 101\n"
          ]
        }
      ],
      "source": [
        "word2idx_eng = tokenizer_eng.word_index\n",
        "print(f'unique input token 수 : {len(word2idx_eng)}')\n",
        "\n",
        "num_words_eng = min(MAX_VOCAB_SIZE, len(word2idx_eng) + 1)\n",
        "print(\"Input Text 의 단어 수 :\", num_words_eng)\n",
        "\n",
        "max_len_eng = max(len(s) for s in eng_sequences)\n",
        "print(\"Input Text 의 최대 길이 :\", max_len_eng)"
      ]
    },
    {
      "cell_type": "markdown",
      "metadata": {
        "id": "UnAyAZK6G8zU"
      },
      "source": [
        "### 한국어 Input Text"
      ]
    },
    {
      "cell_type": "markdown",
      "metadata": {
        "id": "RvBj6QEPG8zX"
      },
      "source": [
        "### Translation language 의 tokenizer\n",
        "- 주의 사항 : $<sos>, <eos>$때문에 special character 를 filtering 하면 안됨"
      ]
    },
    {
      "cell_type": "code",
      "execution_count": null,
      "metadata": {
        "colab": {
          "base_uri": "https://localhost:8080/"
        },
        "id": "7Qqal6P9G8zX",
        "outputId": "46d07a23-3470-4f5e-d1d0-487e907c2730"
      },
      "outputs": [
        {
          "name": "stdout",
          "output_type": "stream",
          "text": [
            "[1, 1164, 87, 2706]\n",
            "[1164, 87, 2706, 2]\n",
            "['<sos>', '어제는', '좋은', '날이었다.']\n",
            "['어제는', '좋은', '날이었다.', '<eos>']\n"
          ]
        }
      ],
      "source": [
        "tokenizer_kor = Tokenizer(filter = '')\n",
        "tokenizer_kor.fit_on_texts(kor_inputs+kor_targets)\n",
        "\n",
        "kor_input_sequences = tokenizer_kor.texts_to_sequences(kor_inputs)\n",
        "kor_target_sequences = tokenizer_kor.texts_to_sequences(kor_targets)\n",
        "\n",
        "kor_input_sequences[1000],kor_target_sequences[1000],kor_inputs[1000],kor_targets[1000]"
      ]
    },
    {
      "cell_type": "code",
      "execution_count": null,
      "metadata": {
        "colab": {
          "base_uri": "https://localhost:8080/"
        },
        "id": "QUXO5Ny7G8zc",
        "outputId": "e8382ad3-ba3b-47e6-a6df-71eed9c5c5d1"
      },
      "outputs": [
        {
          "name": "stdout",
          "output_type": "stream",
          "text": [
            "unique output tokens : 5324\n",
            "Target 언어의 단어 수 : 5325\n",
            "Target 언어의 최대 길이 : 90\n"
          ]
        }
      ],
      "source": [
        "word2idx_kor = tokenizer_kor.word_index\n",
        "print(f'unique output tokens : {len(word2idx_kor)}')\n",
        "\n",
        "num_words_kor = len(word2idx_kor) +1\n",
        "print(\"Target 언어의 단어 수 :\", num_words_kor)\n",
        "\n",
        "max_len_kor = max(len(s) for s in  kor_target_sequences)\n",
        "print(\"Target 언어의 최대 길이 :\", max_len_kor )"
      ]
    },
    {
      "cell_type": "markdown",
      "metadata": {
        "id": "XujZjSHZG8zh"
      },
      "source": [
        "## sequence padding\n",
        "\n",
        "\n",
        "### 주의 사항\n",
        "- encoder 는 thought vector 생성 목적이므로 `pre`(default) 로 padding\n",
        "\n",
        "\n",
        "- decoder 는 teacher forcing 을 해야하므로 `post` 로 padding"
      ]
    },
    {
      "cell_type": "code",
      "execution_count": null,
      "metadata": {
        "colab": {
          "base_uri": "https://localhost:8080/"
        },
        "id": "6xE80jITG8zh",
        "outputId": "1d0fcc5a-559d-4571-b46d-9acca57c1fc9",
        "scrolled": false
      },
      "outputs": [
        {
          "name": "stdout",
          "output_type": "stream",
          "text": [
            "encoder input shape : (3318, 101)\n",
            "encoder_inputs[0] :  [  0   0   0   0   0   0   0   0   0   0   0   0   0   0   0   0   0   0\n",
            "   0   0   0   0   0   0   0   0   0   0   0   0   0   0   0   0   0   0\n",
            "   0   0   0   0   0   0   0   0   0   0   0   0   0   0   0   0   0   0\n",
            "   0   0   0   0   0   0   0   0   0   0   0   0   0   0   0   0   0   0\n",
            "   0   0   0   0   0   0   0   0   0   0   0   0   0   0   0   0   0   0\n",
            "   0   0   0   0   0   0 126  12   6  94 153]\n",
            "\n",
            "decoder input shape : (3318, 90)\n",
            "decoder_inputs[0] :  [   1 1164   87 2706    0    0    0    0    0    0    0    0    0    0\n",
            "    0    0    0    0    0    0    0    0    0    0    0    0    0    0\n",
            "    0    0    0    0    0    0    0    0    0    0    0    0    0    0\n",
            "    0    0    0    0    0    0    0    0    0    0    0    0    0    0\n",
            "    0    0    0    0    0    0    0    0    0    0    0    0    0    0\n",
            "    0    0    0    0    0    0    0    0    0    0    0    0    0    0\n",
            "    0    0    0    0    0    0]\n",
            "\n",
            "encoder target shape : (3318, 90)\n",
            "encoder_targets[0] :  [1164   87 2706    2    0    0    0    0    0    0    0    0    0    0\n",
            "    0    0    0    0    0    0    0    0    0    0    0    0    0    0\n",
            "    0    0    0    0    0    0    0    0    0    0    0    0    0    0\n",
            "    0    0    0    0    0    0    0    0    0    0    0    0    0    0\n",
            "    0    0    0    0    0    0    0    0    0    0    0    0    0    0\n",
            "    0    0    0    0    0    0    0    0    0    0    0    0    0    0\n",
            "    0    0    0    0    0    0]\n"
          ]
        }
      ],
      "source": []
    },
    {
      "cell_type": "markdown",
      "metadata": {
        "id": "TWIdoqQGG8zk"
      },
      "source": [
        "## pretrained word embedding 값을 transfer learning\n",
        "\n",
        "- Embedding layer 의 weight 를 pre-trained model 로 초기화  \n",
        "\n",
        "\n",
        "- glove.6B 의 EMBEDDING_DIM version 사용  \n",
        "    - space 로 구분된 text file\n",
        "    - 첫번째는 word 이고 두번째 이후는 weight vector 값이다\n",
        "\n",
        "\n",
        "- word index 가 1 부터 시작하므로 0 padding 감안하여 num_words 는 len(word2idx)+1, 혹은 MAX_VOCAB_SIZE 중 작은 것 선택  \n",
        "\n",
        "\n",
        "- embedding_dict dictionary : key - word, value - embedding_vector"
      ]
    },
    {
      "cell_type": "code",
      "execution_count": null,
      "metadata": {
        "id": "9_uGq7s8G8zq"
      },
      "outputs": [],
      "source": [
        "def make_embedding(num_words, embedding_dim, tokenizer, max_vocab_size):\n",
        "\n",
        "    embeddings_dict = {}\n",
        "    output = './glove.6B.100d.txt'\n",
        "\n",
        "    with open(output, encoding=\"utf8\") as f:\n",
        "        for i, line in enumerate(f):\n",
        "            values = line.split()            # 각 줄을 읽어와서 word_vector에 저장\n",
        "            word = values[0]                 # 첫번째 값은 word\n",
        "            # 두번째 element 부터 마지막까지 100 개는 해당 단어의 임베딩 벡터의  값\n",
        "            coefs = np.asarray(values[1:], dtype='float32')\n",
        "            embeddings_dict[word] = coefs\n",
        "\n",
        "    embedding_matrix = np.zeros((num_words, embedding_dim))    # zero 로 초기화\n",
        "\n",
        "    print(\"word 갯수 =\", num_words)\n",
        "    print(embedding_matrix.shape)\n",
        "\n",
        "    for word, i in tokenizer.word_index.items():\n",
        "        if i < max_vocab_size:\n",
        "            embedding_vector = embeddings_dict.get(word)\n",
        "            if embedding_vector is not None:         # 해당 word 가 없으면 all zero 로 남겨둠\n",
        "                embedding_matrix[i] = embedding_vector\n",
        "\n",
        "    return embedding_matrix"
      ]
    },
    {
      "cell_type": "code",
      "execution_count": null,
      "metadata": {
        "id": "eHnRPkgFG8zv"
      },
      "outputs": [],
      "source": [
        "num_words = min(MAX_VOCAB_SIZE, len(word2idx_kor) + 1)"
      ]
    },
    {
      "cell_type": "markdown",
      "metadata": {
        "id": "VjrgS3RWG8zy"
      },
      "source": [
        "### embedding layer 작성\n",
        "\n",
        "- encoder 와 decoder 의 Embedding layer 에 pre-trained embedding weight 를 초기값으로 load"
      ]
    },
    {
      "cell_type": "code",
      "execution_count": null,
      "metadata": {
        "colab": {
          "base_uri": "https://localhost:8080/"
        },
        "id": "Lu4ntZP8G8zy",
        "outputId": "7b0ba66c-c686-42b4-9e99-e50d8de39dbe"
      },
      "outputs": [
        {
          "name": "stdout",
          "output_type": "stream",
          "text": [
            "word 갯수 = 5325\n",
            "(5325, 100)\n"
          ]
        }
      ],
      "source": [
        "# create embedding layer\n"
      ]
    },
    {
      "cell_type": "markdown",
      "metadata": {
        "id": "0lTBcpJ7G8z2"
      },
      "source": [
        "## Build model\n",
        "\n",
        "- encoder 와 decoder 의 embedding, lstm 및 dense layer 를 training 할 목적의 model 작성  \n",
        "\n",
        "- encoder 는 decoder 에 states [h, c] 만 전달\n",
        "\n",
        "- prediction 을 위한 model 은 training model 에서 만들어진 layer 들의 weight 를 이용하여 별도 작성  "
      ]
    },
    {
      "cell_type": "markdown",
      "metadata": {
        "id": "uahjsXKTG8z2"
      },
      "source": [
        "## Encoder model 작성  \n",
        "\n",
        "- Training과 Inference State 에서 모두 사용"
      ]
    },
    {
      "cell_type": "code",
      "execution_count": null,
      "metadata": {
        "colab": {
          "base_uri": "https://localhost:8080/"
        },
        "id": "p_q7v3baG8z3",
        "outputId": "58fde100-153a-48de-ec24-20d20bf73a65"
      },
      "outputs": [
        {
          "name": "stdout",
          "output_type": "stream",
          "text": [
            "Model: \"model\"\n",
            "_________________________________________________________________\n",
            " Layer (type)                Output Shape              Param #   \n",
            "=================================================================\n",
            " Encoder_Input (InputLayer)  [(None, 101)]             0         \n",
            "                                                                 \n",
            " embedding (Embedding)       (None, 101, 100)          532500    \n",
            "                                                                 \n",
            " lstm (LSTM)                 [(None, 512),             1255424   \n",
            "                              (None, 512),                       \n",
            "                              (None, 512)]                       \n",
            "                                                                 \n",
            "=================================================================\n",
            "Total params: 1,787,924\n",
            "Trainable params: 1,787,924\n",
            "Non-trainable params: 0\n",
            "_________________________________________________________________\n"
          ]
        }
      ],
      "source": [
        "# Encoder\n",
        "\n",
        "\n",
        "# pre-trained embedding layer 사용\n",
        "\n",
        "\n",
        "# encoder 는 hidden state and cell state 만 decoder 로 전달 --> thought vector\n"
      ]
    },
    {
      "cell_type": "markdown",
      "metadata": {
        "id": "r4tlTKf0G8z5"
      },
      "source": [
        "## Decoder model for Teacher Forcing\n",
        "\n",
        "- Training stage 에서 만 사용"
      ]
    },
    {
      "cell_type": "code",
      "execution_count": null,
      "metadata": {
        "colab": {
          "base_uri": "https://localhost:8080/"
        },
        "id": "83RPsXl-G8z5",
        "outputId": "df45c7d4-89a9-4a5d-88c8-f7bf2859ad1f"
      },
      "outputs": [
        {
          "name": "stdout",
          "output_type": "stream",
          "text": [
            "Model: \"model_1\"\n",
            "__________________________________________________________________________________________________\n",
            " Layer (type)                   Output Shape         Param #     Connected to                     \n",
            "==================================================================================================\n",
            " Encoder_Input (InputLayer)     [(None, 101)]        0           []                               \n",
            "                                                                                                  \n",
            " Decoder_Input (InputLayer)     [(None, 90)]         0           []                               \n",
            "                                                                                                  \n",
            " embedding (Embedding)          (None, 101, 100)     532500      ['Encoder_Input[0][0]']          \n",
            "                                                                                                  \n",
            " embedding_1 (Embedding)        (None, 90, 100)      532500      ['Decoder_Input[0][0]']          \n",
            "                                                                                                  \n",
            " lstm (LSTM)                    [(None, 512),        1255424     ['embedding[0][0]']              \n",
            "                                 (None, 512),                                                     \n",
            "                                 (None, 512)]                                                     \n",
            "                                                                                                  \n",
            " lstm_1 (LSTM)                  [(None, 90, 512),    1255424     ['embedding_1[0][0]',            \n",
            "                                 (None, 512),                     'lstm[0][1]',                   \n",
            "                                 (None, 512)]                     'lstm[0][2]']                   \n",
            "                                                                                                  \n",
            " Decoder_Output (Dense)         (None, 90, 5325)     2731725     ['lstm_1[0][0]']                 \n",
            "                                                                                                  \n",
            "==================================================================================================\n",
            "Total params: 6,307,573\n",
            "Trainable params: 6,307,573\n",
            "Non-trainable params: 0\n",
            "__________________________________________________________________________________________________\n"
          ]
        }
      ],
      "source": [
        "# decoder 는 [h, c] 를 initial state 로 사용\n",
        "\n",
        "\n",
        "# decoder word embedding 은 pre-trained vector 를 사용 않음\n",
        "\n",
        "\n",
        "# decoder for teacher-forcing\n",
        "\n",
        "# initial state = encoder [h, c]\n",
        "\n",
        "# final layer\n",
        "\n",
        "\n",
        "# Teacher-forcing 모델 생성\n",
        "\n",
        "\n",
        "#model compile and train\n"
      ]
    },
    {
      "cell_type": "markdown",
      "metadata": {
        "id": "73rTNuLZIaiy"
      },
      "source": [
        "- teacher-forcing model 시각화"
      ]
    },
    {
      "cell_type": "code",
      "execution_count": null,
      "metadata": {
        "colab": {
          "base_uri": "https://localhost:8080/",
          "height": 427
        },
        "id": "nh-geR7BG8z7",
        "outputId": "5929527b-098d-4bd3-e2d3-64dceb4605be"
      },
      "outputs": [
        {
          "data": {
            "image/png": "[encoded data removed]",
            "text/plain": [
              "<IPython.core.display.Image object>"
            ]
          },
          "execution_count": 19,
          "metadata": {},
          "output_type": "execute_result"
        }
      ],
      "source": []
    },
    {
      "cell_type": "markdown",
      "metadata": {
        "id": "5wbWW3D9IgZi"
      },
      "source": [
        "- teacher-forcing model train"
      ]
    },
    {
      "cell_type": "code",
      "execution_count": null,
      "metadata": {
        "colab": {
          "base_uri": "https://localhost:8080/"
        },
        "id": "NbWbW3NsG8z-",
        "outputId": "1b73f052-9185-4c2b-de3e-9648bd8a6a8e",
        "scrolled": true
      },
      "outputs": [
        {
          "name": "stdout",
          "output_type": "stream",
          "text": [
            "Epoch 1/30\n",
            "42/42 [==============================] - 9s 106ms/step - loss: 0.8603 - accuracy: 0.9280 - val_loss: 0.6490 - val_accuracy: 0.9197\n",
            "Epoch 2/30\n",
            "42/42 [==============================] - 3s 84ms/step - loss: 0.5297 - accuracy: 0.9352 - val_loss: 0.6645 - val_accuracy: 0.9230\n",
            "Epoch 3/30\n",
            "42/42 [==============================] - 3s 83ms/step - loss: 0.3177 - accuracy: 0.9557 - val_loss: 0.7083 - val_accuracy: 0.9211\n",
            "Epoch 4/30\n",
            "42/42 [==============================] - 4s 92ms/step - loss: 0.3012 - accuracy: 0.9585 - val_loss: 0.6443 - val_accuracy: 0.9279\n",
            "Epoch 5/30\n",
            "42/42 [==============================] - 4s 83ms/step - loss: 0.2841 - accuracy: 0.9611 - val_loss: 0.6759 - val_accuracy: 0.9285\n",
            "Epoch 6/30\n",
            "42/42 [==============================] - 3s 83ms/step - loss: 0.2690 - accuracy: 0.9622 - val_loss: 0.6866 - val_accuracy: 0.9302\n",
            "Epoch 7/30\n",
            "42/42 [==============================] - 4s 85ms/step - loss: 0.2600 - accuracy: 0.9623 - val_loss: 0.6557 - val_accuracy: 0.9314\n",
            "Epoch 8/30\n",
            "42/42 [==============================] - 4s 85ms/step - loss: 0.2445 - accuracy: 0.9632 - val_loss: 0.6388 - val_accuracy: 0.9311\n",
            "Epoch 9/30\n",
            "42/42 [==============================] - 4s 85ms/step - loss: 0.2305 - accuracy: 0.9640 - val_loss: 0.6559 - val_accuracy: 0.9323\n",
            "Epoch 10/30\n",
            "42/42 [==============================] - 3s 83ms/step - loss: 0.2166 - accuracy: 0.9648 - val_loss: 0.6691 - val_accuracy: 0.9321\n",
            "Epoch 11/30\n",
            "42/42 [==============================] - 3s 83ms/step - loss: 0.2026 - accuracy: 0.9657 - val_loss: 0.6574 - val_accuracy: 0.9329\n",
            "Epoch 12/30\n",
            "42/42 [==============================] - 3s 82ms/step - loss: 0.1885 - accuracy: 0.9668 - val_loss: 0.6491 - val_accuracy: 0.9329\n",
            "Epoch 13/30\n",
            "42/42 [==============================] - 3s 83ms/step - loss: 0.1743 - accuracy: 0.9681 - val_loss: 0.6552 - val_accuracy: 0.9332\n",
            "Epoch 14/30\n",
            "42/42 [==============================] - 3s 83ms/step - loss: 0.1605 - accuracy: 0.9694 - val_loss: 0.6465 - val_accuracy: 0.9337\n",
            "Epoch 15/30\n",
            "42/42 [==============================] - 3s 83ms/step - loss: 0.1485 - accuracy: 0.9707 - val_loss: 0.6487 - val_accuracy: 0.9338\n",
            "Epoch 16/30\n",
            "42/42 [==============================] - 3s 83ms/step - loss: 0.1337 - accuracy: 0.9727 - val_loss: 0.6492 - val_accuracy: 0.9340\n",
            "Epoch 17/30\n",
            "42/42 [==============================] - 3s 83ms/step - loss: 0.1202 - accuracy: 0.9752 - val_loss: 0.6454 - val_accuracy: 0.9339\n",
            "Epoch 18/30\n",
            "42/42 [==============================] - 3s 82ms/step - loss: 0.1070 - accuracy: 0.9783 - val_loss: 0.6656 - val_accuracy: 0.9341\n",
            "Epoch 19/30\n",
            "42/42 [==============================] - 3s 83ms/step - loss: 0.0943 - accuracy: 0.9814 - val_loss: 0.6595 - val_accuracy: 0.9341\n",
            "Epoch 20/30\n",
            "42/42 [==============================] - 3s 83ms/step - loss: 0.0824 - accuracy: 0.9843 - val_loss: 0.6610 - val_accuracy: 0.9342\n",
            "Epoch 21/30\n",
            "42/42 [==============================] - 4s 90ms/step - loss: 0.0715 - accuracy: 0.9870 - val_loss: 0.6554 - val_accuracy: 0.9339\n",
            "Epoch 22/30\n",
            "42/42 [==============================] - 4s 84ms/step - loss: 0.0613 - accuracy: 0.9890 - val_loss: 0.6690 - val_accuracy: 0.9345\n",
            "Epoch 23/30\n",
            "42/42 [==============================] - 4s 84ms/step - loss: 0.0525 - accuracy: 0.9908 - val_loss: 0.6604 - val_accuracy: 0.9344\n",
            "Epoch 24/30\n",
            "42/42 [==============================] - 3s 83ms/step - loss: 0.0446 - accuracy: 0.9925 - val_loss: 0.6657 - val_accuracy: 0.9341\n",
            "Epoch 25/30\n",
            "42/42 [==============================] - 3s 83ms/step - loss: 0.0378 - accuracy: 0.9937 - val_loss: 0.6572 - val_accuracy: 0.9343\n",
            "Epoch 26/30\n",
            "42/42 [==============================] - 3s 83ms/step - loss: 0.0319 - accuracy: 0.9948 - val_loss: 0.6598 - val_accuracy: 0.9339\n",
            "Epoch 27/30\n",
            "42/42 [==============================] - 3s 83ms/step - loss: 0.0270 - accuracy: 0.9956 - val_loss: 0.6633 - val_accuracy: 0.9338\n",
            "Epoch 28/30\n",
            "42/42 [==============================] - 3s 83ms/step - loss: 0.0226 - accuracy: 0.9961 - val_loss: 0.6774 - val_accuracy: 0.9339\n",
            "Epoch 29/30\n",
            "42/42 [==============================] - 3s 82ms/step - loss: 0.0192 - accuracy: 0.9967 - val_loss: 0.6643 - val_accuracy: 0.9339\n",
            "Epoch 30/30\n",
            "42/42 [==============================] - 3s 83ms/step - loss: 0.0162 - accuracy: 0.9972 - val_loss: 0.6780 - val_accuracy: 0.9342\n"
          ]
        }
      ],
      "source": []
    },
    {
      "cell_type": "markdown",
      "metadata": {
        "id": "XyUjTEg1IkC5"
      },
      "source": [
        "- accuracy, loss 시각화"
      ]
    },
    {
      "cell_type": "code",
      "execution_count": null,
      "metadata": {
        "colab": {
          "base_uri": "https://localhost:8080/",
          "height": 267
        },
        "id": "9BWSgxh3G80A",
        "outputId": "003086e9-2f09-4a37-e2a8-9ed535a63a8f"
      },
      "outputs": [
        {
          "data": {
            "image/png": "[encoded data removed]",
            "text/plain": [
              "<Figure size 864x288 with 2 Axes>"
            ]
          },
          "metadata": {
            "needs_background": "light"
          },
          "output_type": "display_data"
        }
      ],
      "source": [
        "# plot some data\n",
        "\n",
        "# accuracies\n"
      ]
    },
    {
      "cell_type": "markdown",
      "metadata": {
        "id": "7hQEWBi6IpGl"
      },
      "source": [
        "- save model"
      ]
    },
    {
      "cell_type": "code",
      "execution_count": null,
      "metadata": {
        "id": "4G41Pc0MG80C"
      },
      "outputs": [],
      "source": []
    },
    {
      "cell_type": "markdown",
      "metadata": {
        "id": "QXpQ5xqKG80E"
      },
      "source": [
        "## Make Predictions - Inference phase\n",
        "\n",
        "- prediction 을 위한 별도의 decoder model 작성  \n",
        "\n",
        "- 별로 training 없이 앞에서 train 된 weights 를 모두 재사용 한다.\n",
        "\n",
        "- decoder 는 encoder 와 분리되어 구성"
      ]
    },
    {
      "cell_type": "code",
      "execution_count": null,
      "metadata": {
        "colab": {
          "base_uri": "https://localhost:8080/"
        },
        "id": "0JJGUKl-G80E",
        "outputId": "13fe63dc-32a3-44d9-e49d-ccfd04c7bdbb"
      },
      "outputs": [
        {
          "name": "stdout",
          "output_type": "stream",
          "text": [
            "Model: \"model_2\"\n",
            "__________________________________________________________________________________________________\n",
            " Layer (type)                   Output Shape         Param #     Connected to                     \n",
            "==================================================================================================\n",
            " Decoder_input (InputLayer)     [(None, 1)]          0           []                               \n",
            "                                                                                                  \n",
            " embedding_1 (Embedding)        multiple             532500      ['Decoder_input[0][0]']          \n",
            "                                                                                                  \n",
            " Decoder_hidden_h (InputLayer)  [(None, 512)]        0           []                               \n",
            "                                                                                                  \n",
            " Decoder_hidden_c (InputLayer)  [(None, 512)]        0           []                               \n",
            "                                                                                                  \n",
            " lstm_1 (LSTM)                  multiple             1255424     ['embedding_1[1][0]',            \n",
            "                                                                  'Decoder_hidden_h[0][0]',       \n",
            "                                                                  'Decoder_hidden_c[0][0]']       \n",
            "                                                                                                  \n",
            " Decoder_Output (Dense)         multiple             2731725     ['lstm_1[1][0]']                 \n",
            "                                                                                                  \n",
            "==================================================================================================\n",
            "Total params: 4,519,649\n",
            "Trainable params: 4,519,649\n",
            "Non-trainable params: 0\n",
            "__________________________________________________________________________________________________\n"
          ]
        }
      ],
      "source": [
        "# Decoder for inference\n",
        "\n",
        "\n",
        "# output, hidden states 를 저장\n"
      ]
    },
    {
      "cell_type": "markdown",
      "metadata": {
        "id": "HOl_sDoVI1N7"
      },
      "source": [
        "- inference 용 decoder model 시각화"
      ]
    },
    {
      "cell_type": "code",
      "execution_count": null,
      "metadata": {
        "colab": {
          "base_uri": "https://localhost:8080/",
          "height": 277
        },
        "id": "v_QF0GNtG80I",
        "outputId": "722980b3-d322-433b-cdc4-82415f696aee"
      },
      "outputs": [
        {
          "data": {
            "image/png": "[encoded data removed]",
            "text/plain": [
              "<IPython.core.display.Image object>"
            ]
          },
          "execution_count": 24,
          "metadata": {},
          "output_type": "execute_result"
        }
      ],
      "source": []
    },
    {
      "cell_type": "markdown",
      "metadata": {
        "id": "RTLcPG9RI8dR"
      },
      "source": [
        "예측하는 동안 index를 단어를 되돌리기 위한 reverse word2idx dictionary 작성"
      ]
    },
    {
      "cell_type": "markdown",
      "metadata": {
        "id": "fUZfCBF-JKPR"
      },
      "source": [
        "### Translation Inference"
      ]
    },
    {
      "cell_type": "code",
      "execution_count": null,
      "metadata": {
        "colab": {
          "base_uri": "https://localhost:8080/"
        },
        "id": "tlCAy_2MG80N",
        "outputId": "cc500d7b-ac1d-431d-badb-877bdf44db58",
        "scrolled": false
      },
      "outputs": [
        {
          "name": "stdout",
          "output_type": "stream",
          "text": [
            "-\n",
            "Input: Do you two want to be alone?\n",
            "Translation: 너희 둘은 혼자가 되고싶어?\n",
            "-\n",
            "Input: That's my cat.\n",
            "Translation: 저거 내 고양이야.\n",
            "-\n",
            "Input: Tom ran after the dog.\n",
            "Translation: 톰은 개를 쫓아갔어.\n",
            "-\n",
            "Input: I need to finish it.\n",
            "Translation: 나는 그것을 끝내야 해.\n",
            "-\n",
            "Input: Tom is very mature for his age.\n",
            "Translation: 톰은 나이에 비해 매우 매우 커.\n"
          ]
        }
      ],
      "source": [
        "def decode_sequence(input_seq):\n",
        "   # encoder model을 이용하여 input을 state vector로 encoding\n",
        "\n",
        "\n",
        "   # Generate empty target sequence of length 1.\n",
        "\n",
        "\n",
        "   # target sequence 의 첫번째 character 를 start character (<sos>) 로 설정\n",
        "\n",
        "\n",
        "   # <eos> token이 decode 에서 생성되면 loop 에서 break\n",
        "\n",
        "\n",
        "   # 번역문 생성\n",
        "    output_sentence = []\n",
        "    for _ in range(max_len_kor):\n",
        "\n",
        "\n",
        "       # argmax 로 가장 확률 높은 단어 선택 --> greedy selection\n",
        "\n",
        "\n",
        "        if eos == idx:  # <EOS> token\n",
        "            break\n",
        "\n",
        "        if idx > 0:  # idx 0 은 zero padding 된 sequence 이므로 ''\n",
        "\n",
        "\n",
        "        # 생성된 word 를 decoder 의 다음 input 으로 사용\n",
        "\n",
        "\n",
        "       # Update states\n",
        "\n",
        "\n",
        "    return ' '.join(output_sentence)\n",
        "\n",
        "for _ in range(5):\n"
      ]
    },
    {
      "cell_type": "markdown",
      "metadata": {
        "id": "Qjr59AvAJTqF"
      },
      "source": [
        "### 임의의 영어 입력을 처리하는 영한 번역 함수"
      ]
    },
    {
      "cell_type": "code",
      "execution_count": null,
      "metadata": {
        "id": "MxL71Hf4Y53i"
      },
      "outputs": [],
      "source": [
        "def Eng_Kor_translation(txt):\n"
      ]
    },
    {
      "cell_type": "code",
      "execution_count": null,
      "metadata": {
        "colab": {
          "base_uri": "https://localhost:8080/"
        },
        "id": "8t8TnjTUZJiE",
        "outputId": "6f9913eb-5201-483a-fec2-9dde447b4ac2"
      },
      "outputs": [
        {
          "name": "stdout",
          "output_type": "stream",
          "text": [
            "----\n",
            "Input: Your lips are red.\n",
            "Translation: 네 입술 빨개.\n",
            "----\n",
            "Input: French is interesting.\n",
            "Translation: 프랑스어는 흥미로워.\n",
            "----\n",
            "Input: I like you.\n",
            "Translation: 너 널 좋아해.\n",
            "----\n",
            "Input: Let's go to home.\n",
            "Translation: 나는 좀 가고 마.\n"
          ]
        }
      ],
      "source": [
        "test_text = [\n",
        "       \"Your lips are red.\",\n",
        "       \"French is interesting.\",\n",
        "       \"I like you.\",\n",
        "       \"Let's go to home.\"\n",
        "]\n",
        "for text in test_text:\n",
        "    translation = Eng_Kor_translation(text)\n",
        "    print('----')\n",
        "    print('Input:', text)\n",
        "    print('Translation:', translation)"
      ]
    },
    {
      "cell_type": "code",
      "execution_count": null,
      "metadata": {
        "id": "cWDt0zKTG80R"
      },
      "outputs": [],
      "source": []
    }
  ],
  "metadata": {
    "accelerator": "GPU",
    "colab": {
      "provenance": [],
      "include_colab_link": true
    },
    "kernelspec": {
      "display_name": "Python 3 (ipykernel)",
      "language": "python",
      "name": "python3"
    },
    "language_info": {
      "codemirror_mode": {
        "name": "ipython",
        "version": 3
      },
      "file_extension": ".py",
      "mimetype": "text/x-python",
      "name": "python",
      "nbconvert_exporter": "python",
      "pygments_lexer": "ipython3",
      "version": "3.8.12"
    }
  },
  "nbformat": 4,
  "nbformat_minor": 0
}