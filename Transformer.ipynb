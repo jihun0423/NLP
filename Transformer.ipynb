{
  "cells": [
    {
      "cell_type": "markdown",
      "metadata": {
        "id": "view-in-github",
        "colab_type": "text"
      },
      "source": [
        "<a href=\"https://colab.research.google.com/github/jihun0423/NLP/blob/main/Transformer.ipynb\" target=\"_parent\"><img src=\"https://colab.research.google.com/assets/colab-badge.svg\" alt=\"Open In Colab\"/></a>"
      ]
    },
    {
      "cell_type": "markdown",
      "metadata": {
        "id": "J0Qjg6vuaHNt"
      },
      "source": [
        "# 130. Transformer model for language understanding  \n",
        "\n",
        "<img src=https://www.tensorflow.org/images/tutorials/transformer/transformer.png width=500>"
      ]
    },
    {
      "cell_type": "markdown",
      "metadata": {
        "id": "M-f8TnGpE_ex"
      },
      "source": [
        "# Transformer model 작성 from scratch\n",
        "\n",
        "- Portugal - English translation model 작성\n",
        "\n",
        "- text genertion 및 attention 이 선수 지식임  \n",
        "\n",
        "- Transformer model 의 핵심 idea 는 self-attention  \n",
        "\n",
        "- Transformer 는 self-attention layer 를 쌓아서 구성 (RNN, CNN 사용 않음)    \n",
        "    - Scaled dot product attention\n",
        "    <img src=\"https://www.tutorialexample.com/wp-content/uploads/2020/10/Scaled-Dot-Product-Attention.png\" width=\"400\" />\n",
        "   \n",
        "    - Multi-head attention\n",
        "<img src=\"https://wikidocs.net/images/page/159310/mha_img_original.png\" width=\"400\" />\n",
        "    \n",
        "\n",
        "- stacked attention layer 의 장점  \n",
        "    - data 간의 시간적, 공간적 관계를 배제하여 multi-processing 가능  \n",
        "    - RNN, CNN layer 를 거치지 않아도, 떨어져 있는 item 들이 서로의 output 에 영향을 끼칠 수 있다.\n",
        "    - 긴 문장내의 상호 관계를 학습할 수 있다. (모든 sequential task 의 도전 과제)  \n",
        "    \n",
        "- 단점  \n",
        "    - 시계열 자료의 경우 RNN 처럼 특정 time-step 의 output 계산을 위해서는 input 과 현재의 hidden state 만으로는 안되고 전체 history 가 있어야 함\n",
        "    - 단어의 위치 정보를 추가해 주어야 한다. (positional encoding)\n",
        "\n",
        "이 노트에서 모델을 학습 한 후 포르투갈어 문장을 입력하고 영어 번역을 반환 할 수 있음.\n",
        "\n",
        "<img src=\"https://www.tensorflow.org/images/tutorials/transformer/attention_map_portuguese.png\" width=\"1000\" alt=\"Attention heatmap\">"
      ]
    },
    {
      "cell_type": "code",
      "execution_count": null,
      "metadata": {
        "colab": {
          "base_uri": "https://localhost:8080/"
        },
        "id": "QxWrFIcfchdC",
        "outputId": "36206a8b-9c56-4170-c8e6-0510f43c8e30"
      },
      "outputs": [
        {
          "name": "stdout",
          "output_type": "stream",
          "text": [
            "Looking in indexes: https://pypi.org/simple, https://us-python.pkg.dev/colab-wheels/public/simple/\n",
            "Requirement already satisfied: tensorflow_datasets in /usr/local/lib/python3.7/dist-packages (4.6.0)\n",
            "Requirement already satisfied: six in /usr/local/lib/python3.7/dist-packages (from tensorflow_datasets) (1.15.0)\n",
            "Requirement already satisfied: requests>=2.19.0 in /usr/local/lib/python3.7/dist-packages (from tensorflow_datasets) (2.23.0)\n",
            "Requirement already satisfied: dill in /usr/local/lib/python3.7/dist-packages (from tensorflow_datasets) (0.3.6)\n",
            "Requirement already satisfied: tqdm in /usr/local/lib/python3.7/dist-packages (from tensorflow_datasets) (4.64.1)\n",
            "Requirement already satisfied: protobuf>=3.12.2 in /usr/local/lib/python3.7/dist-packages (from tensorflow_datasets) (3.19.6)\n",
            "Requirement already satisfied: numpy in /usr/local/lib/python3.7/dist-packages (from tensorflow_datasets) (1.21.6)\n",
            "Requirement already satisfied: importlib-resources in /usr/local/lib/python3.7/dist-packages (from tensorflow_datasets) (5.10.0)\n",
            "Requirement already satisfied: tensorflow-metadata in /usr/local/lib/python3.7/dist-packages (from tensorflow_datasets) (1.11.0)\n",
            "Requirement already satisfied: typing-extensions in /usr/local/lib/python3.7/dist-packages (from tensorflow_datasets) (4.1.1)\n",
            "Requirement already satisfied: termcolor in /usr/local/lib/python3.7/dist-packages (from tensorflow_datasets) (2.1.0)\n",
            "Requirement already satisfied: toml in /usr/local/lib/python3.7/dist-packages (from tensorflow_datasets) (0.10.2)\n",
            "Requirement already satisfied: etils[epath] in /usr/local/lib/python3.7/dist-packages (from tensorflow_datasets) (0.9.0)\n",
            "Requirement already satisfied: absl-py in /usr/local/lib/python3.7/dist-packages (from tensorflow_datasets) (1.3.0)\n",
            "Requirement already satisfied: promise in /usr/local/lib/python3.7/dist-packages (from tensorflow_datasets) (2.3)\n",
            "Requirement already satisfied: urllib3!=1.25.0,!=1.25.1,<1.26,>=1.21.1 in /usr/local/lib/python3.7/dist-packages (from requests>=2.19.0->tensorflow_datasets) (1.24.3)\n",
            "Requirement already satisfied: chardet<4,>=3.0.2 in /usr/local/lib/python3.7/dist-packages (from requests>=2.19.0->tensorflow_datasets) (3.0.4)\n",
            "Requirement already satisfied: certifi>=2017.4.17 in /usr/local/lib/python3.7/dist-packages (from requests>=2.19.0->tensorflow_datasets) (2022.9.24)\n",
            "Requirement already satisfied: idna<3,>=2.5 in /usr/local/lib/python3.7/dist-packages (from requests>=2.19.0->tensorflow_datasets) (2.10)\n",
            "Requirement already satisfied: zipp in /usr/local/lib/python3.7/dist-packages (from etils[epath]->tensorflow_datasets) (3.10.0)\n",
            "Requirement already satisfied: googleapis-common-protos<2,>=1.52.0 in /usr/local/lib/python3.7/dist-packages (from tensorflow-metadata->tensorflow_datasets) (1.57.0)\n",
            "Looking in indexes: https://pypi.org/simple, https://us-python.pkg.dev/colab-wheels/public/simple/\n",
            "Requirement already satisfied: tensorflow-text in /usr/local/lib/python3.7/dist-packages (2.11.0)\n",
            "Requirement already satisfied: tensorflow<2.12,>=2.11.0 in /usr/local/lib/python3.7/dist-packages (from tensorflow-text) (2.11.0)\n",
            "Requirement already satisfied: tensorflow-hub>=0.8.0 in /usr/local/lib/python3.7/dist-packages (from tensorflow-text) (0.12.0)\n",
            "Requirement already satisfied: tensorflow-estimator<2.12,>=2.11.0 in /usr/local/lib/python3.7/dist-packages (from tensorflow<2.12,>=2.11.0->tensorflow-text) (2.11.0)\n",
            "Requirement already satisfied: absl-py>=1.0.0 in /usr/local/lib/python3.7/dist-packages (from tensorflow<2.12,>=2.11.0->tensorflow-text) (1.3.0)\n",
            "Requirement already satisfied: grpcio<2.0,>=1.24.3 in /usr/local/lib/python3.7/dist-packages (from tensorflow<2.12,>=2.11.0->tensorflow-text) (1.50.0)\n",
            "Requirement already satisfied: flatbuffers>=2.0 in /usr/local/lib/python3.7/dist-packages (from tensorflow<2.12,>=2.11.0->tensorflow-text) (22.10.26)\n",
            "Requirement already satisfied: google-pasta>=0.1.1 in /usr/local/lib/python3.7/dist-packages (from tensorflow<2.12,>=2.11.0->tensorflow-text) (0.2.0)\n",
            "Requirement already satisfied: tensorboard<2.12,>=2.11 in /usr/local/lib/python3.7/dist-packages (from tensorflow<2.12,>=2.11.0->tensorflow-text) (2.11.0)\n",
            "Requirement already satisfied: six>=1.12.0 in /usr/local/lib/python3.7/dist-packages (from tensorflow<2.12,>=2.11.0->tensorflow-text) (1.15.0)\n",
            "Requirement already satisfied: termcolor>=1.1.0 in /usr/local/lib/python3.7/dist-packages (from tensorflow<2.12,>=2.11.0->tensorflow-text) (2.1.0)\n",
            "Requirement already satisfied: wrapt>=1.11.0 in /usr/local/lib/python3.7/dist-packages (from tensorflow<2.12,>=2.11.0->tensorflow-text) (1.14.1)\n",
            "Requirement already satisfied: numpy>=1.20 in /usr/local/lib/python3.7/dist-packages (from tensorflow<2.12,>=2.11.0->tensorflow-text) (1.21.6)\n",
            "Requirement already satisfied: keras<2.12,>=2.11.0 in /usr/local/lib/python3.7/dist-packages (from tensorflow<2.12,>=2.11.0->tensorflow-text) (2.11.0)\n",
            "Requirement already satisfied: opt-einsum>=2.3.2 in /usr/local/lib/python3.7/dist-packages (from tensorflow<2.12,>=2.11.0->tensorflow-text) (3.3.0)\n",
            "Requirement already satisfied: protobuf<3.20,>=3.9.2 in /usr/local/lib/python3.7/dist-packages (from tensorflow<2.12,>=2.11.0->tensorflow-text) (3.19.6)\n",
            "Requirement already satisfied: h5py>=2.9.0 in /usr/local/lib/python3.7/dist-packages (from tensorflow<2.12,>=2.11.0->tensorflow-text) (3.1.0)\n",
            "Requirement already satisfied: setuptools in /usr/local/lib/python3.7/dist-packages (from tensorflow<2.12,>=2.11.0->tensorflow-text) (57.4.0)\n",
            "Requirement already satisfied: tensorflow-io-gcs-filesystem>=0.23.1 in /usr/local/lib/python3.7/dist-packages (from tensorflow<2.12,>=2.11.0->tensorflow-text) (0.27.0)\n",
            "Requirement already satisfied: gast<=0.4.0,>=0.2.1 in /usr/local/lib/python3.7/dist-packages (from tensorflow<2.12,>=2.11.0->tensorflow-text) (0.4.0)\n",
            "Requirement already satisfied: astunparse>=1.6.0 in /usr/local/lib/python3.7/dist-packages (from tensorflow<2.12,>=2.11.0->tensorflow-text) (1.6.3)\n",
            "Requirement already satisfied: packaging in /usr/local/lib/python3.7/dist-packages (from tensorflow<2.12,>=2.11.0->tensorflow-text) (21.3)\n",
            "Requirement already satisfied: libclang>=13.0.0 in /usr/local/lib/python3.7/dist-packages (from tensorflow<2.12,>=2.11.0->tensorflow-text) (14.0.6)\n",
            "Requirement already satisfied: typing-extensions>=3.6.6 in /usr/local/lib/python3.7/dist-packages (from tensorflow<2.12,>=2.11.0->tensorflow-text) (4.1.1)\n",
            "Requirement already satisfied: wheel<1.0,>=0.23.0 in /usr/local/lib/python3.7/dist-packages (from astunparse>=1.6.0->tensorflow<2.12,>=2.11.0->tensorflow-text) (0.38.4)\n",
            "Requirement already satisfied: cached-property in /usr/local/lib/python3.7/dist-packages (from h5py>=2.9.0->tensorflow<2.12,>=2.11.0->tensorflow-text) (1.5.2)\n",
            "Requirement already satisfied: google-auth<3,>=1.6.3 in /usr/local/lib/python3.7/dist-packages (from tensorboard<2.12,>=2.11->tensorflow<2.12,>=2.11.0->tensorflow-text) (2.14.1)\n",
            "Requirement already satisfied: werkzeug>=1.0.1 in /usr/local/lib/python3.7/dist-packages (from tensorboard<2.12,>=2.11->tensorflow<2.12,>=2.11.0->tensorflow-text) (1.0.1)\n",
            "Requirement already satisfied: tensorboard-data-server<0.7.0,>=0.6.0 in /usr/local/lib/python3.7/dist-packages (from tensorboard<2.12,>=2.11->tensorflow<2.12,>=2.11.0->tensorflow-text) (0.6.1)\n",
            "Requirement already satisfied: markdown>=2.6.8 in /usr/local/lib/python3.7/dist-packages (from tensorboard<2.12,>=2.11->tensorflow<2.12,>=2.11.0->tensorflow-text) (3.4.1)\n",
            "Requirement already satisfied: requests<3,>=2.21.0 in /usr/local/lib/python3.7/dist-packages (from tensorboard<2.12,>=2.11->tensorflow<2.12,>=2.11.0->tensorflow-text) (2.23.0)\n",
            "Requirement already satisfied: tensorboard-plugin-wit>=1.6.0 in /usr/local/lib/python3.7/dist-packages (from tensorboard<2.12,>=2.11->tensorflow<2.12,>=2.11.0->tensorflow-text) (1.8.1)\n",
            "Requirement already satisfied: google-auth-oauthlib<0.5,>=0.4.1 in /usr/local/lib/python3.7/dist-packages (from tensorboard<2.12,>=2.11->tensorflow<2.12,>=2.11.0->tensorflow-text) (0.4.6)\n",
            "Requirement already satisfied: pyasn1-modules>=0.2.1 in /usr/local/lib/python3.7/dist-packages (from google-auth<3,>=1.6.3->tensorboard<2.12,>=2.11->tensorflow<2.12,>=2.11.0->tensorflow-text) (0.2.8)\n",
            "Requirement already satisfied: cachetools<6.0,>=2.0.0 in /usr/local/lib/python3.7/dist-packages (from google-auth<3,>=1.6.3->tensorboard<2.12,>=2.11->tensorflow<2.12,>=2.11.0->tensorflow-text) (5.2.0)\n",
            "Requirement already satisfied: rsa<5,>=3.1.4 in /usr/local/lib/python3.7/dist-packages (from google-auth<3,>=1.6.3->tensorboard<2.12,>=2.11->tensorflow<2.12,>=2.11.0->tensorflow-text) (4.9)\n",
            "Requirement already satisfied: requests-oauthlib>=0.7.0 in /usr/local/lib/python3.7/dist-packages (from google-auth-oauthlib<0.5,>=0.4.1->tensorboard<2.12,>=2.11->tensorflow<2.12,>=2.11.0->tensorflow-text) (1.3.1)\n",
            "Requirement already satisfied: importlib-metadata>=4.4 in /usr/local/lib/python3.7/dist-packages (from markdown>=2.6.8->tensorboard<2.12,>=2.11->tensorflow<2.12,>=2.11.0->tensorflow-text) (4.13.0)\n",
            "Requirement already satisfied: zipp>=0.5 in /usr/local/lib/python3.7/dist-packages (from importlib-metadata>=4.4->markdown>=2.6.8->tensorboard<2.12,>=2.11->tensorflow<2.12,>=2.11.0->tensorflow-text) (3.10.0)\n",
            "Requirement already satisfied: pyasn1<0.5.0,>=0.4.6 in /usr/local/lib/python3.7/dist-packages (from pyasn1-modules>=0.2.1->google-auth<3,>=1.6.3->tensorboard<2.12,>=2.11->tensorflow<2.12,>=2.11.0->tensorflow-text) (0.4.8)\n",
            "Requirement already satisfied: chardet<4,>=3.0.2 in /usr/local/lib/python3.7/dist-packages (from requests<3,>=2.21.0->tensorboard<2.12,>=2.11->tensorflow<2.12,>=2.11.0->tensorflow-text) (3.0.4)\n",
            "Requirement already satisfied: idna<3,>=2.5 in /usr/local/lib/python3.7/dist-packages (from requests<3,>=2.21.0->tensorboard<2.12,>=2.11->tensorflow<2.12,>=2.11.0->tensorflow-text) (2.10)\n",
            "Requirement already satisfied: certifi>=2017.4.17 in /usr/local/lib/python3.7/dist-packages (from requests<3,>=2.21.0->tensorboard<2.12,>=2.11->tensorflow<2.12,>=2.11.0->tensorflow-text) (2022.9.24)\n",
            "Requirement already satisfied: urllib3!=1.25.0,!=1.25.1,<1.26,>=1.21.1 in /usr/local/lib/python3.7/dist-packages (from requests<3,>=2.21.0->tensorboard<2.12,>=2.11->tensorflow<2.12,>=2.11.0->tensorflow-text) (1.24.3)\n",
            "Requirement already satisfied: oauthlib>=3.0.0 in /usr/local/lib/python3.7/dist-packages (from requests-oauthlib>=0.7.0->google-auth-oauthlib<0.5,>=0.4.1->tensorboard<2.12,>=2.11->tensorflow<2.12,>=2.11.0->tensorflow-text) (3.2.2)\n",
            "Requirement already satisfied: pyparsing!=3.0.5,>=2.0.2 in /usr/local/lib/python3.7/dist-packages (from packaging->tensorflow<2.12,>=2.11.0->tensorflow-text) (3.0.9)\n"
          ]
        }
      ],
      "source": [
        "!pip install tensorflow_datasets\n",
        "!pip install -U tensorflow-text"
      ]
    },
    {
      "cell_type": "code",
      "execution_count": null,
      "metadata": {
        "id": "JjJJyJTZYebt"
      },
      "outputs": [],
      "source": [
        "import collections\n",
        "import logging\n",
        "import os\n",
        "import pathlib\n",
        "import re\n",
        "import string\n",
        "import sys\n",
        "import time\n",
        "\n",
        "import numpy as np\n",
        "import matplotlib.pyplot as plt\n",
        "\n",
        "import tensorflow_datasets as tfds\n",
        "import tensorflow_text as text\n",
        "import tensorflow as tf"
      ]
    },
    {
      "cell_type": "code",
      "execution_count": null,
      "metadata": {
        "id": "PI5BH3BxrbJe"
      },
      "outputs": [],
      "source": [
        "logging.getLogger('tensorflow').setLevel(logging.ERROR)  # suppress warnings"
      ]
    },
    {
      "cell_type": "markdown",
      "metadata": {
        "id": "fd1NWMxjfsDd"
      },
      "source": [
        "## Setup input pipeline"
      ]
    },
    {
      "cell_type": "markdown",
      "metadata": {
        "id": "t4_Qt8W1hJE_"
      },
      "source": [
        "[TFDS](https://www.tensorflow.org/datasets) 를 이용하여 [TED Talks Open Translation Project](https://www.ted.com/participate/translate) 로 부터 [Portugese-English translation dataset](https://github.com/neulab/word-embeddings-for-nmt) 을 load.\n",
        "\n",
        "dataset 은 약 50000 개의 training example 과 1100 개의 validation examples, 2000 개의 test example 로 구성\n"
      ]
    },
    {
      "cell_type": "code",
      "execution_count": null,
      "metadata": {
        "colab": {
          "base_uri": "https://localhost:8080/"
        },
        "id": "8q9t4FmN96eN",
        "outputId": "337c7e99-cd32-4ec9-ce1d-86c3fc6b93d1"
      },
      "outputs": [
        {
          "name": "stdout",
          "output_type": "stream",
          "text": [
            "{'train': <PrefetchDataset element_spec=(TensorSpec(shape=(), dtype=tf.string, name=None), TensorSpec(shape=(), dtype=tf.string, name=None))>, 'validation': <PrefetchDataset element_spec=(TensorSpec(shape=(), dtype=tf.string, name=None), TensorSpec(shape=(), dtype=tf.string, name=None))>, 'test': <PrefetchDataset element_spec=(TensorSpec(shape=(), dtype=tf.string, name=None), TensorSpec(shape=(), dtype=tf.string, name=None))>}\n",
            "================================================================================\n",
            "tfds.core.DatasetInfo(\n",
            "    name='ted_hrlr_translate',\n",
            "    full_name='ted_hrlr_translate/pt_to_en/1.0.0',\n",
            "    description=\"\"\"\n",
            "    Data sets derived from TED talk transcripts for comparing similar language pairs\n",
            "    where one is high resource and the other is low resource.\n",
            "    \"\"\",\n",
            "    config_description=\"\"\"\n",
            "    Translation dataset from pt to en in plain text.\n",
            "    \"\"\",\n",
            "    homepage='https://github.com/neulab/word-embeddings-for-nmt',\n",
            "    data_path='~/tensorflow_datasets/ted_hrlr_translate/pt_to_en/1.0.0',\n",
            "    file_format=tfrecord,\n",
            "    download_size=124.94 MiB,\n",
            "    dataset_size=10.89 MiB,\n",
            "    features=Translation({\n",
            "        'en': Text(shape=(), dtype=tf.string),\n",
            "        'pt': Text(shape=(), dtype=tf.string),\n",
            "    }),\n",
            "    supervised_keys=('pt', 'en'),\n",
            "    disable_shuffling=False,\n",
            "    splits={\n",
            "        'test': <SplitInfo num_examples=1803, num_shards=1>,\n",
            "        'train': <SplitInfo num_examples=51785, num_shards=1>,\n",
            "        'validation': <SplitInfo num_examples=1193, num_shards=1>,\n",
            "    },\n",
            "    citation=\"\"\"@inproceedings{Ye2018WordEmbeddings,\n",
            "      author  = {Ye, Qi and Devendra, Sachan and Matthieu, Felix and Sarguna, Padmanabhan and Graham, Neubig},\n",
            "      title   = {When and Why are pre-trained word embeddings useful for Neural Machine Translation},\n",
            "      booktitle = {HLT-NAACL},\n",
            "      year    = {2018},\n",
            "      }\"\"\",\n",
            ")\n"
          ]
        }
      ],
      "source": [
        "examples, metadata = tfds.load('ted_hrlr_translate/pt_to_en', with_info=True,\n",
        "                               as_supervised=True)\n",
        "train_examples, val_examples = examples['train'], examples['validation']\n",
        "\n",
        "print(examples)\n",
        "print(\"=\" * 80)\n",
        "print(metadata)"
      ]
    },
    {
      "cell_type": "code",
      "execution_count": null,
      "metadata": {
        "colab": {
          "base_uri": "https://localhost:8080/"
        },
        "id": "pUG08lE0gRGK",
        "outputId": "7592398d-192d-427f-e6ef-b2af88beb253"
      },
      "outputs": [
        {
          "name": "stdout",
          "output_type": "stream",
          "text": [
            "train 51785\n",
            "validation 1193\n",
            "test 1803\n"
          ]
        }
      ],
      "source": [
        "for k, v in metadata.splits.items():\n",
        "    print(k, v.num_examples)"
      ]
    },
    {
      "cell_type": "markdown",
      "metadata": {
        "id": "kyfuNp63J4FF"
      },
      "source": [
        "- 이 데이터세트는 포르투갈어/영어 문장 쌍을 생성합니다"
      ]
    },
    {
      "cell_type": "code",
      "execution_count": null,
      "metadata": {
        "colab": {
          "base_uri": "https://localhost:8080/"
        },
        "id": "tCEVsCdwdcsq",
        "outputId": "7037f84c-dc12-4c2f-93a1-4213cb8fc74a"
      },
      "outputs": [
        {
          "name": "stdout",
          "output_type": "stream",
          "text": [
            "e quando melhoramos a procura , tiramos a única vantagem da impressão , que é a serendipidade .\n",
            "mas e se estes fatores fossem ativos ?\n",
            "mas eles não tinham a curiosidade de me testar .\n",
            "\n",
            "and when you improve searchability , you actually take away the one advantage of print , which is serendipity .\n",
            "but what if it were active ?\n",
            "but they did n't test for curiosity .\n"
          ]
        }
      ],
      "source": [
        "for pt_examples, en_examples in train_examples.batch(3).take(1):\n",
        "  for pt in pt_examples.numpy():\n",
        "    print(pt.decode('utf-8'))\n",
        "\n",
        "  print()\n",
        "\n",
        "  for en in en_examples.numpy():\n",
        "    print(en.decode('utf-8'))"
      ]
    },
    {
      "cell_type": "markdown",
      "metadata": {
        "id": "RCEKotqosGfq"
      },
      "source": [
        "## Text tokenization & detokenization\n",
        "\n",
        "텍스트를 embedding에 대한 인덱스인 토큰 ID 시퀀스로 변환합니다.\n",
        "\n",
        "이 데이터 세트에 최적화된 subword tokenizer(text.BertTokenizer)를 빌드하고 저장된 모델로 내보냅니다.\n",
        "\n",
        "Saved_model을 다운로드하고 압축을 풀고 가져옵니다.\n",
        "\n",
        "tokenizer model 작성 과정은 [사용자 정의 tokenizer](https://www.tensorflow.org/text/guide/subwords_tokenizer) 참조"
      ]
    },
    {
      "cell_type": "code",
      "execution_count": null,
      "metadata": {
        "colab": {
          "base_uri": "https://localhost:8080/",
          "height": 35
        },
        "id": "KVBg5Q8tBk5z",
        "outputId": "92d0d0d0-9ea6-45e7-90b0-9bf2801d6309"
      },
      "outputs": [
        {
          "data": {
            "application/vnd.google.colaboratory.intrinsic+json": {
              "type": "string"
            },
            "text/plain": [
              "'./ted_hrlr_translate_pt_en_converter.zip'"
            ]
          },
          "execution_count": 8,
          "metadata": {},
          "output_type": "execute_result"
        }
      ],
      "source": [
        "# 사전 훈련된 Subword Tokenizer download\n",
        "model_name = \"ted_hrlr_translate_pt_en_converter\"\n",
        "tf.keras.utils.get_file(\n",
        "    f\"{model_name}.zip\",\n",
        "    f\"https://storage.googleapis.com/download.tensorflow.org/models/{model_name}.zip\",\n",
        "    cache_dir='.', cache_subdir='', extract=True\n",
        ")"
      ]
    },
    {
      "cell_type": "code",
      "execution_count": null,
      "metadata": {
        "id": "F4WFH1X-hUwo"
      },
      "outputs": [],
      "source": [
        "tokenizers = tf.saved_model.load(model_name)"
      ]
    },
    {
      "cell_type": "markdown",
      "metadata": {
        "id": "xoMWLKDEjN2g"
      },
      "source": [
        "tf.saved_model에는 두 개의 텍스트 토크나이저가 포함되어 있습니다. 하나는 영어용이고 다른 하나는 포르투갈어용입니다. 둘 다 동일한 방법을 사용합니다."
      ]
    },
    {
      "cell_type": "code",
      "execution_count": null,
      "metadata": {
        "colab": {
          "base_uri": "https://localhost:8080/"
        },
        "id": "0c2IS3syhuqP",
        "outputId": "a9f4c16c-f76c-476f-8441-288395fd8cda"
      },
      "outputs": [
        {
          "data": {
            "text/plain": [
              "(<tensorflow.python.saved_model.load.Loader._recreate_base_user_object.<locals>._UserObject at 0x7fd23c4ba410>,\n",
              " <tensorflow.python.saved_model.load.Loader._recreate_base_user_object.<locals>._UserObject at 0x7fd23c4ba490>)"
            ]
          },
          "execution_count": 10,
          "metadata": {},
          "output_type": "execute_result"
        }
      ],
      "source": [
        "tokenizers.en, tokenizers.pt"
      ]
    },
    {
      "cell_type": "markdown",
      "metadata": {
        "id": "hoT6oE2fL7ik"
      },
      "source": [
        "tokenizer에 포함된 method들은 다음과 같습니다."
      ]
    },
    {
      "cell_type": "code",
      "execution_count": null,
      "metadata": {
        "colab": {
          "base_uri": "https://localhost:8080/"
        },
        "id": "o4j4dhvZhkVM",
        "outputId": "3a17ba24-491e-4920-e45f-74d3f84af2d9"
      },
      "outputs": [
        {
          "data": {
            "text/plain": [
              "['detokenize',\n",
              " 'get_reserved_tokens',\n",
              " 'get_vocab_path',\n",
              " 'get_vocab_size',\n",
              " 'lookup',\n",
              " 'tokenize',\n",
              " 'tokenizer',\n",
              " 'vocab']"
            ]
          },
          "execution_count": 11,
          "metadata": {},
          "output_type": "execute_result"
        }
      ],
      "source": [
        "[item for item in dir(tokenizers.en) if not item.startswith('_')]"
      ]
    },
    {
      "cell_type": "markdown",
      "metadata": {
        "id": "llkpFVMNjZbW"
      },
      "source": [
        "tokenize 메서드는 문자열 배치를 토큰 ID의 padded batch로 변환합니다. 이 방법은 구두점, 소문자를 분할하고 토큰화하기 전에 입력을 유니코드로 정규화합니다.\n",
        "\n",
        "detokenize 메서드는 tokenized ID를 사람이 읽을 수 있는 텍스트로 다시 변환 합니다."
      ]
    },
    {
      "cell_type": "code",
      "execution_count": null,
      "metadata": {
        "colab": {
          "base_uri": "https://localhost:8080/"
        },
        "id": "eE6KGyoEiN0r",
        "outputId": "9bf0eb0a-0a7e-4999-cfe5-6b6368265f42"
      },
      "outputs": [
        {
          "name": "stdout",
          "output_type": "stream",
          "text": [
            "and when you improve searchability , you actually take away the one advantage of print , which is serendipity .\n",
            "but what if it were active ?\n",
            "but they did n't test for curiosity .\n",
            "[2, 72, 117, 79, 1259, 1491, 2362, 13, 79, 150, 184, 311, 71, 103, 2308, 74, 2679, 13, 148, 80, 55, 4840, 1434, 2423, 540, 15, 3]\n",
            "[2, 87, 90, 107, 76, 129, 1852, 30, 3]\n",
            "[2, 87, 83, 149, 50, 9, 56, 664, 85, 2512, 15, 3]\n",
            "and when you improve searchability , you actually take away the one advantage of print , which is serendipity .\n",
            "but what if it were active ?\n",
            "but they did n ' t test for curiosity .\n"
          ]
        }
      ],
      "source": [
        "for en in en_examples.numpy():\n",
        "  print(en.decode('utf-8'))\n",
        "\n",
        "encoded = tokenizers.en.tokenize(en_examples)\n",
        "for row in encoded.to_list():\n",
        "  print(row)\n",
        "\n",
        "round_trip = tokenizers.en.detokenize(encoded)\n",
        "for line in round_trip.numpy():\n",
        "  print(line.decode('utf-8'))"
      ]
    },
    {
      "cell_type": "markdown",
      "metadata": {
        "id": "mG-cyArmkcp2"
      },
      "source": [
        "lookup method는 tokenized ID를 tokenized text로 변환합니다."
      ]
    },
    {
      "cell_type": "code",
      "execution_count": null,
      "metadata": {
        "colab": {
          "base_uri": "https://localhost:8080/"
        },
        "id": "pEAe8IFCkcTY",
        "outputId": "c92cf2e7-bd14-4f03-f77e-b7a0b1725db6"
      },
      "outputs": [
        {
          "data": {
            "text/plain": [
              "<tf.RaggedTensor [[b'[START]', b'and', b'when', b'you', b'improve', b'search', b'##ability',\n",
              "  b',', b'you', b'actually', b'take', b'away', b'the', b'one', b'advantage',\n",
              "  b'of', b'print', b',', b'which', b'is', b's', b'##ere', b'##nd', b'##ip',\n",
              "  b'##ity', b'.', b'[END]']                                                 ,\n",
              " [b'[START]', b'but', b'what', b'if', b'it', b'were', b'active', b'?',\n",
              "  b'[END]']                                                           ,\n",
              " [b'[START]', b'but', b'they', b'did', b'n', b\"'\", b't', b'test', b'for',\n",
              "  b'curiosity', b'.', b'[END]']                                          ]>"
            ]
          },
          "execution_count": 13,
          "metadata": {},
          "output_type": "execute_result"
        }
      ],
      "source": [
        "tokens = tokenizers.en.lookup(encoded)\n",
        "tokens"
      ]
    },
    {
      "cell_type": "markdown",
      "metadata": {
        "id": "wJ2XLiykk5Md"
      },
      "source": [
        "여기에서 토크나이저의 \"subwords\"를볼 수 있습니다. 예를 들어, \"searchability\"라는 단어는 \"search ##ability\"로, \"serendipity\"라는 단어는 \"s ##ere ##nd ##ip ##ity\"로 분해됩니다.\n",
        "\n",
        "\"Transformer is awesome.\"을 tokenize 하면 다음과 같습니다."
      ]
    },
    {
      "cell_type": "code",
      "execution_count": null,
      "metadata": {
        "colab": {
          "base_uri": "https://localhost:8080/"
        },
        "id": "x0P7etGvlhAO",
        "outputId": "4930688a-6f6f-464c-998e-8405535c8206"
      },
      "outputs": [
        {
          "name": "stdout",
          "output_type": "stream",
          "text": [
            "[[   2 1761  227   80 1920   15    3]]\n",
            "<tf.RaggedTensor [[b'[START]', b'transform', b'##er', b'is', b'awesome', b'.', b'[END]']]>\n",
            "[b'transformer is awesome .']\n"
          ]
        }
      ],
      "source": [
        "sample_string = tf.constant(['Transformer is awesome.'])\n",
        "\n",
        "tokenized_string = tokenizers.en.tokenize(sample_string)\n",
        "\n",
        "print(tokenized_string.numpy())\n",
        "print(tokenizers.en.lookup(tokenized_string))\n",
        "print(tokenizers.en.detokenize(tokenized_string).numpy())"
      ]
    },
    {
      "cell_type": "markdown",
      "metadata": {
        "id": "6JrGp5Gek6Ql"
      },
      "source": [
        "## 입력 파이프라인 설정 - (1)\n",
        "훈련에 적합한 입력 파이프라인을 구축하기 위해 데이터 세트에 몇 가지 변환을 적용합니다.\n",
        "\n",
        "tensorflow model에 입력으로 사용하기 위해 원시 text의 비정형텐서(ragged tensor)를 tensor로 변환합니다.\n"
      ]
    },
    {
      "cell_type": "code",
      "execution_count": null,
      "metadata": {
        "colab": {
          "base_uri": "https://localhost:8080/"
        },
        "id": "0BVCKBasPfq7",
        "outputId": "4d045f75-45a4-4ab1-d13c-83c595fc7a47"
      },
      "outputs": [
        {
          "name": "stdout",
          "output_type": "stream",
          "text": [
            "<tf.RaggedTensor [[2, 1761, 227, 80, 1920, 15, 3]]>\n",
            "tf.Tensor([[   2 1761  227   80 1920   15    3]], shape=(1, 7), dtype=int64)\n"
          ]
        }
      ],
      "source": [
        "print(tokenized_string)\n",
        "print(tokenized_string.to_tensor())"
      ]
    },
    {
      "cell_type": "code",
      "execution_count": null,
      "metadata": {
        "id": "GmDZMfdtsETX"
      },
      "outputs": [],
      "source": [
        "def tokenize_pairs(pt, en):\n",
        "    pt = tokenizers.pt.tokenize(pt)\n",
        "    # Convert from ragged to dense, padding with zeros.\n",
        "    pt = pt.to_tensor()\n",
        "\n",
        "    en = tokenizers.en.tokenize(en)\n",
        "    # Convert from ragged to dense, padding with zeros.\n",
        "    en = en.to_tensor()\n",
        "    return pt, en"
      ]
    },
    {
      "cell_type": "markdown",
      "metadata": {
        "id": "ywezv2zSs5E4"
      },
      "source": [
        "다음은 데이터를 처리, 셔플 및 일괄 처리하는 간단한 입력 파이프라인입니다.\n",
        "\n",
        "- train, validation batch pipeline 생성  \n",
        "- tf.data.AUTOTUNE 은 작동하는 Network가 스스로 설정하고 Dataset을 잘 불러올 수 있게 결정하라는 것"
      ]
    },
    {
      "cell_type": "code",
      "execution_count": null,
      "metadata": {
        "colab": {
          "base_uri": "https://localhost:8080/"
        },
        "id": "u7SiL41mbiCZ",
        "outputId": "5ac4b2be-f718-4e44-9011-8da2ae00bdb4"
      },
      "outputs": [
        {
          "data": {
            "text/plain": [
              "(<PrefetchDataset element_spec=(TensorSpec(shape=(None, None), dtype=tf.int64, name=None), TensorSpec(shape=(None, None), dtype=tf.int64, name=None))>,\n",
              " <PrefetchDataset element_spec=(TensorSpec(shape=(None, None), dtype=tf.int64, name=None), TensorSpec(shape=(None, None), dtype=tf.int64, name=None))>)"
            ]
          },
          "execution_count": 18,
          "metadata": {},
          "output_type": "execute_result"
        }
      ],
      "source": [
        "BUFFER_SIZE = 20000\n",
        "BATCH_SIZE = 64\n",
        "\n",
        "def make_batches(ds):\n",
        "  return (\n",
        "      ds\n",
        "      .cache()\n",
        "      .shuffle(BUFFER_SIZE)\n",
        "      .batch(BATCH_SIZE)\n",
        "      .map(tokenize_pairs, num_parallel_calls=tf.data.AUTOTUNE)\n",
        "      .prefetch(tf.data.AUTOTUNE))\n",
        "\n",
        "train_batches = make_batches(train_examples)\n",
        "val_batches = make_batches(val_examples)\n",
        "train_batches, val_batches"
      ]
    },
    {
      "cell_type": "markdown",
      "metadata": {
        "id": "2r32dOx4XVHP"
      },
      "source": [
        "validation set  에서 batch 를 하나 가져와 dataset pipeline 이 잘 구성 되었는지 조회 합니다."
      ]
    },
    {
      "cell_type": "code",
      "execution_count": null,
      "metadata": {
        "colab": {
          "base_uri": "https://localhost:8080/"
        },
        "id": "_fXvfYVfQr2n",
        "outputId": "55dd172a-9dc0-4b91-fa57-a3437d8444d0"
      },
      "outputs": [
        {
          "data": {
            "text/plain": [
              "(<tf.Tensor: shape=(64, 103), dtype=int64, numpy=\n",
              " array([[   2,  120, 1740, ...,    0,    0,    0],\n",
              "        [   2,  115,  173, ...,    0,    0,    0],\n",
              "        [   2,   54,   84, ...,    0,    0,    0],\n",
              "        ...,\n",
              "        [   2,   54,  717, ...,    0,    0,    0],\n",
              "        [   2,  122,   97, ...,    0,    0,    0],\n",
              "        [   2,   40, 1748, ...,    0,    0,    0]])>,\n",
              " <tf.Tensor: shape=(64, 91), dtype=int64, numpy=\n",
              " array([[   2, 2357,  160, ...,    0,    0,    0],\n",
              "        [   2,  117,   45, ...,    0,    0,    0],\n",
              "        [   2,   83,   91, ...,    0,    0,    0],\n",
              "        ...,\n",
              "        [   2,  110,  532, ...,    0,    0,    0],\n",
              "        [   2,   82,  119, ...,    0,    0,    0],\n",
              "        [   2,   71,   49, ...,    0,    0,    0]])>)"
            ]
          },
          "execution_count": 19,
          "metadata": {},
          "output_type": "execute_result"
        }
      ],
      "source": [
        "pt_batch, en_batch = next(iter(val_batches))\n",
        "pt_batch, en_batch"
      ]
    },
    {
      "cell_type": "markdown",
      "metadata": {
        "id": "nBQuibYA4n0n"
      },
      "source": [
        "## Positional encoding - (2)\n",
        "\n",
        " - 위치 인코딩이 추가되어 문장에서 단어의 상대 위치에 대한 정보를 모델에 제공\n",
        "\n",
        "- positional encoding 벡터를 임베딩 벡터에 추가하면 d 차원 공간에서 단어의 의미와 문장에서의 위치의 유사성에 따라 단어가 서로 더 가깝게 된다.\n",
        "\n",
        "- [positional encoding](https://github.com/tensorflow/examples/blob/master/community/en/position_encoding.ipynb) 에서 자세한 내용 참조.\n",
        "- 위치 인코딩을 계산하는 공식은 다음과 같다.\n",
        "\n",
        "$${PE_{(pos, 2i)} = sin(pos / 10000^{2i / d_{model}})} $$\n",
        "$${PE_{(pos, 2i+1)} = cos(pos / 10000^{2i / d_{model}})} $$\n",
        "<div align=\"center\">\n",
        "<li>d_model : embedding vector 의 차원 (512)</li>\n",
        "<li>pos : 입력문장의 단어 순서 위치 </li>\n",
        "<li>i : embedding vector 내의 차원의 index</li>\n",
        "</div>"
      ]
    },
    {
      "cell_type": "code",
      "execution_count": null,
      "metadata": {
        "id": "WhIOZjMNKujn"
      },
      "outputs": [],
      "source": [
        "def get_angles(pos, i, d_model):\n",
        "  angle_rates = 1 / np.power(10000, (2 * (i//2)) / np.float32(d_model))\n",
        "  return pos * angle_rates"
      ]
    },
    {
      "cell_type": "code",
      "execution_count": null,
      "metadata": {
        "id": "1Rz82wEs5biZ"
      },
      "outputs": [],
      "source": [
        "def positional_encoding(position, d_model):\n",
        "  angle_rads = get_angles(np.arange(position)[:, np.newaxis],\n",
        "                          np.arange(d_model)[np.newaxis, :], d_model)\n",
        "  # 짝수 위치 (2i) 에는 sin 적용\n",
        "  angle_rads[:, 0::2] = np.sin(angle_rads[:, 0::2])\n",
        "  # 홀수 위치 (2i) 에는 cos 적용\n",
        "  angle_rads[:, 1::2] = np.cos(angle_rads[:, 1::2])\n",
        "  pos_encoding = angle_rads[np.newaxis, ...]\n",
        "  return tf.cast(pos_encoding, dtype=tf.float32)"
      ]
    },
    {
      "cell_type": "code",
      "execution_count": null,
      "metadata": {
        "colab": {
          "base_uri": "https://localhost:8080/",
          "height": 301
        },
        "id": "lPlV-1xmaUa1",
        "outputId": "71b0e87b-b455-423e-c638-452059d2dab9"
      },
      "outputs": [
        {
          "name": "stdout",
          "output_type": "stream",
          "text": [
            "(1, 2048, 512)\n"
          ]
        },
        {
          "data": {
            "image/png": "[encoded data removed]",
            "text/plain": [
              "<Figure size 432x288 with 2 Axes>"
            ]
          },
          "metadata": {
            "needs_background": "light"
          },
          "output_type": "display_data"
        }
      ],
      "source": [
        "n, d = 2048, 512\n",
        "pos_encoding = positional_encoding(n, d)\n",
        "print(pos_encoding.shape)\n",
        "pos_encoding = pos_encoding[0]\n",
        "\n",
        "# Juggle the dimensions for the plot\n",
        "pos_encoding = tf.reshape(pos_encoding, (n, d//2, 2))\n",
        "pos_encoding = tf.transpose(pos_encoding, (2, 1, 0))\n",
        "pos_encoding = tf.reshape(pos_encoding, (d, n))\n",
        "\n",
        "plt.pcolormesh(pos_encoding, cmap='RdBu')\n",
        "plt.ylabel('Depth')\n",
        "plt.xlabel('Position')\n",
        "plt.colorbar()\n",
        "plt.show()"
      ]
    },
    {
      "cell_type": "markdown",
      "metadata": {
        "id": "a_b4ou4TYqUN"
      },
      "source": [
        "## Masking  - (3)\n",
        "\n",
        "- 두가지 mask 생성\n",
        "    - PAD mask : encoder, decoder 의 sequence batch 내의 `<PAD>` token 위치 표시\n",
        "    - look ahead mask : decoder 에서 뒤쪽 단어를 보지 않기 위해 mask"
      ]
    },
    {
      "cell_type": "markdown",
      "metadata": {
        "id": "s42Uydjkv0hF"
      },
      "source": [
        "#### PAD Mask\n",
        "- sequence batch  내의 모든 패드 토큰 (0) 을 마스킹.\n",
        "- 이렇게 하면 모델이 패딩을 입력으로 처리하지 않는다.\n",
        "- 마스크는 패드 값 '0'이있는 위치를 나타낸다.\n",
        "- 해당 위치에서 '1'을 출력하고 그렇지 않으면 '0'을 출력한다."
      ]
    },
    {
      "cell_type": "code",
      "execution_count": null,
      "metadata": {
        "id": "U2i8-e1s8ti9"
      },
      "outputs": [],
      "source": [
        "def create_padding_mask(seq):\n",
        "    seq = tf.cast(tf.math.equal(seq, 0), tf.float32)    # integer 0 을 float32 로 type 변환\n",
        "    # attention logit 에 padding 을 더하기 위해 extra dimension 을  추가\n",
        "    return seq[:, tf.newaxis, tf.newaxis, :]  # (batch_size, 1, 1, seq_len)"
      ]
    },
    {
      "cell_type": "markdown",
      "metadata": {
        "id": "Iy8ltlx2K_JQ"
      },
      "source": [
        "상수 tensor 를 생성하여 위 함수를 Test  \n",
        "- shape 이 (batch size, 1, 1, seq_len) 이고,\n",
        "- 0 padding 위치가 1 로 masking 되었는지 확인"
      ]
    },
    {
      "cell_type": "code",
      "execution_count": null,
      "metadata": {
        "colab": {
          "base_uri": "https://localhost:8080/"
        },
        "id": "A7BYeBCNvi7n",
        "outputId": "56599068-e6ce-4dd0-8131-dd3821f51b7d"
      },
      "outputs": [
        {
          "data": {
            "text/plain": [
              "<tf.Tensor: shape=(3, 1, 1, 5), dtype=float32, numpy=\n",
              "array([[[[0., 0., 1., 1., 0.]]],\n",
              "\n",
              "\n",
              "       [[[0., 0., 0., 1., 1.]]],\n",
              "\n",
              "\n",
              "       [[[1., 1., 1., 0., 0.]]]], dtype=float32)>"
            ]
          },
          "execution_count": 24,
          "metadata": {},
          "output_type": "execute_result"
        }
      ],
      "source": [
        "x = tf.constant([[7, 6, 0, 0, 1], [1, 2, 3, 0, 0], [0, 0, 0, 4, 5]])\n",
        "create_padding_mask(x)"
      ]
    },
    {
      "cell_type": "markdown",
      "metadata": {
        "id": "Z0hzukDBgVom"
      },
      "source": [
        "#### look-ahead 마스크\n",
        "- sequence 의 뒤쪽(오른쪽) 토큰을 마스킹하는 데 사용.\n",
        "- 즉, 마스크는 예측에 사용하지 말아야 할 단어를 표시\n",
        "- 예를 들어 세 번째 단어를 예측하기 위해 첫 번째와 두 번째 단어 만 사용됨을 의미\n",
        "- 네 번째 단어를 예측하려면 마찬가지로 첫 번째, 두 번째 및 세 번째 단어 만 사용"
      ]
    },
    {
      "cell_type": "code",
      "execution_count": null,
      "metadata": {
        "colab": {
          "base_uri": "https://localhost:8080/"
        },
        "id": "vsbd665OOOQu",
        "outputId": "67de437f-f128-4428-a267-8badb069fe53"
      },
      "outputs": [
        {
          "data": {
            "text/plain": [
              "<tf.Tensor: shape=(4, 4), dtype=float32, numpy=\n",
              "array([[1., 0., 0., 0.],\n",
              "       [1., 1., 0., 0.],\n",
              "       [1., 1., 1., 0.],\n",
              "       [1., 1., 1., 1.]], dtype=float32)>"
            ]
          },
          "execution_count": 25,
          "metadata": {},
          "output_type": "execute_result"
        }
      ],
      "source": [
        "tf.linalg.band_part(tf.ones((4, 4)), -1, 0)  # Lower triangular part 를 남기고 1 로 변환"
      ]
    },
    {
      "cell_type": "code",
      "execution_count": null,
      "metadata": {
        "id": "dVxS8OPI9uI0"
      },
      "outputs": [],
      "source": [
        "def create_look_ahead_mask(size):\n",
        "  mask = 1 - tf.linalg.band_part(tf.ones((size, size)), -1, 0)\n",
        "  return mask    # (seq_len, seq_len)"
      ]
    },
    {
      "cell_type": "code",
      "execution_count": null,
      "metadata": {
        "id": "S5a18L80uXo7"
      },
      "outputs": [],
      "source": [
        "x = tf.random.uniform((1, 3))\n",
        "temp = create_look_ahead_mask(x.shape[1])\n",
        "temp"
      ]
    },
    {
      "cell_type": "markdown",
      "metadata": {
        "id": "xluDl5cXYy4y"
      },
      "source": [
        "## Scaled dot product attention - (4)"
      ]
    },
    {
      "cell_type": "markdown",
      "metadata": {
        "id": "vsxEE_-Wa1gF"
      },
      "source": [
        "<img src=\"https://www.tensorflow.org/images/tutorials/transformer/scaled_attention.png\" width=\"400\" alt=\"scaled_dot_product_attention\">\n",
        "\n",
        "- 트랜스포머에서 사용되는 attention 함수는 Q (query), K (key), V (value)의 세 가지 벡터를 입력으로 받는다.\n",
        "- attention weight 를 계산하는 데 사용되는 공식은 다음과 같다.\n",
        "\n",
        "$${Attention(Q, K, V) = softmax_k(\\frac{QK^T}{\\sqrt{d_k}}) V} $$\n",
        "\n",
        "- dot-product attention 은 depth(embedding dimension) 의 제곱근에 의해 scaling 된다. scaling하는 이유는 큰 depth 값은 dot product 값을 크게 만들고 이 것을 소프트맥스 함수에 집어넣으면 기울기를 얻기 힘들게 되기 때문이다.\n",
        "- 예를 들어, Q 와 K 가 표준 정규분포일 경우, matrix multiplication 은 평균 0, variance dk 가 되게 하므로 dk 의 제곱근으로 나누어주면 Q 와 K 의 matmul 은 평균 0, variance 1 이 되어 기울기를 구하기 쉽게 된다.\n",
        "\n",
        "- mask 에 -1e9(음의 무한대에 가까움) 을 곱하여 Q와 K의 스케일 된 행렬 곱셈 (scaled-attention-logit) 에 더한다.  이렇게 하면 mask 가 1 인 경우는 softmax 에 큰 음의 입력값을 주게 되고 출력이 0 이 되도록 한다.\n",
        "즉, mask 가 1 인 경우는 예측을 하면 안되기 때문이다.\n",
        "\n",
        "- softmax를 거친 값을 value에 곱해준다면, query와 유사한 value일수록, 즉 중요한 value일수록 더 높은 값을 가지게 된다. 중요한 정보에 더 관심을 둔다는 attention의 원리에 알맞은 것임."
      ]
    },
    {
      "cell_type": "code",
      "execution_count": null,
      "metadata": {
        "id": "LazzUq3bJ5SH"
      },
      "outputs": [],
      "source": [
        "def scaled_dot_product_attention(q, k, v, mask):\n",
        "  \"\"\"attention weights 계산\n",
        "  q, k, v 의 첫번째 dimension(batch size) 은 같아야 함\n",
        "  k, v 의  끝에서 두번째 dimension 은 같아야 함. 즉, seq_len_k = seq_len_v.\n",
        "  mask 는 padding mask 인지 look ahead mask 인지에 따라 다른 shape 을 가진다.\n",
        "        padding - (batch_size, 1, 1, seq_len), look ahead - (seq_len, seq_len)\n",
        "  그러나 addition 할 때에는  broadcasting 이 발생한다.\n",
        "\n",
        "  Args:\n",
        "    q: query shape == (..., seq_len_q, depth)\n",
        "    k: key shape == (..., seq_len_k, depth)\n",
        "    v: value shape == (..., seq_len_v, depth_v)\n",
        "    mask: Float tensor with shape broadcastable\n",
        "          to (..., seq_len_q, seq_len_k). Defaults to None.\n",
        "\n",
        "  Returns:\n",
        "    output, attention_weights\n",
        "  \"\"\"\n",
        "\n",
        "  matmul_qk = tf.matmul(q, k, transpose_b=True)  # shape (..., seq_len_q, seq_len_k), k 를 transpose\n",
        "\n",
        "  # scale matmul_qk\n",
        "  dk = tf.cast(tf.shape(k)[-1], tf.float32)\n",
        "  scaled_attention_logits = matmul_qk / tf.math.sqrt(dk)\n",
        "\n",
        "  # scaled_attention_logit 에 (mask * -1e9) 를 더하여 padding 위치 (masked 1) 의 값이 0 이 되도록 함\n",
        "  if mask is not None:\n",
        "    scaled_attention_logits += (mask * -1e9)\n",
        "\n",
        "  # last axis (seq_len_k) 를 기준으로 softmax normalize 되어 scores 의 합이 1 이 되도록 함.\n",
        "  attention_weights = tf.nn.softmax(scaled_attention_logits, axis=-1)  # (..., seq_len_q, seq_len_k)\n",
        "\n",
        "  output = tf.matmul(attention_weights, v)  # (..., seq_len_q, depth_v)\n",
        "\n",
        "  return output, attention_weights"
      ]
    },
    {
      "cell_type": "markdown",
      "metadata": {
        "id": "FihGcAB__UgU"
      },
      "source": [
        "- K 에 대하여  softmax normalization 을 하였으므로 K 의 value (V) 는 Q 에 대해 얼마나 K 가 중요한지를 결정하게 된다.\n",
        "- 위 함수에서 return 된 output 은 attention weight 와 V (value) vector 의 matmul 인데, 이 것은 주목할 단어를 그대로 보존하고, 무관한 단어를 지워버리는 역할을 한다."
      ]
    },
    {
      "cell_type": "code",
      "execution_count": null,
      "metadata": {
        "id": "1JbFA2BTCtDY"
      },
      "outputs": [],
      "source": [
        "def print_out(q, k, v):\n",
        "  temp_out, temp_attn = scaled_dot_product_attention(q, k, v, None)\n",
        "  print ('Attention weights are:')\n",
        "  print (temp_attn)\n",
        "  print ('Output is:')\n",
        "  print (temp_out)"
      ]
    },
    {
      "cell_type": "markdown",
      "metadata": {
        "id": "-H-EPx1DqDHm"
      },
      "source": [
        "- scaled dot attention test"
      ]
    },
    {
      "cell_type": "code",
      "execution_count": null,
      "metadata": {
        "colab": {
          "base_uri": "https://localhost:8080/"
        },
        "id": "yAzUAf2DPlNt",
        "outputId": "5245800a-f145-489e-cd8b-3e728329b214"
      },
      "outputs": [
        {
          "name": "stdout",
          "output_type": "stream",
          "text": [
            "Attention weights are:\n",
            "tf.Tensor([[0. 1. 0. 0.]], shape=(1, 4), dtype=float32)\n",
            "Output is:\n",
            "tf.Tensor([[10.  0.]], shape=(1, 2), dtype=float32)\n"
          ]
        }
      ],
      "source": [
        "np.set_printoptions(suppress=True)\n",
        "# key\n",
        "temp_k = tf.constant([[10,0,0],\n",
        "                      [0,10,0],\n",
        "                      [0,0,10],\n",
        "                      [0,0,10]], dtype=tf.float32)  # (4, 3) [The, big, red, dog]\n",
        "# value\n",
        "temp_v = tf.constant([[1, 0],\n",
        "                      [10, 0],    # A\n",
        "                      [100, 5],\n",
        "                      [1000,6]], dtype=tf.float32)  # (4, 2) embedding dim = 2\n",
        "# query\n",
        "# 두번째 key([0, 10, 0])를 query 하면\n",
        "# 두번째 value([10, 0]) 가 attention weight 1 로 반환됨\n",
        "temp_q = tf.constant([[0, 10, 0]], dtype=tf.float32)  # (1, 3)  big\n",
        "print_out(temp_q, temp_k, temp_v)   #output [0, 1, 0, 0] 은 A 만 남고 나머지는 지워지는 결과"
      ]
    },
    {
      "cell_type": "code",
      "execution_count": null,
      "metadata": {
        "colab": {
          "base_uri": "https://localhost:8080/"
        },
        "id": "zg6k-fGhgXra",
        "outputId": "36bbf4c9-629f-446a-c2b9-c49b2814e356"
      },
      "outputs": [
        {
          "name": "stdout",
          "output_type": "stream",
          "text": [
            "Attention weights are:\n",
            "tf.Tensor([[0.  0.  0.5 0.5]], shape=(1, 4), dtype=float32)\n",
            "Output is:\n",
            "tf.Tensor([[550.    5.5]], shape=(1, 2), dtype=float32)\n"
          ]
        }
      ],
      "source": [
        "# 세번째 key 를 query 하면 세번째 value가 attentin weight 1 로 반환되고\n",
        "# 같은 값을 갖는 두 key값의 평균을 반환([100, 5] 와 [1000, 6] 의 평균인 [550, 5.5])\n",
        "temp_q = tf.constant([[0, 0, 10]], dtype=tf.float32)  # (1, 3)\n",
        "print_out(temp_q, temp_k, temp_v)"
      ]
    },
    {
      "cell_type": "code",
      "execution_count": null,
      "metadata": {
        "colab": {
          "base_uri": "https://localhost:8080/"
        },
        "id": "UAq3YOzUgXhb",
        "outputId": "3dcbddc9-7b79-445d-9c41-4893e34e5767"
      },
      "outputs": [
        {
          "name": "stdout",
          "output_type": "stream",
          "text": [
            "Attention weights are:\n",
            "tf.Tensor([[0.5 0.5 0.  0. ]], shape=(1, 4), dtype=float32)\n",
            "Output is:\n",
            "tf.Tensor([[5.5 0. ]], shape=(1, 2), dtype=float32)\n"
          ]
        }
      ],
      "source": [
        "# 이 query 는 첫번째와 두번째 key를 동등하게 query 하므로, 평균값 반환\n",
        "# [1, 0] 와 [10, 0] 의 평균값인 [5.5, 0]\n",
        "temp_q = tf.constant([[10, 10, 0]], dtype=tf.float32)  # (1, 3)\n",
        "print_out(temp_q, temp_k, temp_v)"
      ]
    },
    {
      "cell_type": "markdown",
      "metadata": {
        "id": "aOz-4_XIhaTP"
      },
      "source": [
        "위의 세가지 쿼리를 한번에 행렬연산. 동일한 값이 출력됨을 확인."
      ]
    },
    {
      "cell_type": "code",
      "execution_count": null,
      "metadata": {
        "colab": {
          "base_uri": "https://localhost:8080/"
        },
        "id": "6dlU8Tm-hYrF",
        "outputId": "c413f14b-c347-4367-963e-0542dcb88ac2"
      },
      "outputs": [
        {
          "name": "stdout",
          "output_type": "stream",
          "text": [
            "Attention weights are:\n",
            "tf.Tensor(\n",
            "[[0.  1.  0.  0. ]\n",
            " [0.  0.  0.5 0.5]\n",
            " [0.5 0.5 0.  0. ]], shape=(3, 4), dtype=float32)\n",
            "Output is:\n",
            "tf.Tensor(\n",
            "[[ 10.    0. ]\n",
            " [550.    5.5]\n",
            " [  5.5   0. ]], shape=(3, 2), dtype=float32)\n"
          ]
        }
      ],
      "source": [
        "temp_q = tf.constant([[0, 10, 0], [0, 0, 10], [10, 10, 0]], dtype=tf.float32)  # (3, 3)\n",
        "print_out(temp_q, temp_k, temp_v)"
      ]
    },
    {
      "cell_type": "markdown",
      "metadata": {
        "id": "kmzGPEy64qmA"
      },
      "source": [
        "## Multi-head attention - (5)"
      ]
    },
    {
      "cell_type": "markdown",
      "metadata": {
        "id": "fz5BMC8Kaoqo"
      },
      "source": [
        "<img src=\"https://www.tensorflow.org/images/tutorials/transformer/multi_head_attention.png\" width=\"500\" alt=\"multi-head attention\">\n",
        "\n",
        "\n",
        "멀티 헤드 attention 은 다음 네 부분으로 구성된다.\n",
        "* linear layer 와 헤드 분할.\n",
        "* scaled dot-product attention.\n",
        "* multi-head 의 concatenate.\n",
        "* 최종 linear layer."
      ]
    },
    {
      "cell_type": "markdown",
      "metadata": {
        "id": "JPmbr6F1C-v_"
      },
      "source": [
        "각 멀티 헤드 어텐션 블록에는 Q (쿼리), K (키), V (값) 의 3 개의 입력이 있다. 이들은 선형 (Dense) 레이어를 통해 여러 헤드로 분할된다.\n",
        "\n",
        "위에서 정의한`scaled_dot_product_attention` 을 각 헤드에 적용.(효율성을 위해 broadcast 됨). attention 단계에서 적절한 마스크를 사용해야 한다. 그런 다음 각 헤드에 대한 attention output 이 연결되고 (`tf.transpose` 및 `tf.reshape` 사용) 최종 `Dense` 레이어를 통과.\n",
        "\n",
        "하나의 단일 attention head 를 사용 않고, Q, K 및 V는 여러 헤드로 분할되어 모델이 서로 다른 표현 공간의 다른 위치에있는 정보에 공동으로 attend 할 수 있게한다. 분할 후 각 헤드의 dimension 이 감소하므로 전체 계산 비용은 전체 dimension 으로 단일 head attention 할 때와 같다."
      ]
    },
    {
      "cell_type": "code",
      "execution_count": null,
      "metadata": {
        "id": "BSV3PPKsYecw"
      },
      "outputs": [],
      "source": [
        "class MultiHeadAttention(tf.keras.layers.Layer):\n",
        "  def __init__(self, d_model, num_heads):\n",
        "    super(MultiHeadAttention, self).__init__()\n",
        "    self.num_heads = num_heads\n",
        "    self.d_model = d_model\n",
        "\n",
        "    assert d_model % self.num_heads == 0\n",
        "\n",
        "    self.depth = d_model // self.num_heads\n",
        "\n",
        "    # Linear Layer\n",
        "    self.wq = tf.keras.layers.Dense(d_model)\n",
        "    self.wk = tf.keras.layers.Dense(d_model)\n",
        "    self.wv = tf.keras.layers.Dense(d_model)\n",
        "\n",
        "    self.dense = tf.keras.layers.Dense(d_model)\n",
        "\n",
        "  def split_heads(self, x, batch_size):\n",
        "    \"\"\" last dimension 을 (num_heads, depth) 로 split.\n",
        "        shape 이 (batch_size, num_heads, seq_len, depth) 가 되도록 결과를 transpose\n",
        "    \"\"\"\n",
        "    x = tf.reshape(x, (batch_size, -1, self.num_heads, self.depth))\n",
        "    return tf.transpose(x, perm=[0, 2, 1, 3])\n",
        "\n",
        "  def call(self, v, k, q, mask):\n",
        "    batch_size = tf.shape(q)[0]\n",
        "\n",
        "    q = self.wq(q)  # (batch_size, seq_len, d_model)\n",
        "    k = self.wk(k)  # (batch_size, seq_len, d_model)\n",
        "    v = self.wv(v)  # (batch_size, seq_len, d_model)\n",
        "\n",
        "    q = self.split_heads(q, batch_size)  # (batch_size, num_heads, seq_len_q, depth)\n",
        "    k = self.split_heads(k, batch_size)  # (batch_size, num_heads, seq_len_k, depth)\n",
        "    v = self.split_heads(v, batch_size)  # (batch_size, num_heads, seq_len_v, depth)\n",
        "\n",
        "    # scaled_attention.shape  == (batch_size, num_heads, seq_len_q, depth)\n",
        "    # attention_weights.shape == (batch_size, num_heads, seq_len_q, seq_len_k)\n",
        "    scaled_attention, attention_weights = scaled_dot_product_attention(q, k, v, mask)\n",
        "\n",
        "    scaled_attention = tf.transpose(scaled_attention,\n",
        "                       perm=[0, 2, 1, 3])  # (batch_size, seq_len_q, num_heads, depth)\n",
        "\n",
        "    concat_attention = tf.reshape(scaled_attention,\n",
        "                      (batch_size, -1, self.d_model))  # (batch_size, seq_len_q, d_model)\n",
        "\n",
        "    output = self.dense(concat_attention)  # (batch_size, seq_len_q, d_model)\n",
        "\n",
        "    return output, attention_weights"
      ]
    },
    {
      "cell_type": "markdown",
      "metadata": {
        "id": "0D8FJue5lDyZ"
      },
      "source": [
        "`x`  시퀀스의 각 위치에서 `MultiHeadAttention` 은 시퀀스의 다른 모든 위치에 8 개의 attention head 를 모두 실행하여 해당 위치에서 동일한 길이의 새 output 벡터를 반환."
      ]
    },
    {
      "cell_type": "code",
      "execution_count": null,
      "metadata": {
        "colab": {
          "base_uri": "https://localhost:8080/"
        },
        "id": "Hu94p-_-2_BX",
        "outputId": "bf4c7787-3b7c-4297-c9be-8bb32d87a777"
      },
      "outputs": [
        {
          "data": {
            "text/plain": [
              "(TensorShape([1, 50, 512]), TensorShape([1, 8, 50, 50]))"
            ]
          },
          "execution_count": 34,
          "metadata": {},
          "output_type": "execute_result"
        }
      ],
      "source": [
        "temp_mha = MultiHeadAttention(d_model=512, num_heads=8)\n",
        "x = tf.random.uniform((1, 50, 512))  # (batch_size, encoder_sequence, d_model)\n",
        "out, attn = temp_mha(x, k=x, q=x, mask=None)\n",
        "out.shape, attn.shape"
      ]
    },
    {
      "cell_type": "markdown",
      "metadata": {
        "id": "RdDqGayx67vv"
      },
      "source": [
        "## Point wise feed forward network - (6)"
      ]
    },
    {
      "cell_type": "markdown",
      "metadata": {
        "id": "gBqzJXGfHK3X"
      },
      "source": [
        "Pointwise feed forward network 은 ReLU 활성화를 통해 두 개의 완전히 연결층으로 구성된다."
      ]
    },
    {
      "cell_type": "code",
      "source": [],
      "metadata": {
        "id": "d3fLFmGHjqLH"
      },
      "execution_count": null,
      "outputs": []
    },
    {
      "cell_type": "code",
      "execution_count": null,
      "metadata": {
        "id": "ET7xLt0yCT6Z"
      },
      "outputs": [],
      "source": [
        "def point_wise_feed_forward_network(d_model, dff):\n",
        "  return tf.keras.Sequential([\n",
        "      tf.keras.layers.Dense(dff, activation='relu'),   # (batch_size, seq_len, dff)\n",
        "      tf.keras.layers.Dense(d_model)                   # (batch_size, seq_len, d_model)\n",
        "  ])"
      ]
    },
    {
      "cell_type": "code",
      "execution_count": null,
      "metadata": {
        "colab": {
          "base_uri": "https://localhost:8080/"
        },
        "id": "mytb1lPyOHLB",
        "outputId": "542b3065-1cd5-491b-c6c4-b68e36250c62"
      },
      "outputs": [
        {
          "data": {
            "text/plain": [
              "TensorShape([1, 50, 512])"
            ]
          },
          "execution_count": 36,
          "metadata": {},
          "output_type": "execute_result"
        }
      ],
      "source": [
        "sample_ffn = point_wise_feed_forward_network(512, 2048)\n",
        "sample_ffn(out).shape"
      ]
    },
    {
      "cell_type": "markdown",
      "metadata": {
        "id": "7e7hKcxn6-zd"
      },
      "source": [
        "## Encoder and decoder\n",
        "<img src=\"https://www.tensorflow.org/images/tutorials/transformer/transformer.png\" width=\"600\" alt=\"transformer\">"
      ]
    },
    {
      "cell_type": "markdown",
      "metadata": {
        "id": "MfYJG-Kvgwy2"
      },
      "source": [
        "transformer model 은  표준 `sequence to sequence with attention model` 과 동일한 일반적 pattern 을 따른다.\n",
        "\n",
        "* 입력 문장은 시퀀스의 각 단어 / 토큰에 대한 출력을 생성하는 N 개의 인코더 레이어를 통과한다.\n",
        "* 디코더는 다음 단어 예측을 위해 인코더의 출력과 자체의 입력 (self-attention)에 attend 한다."
      ]
    },
    {
      "cell_type": "markdown",
      "metadata": {
        "id": "QFv-FNYUmvpn"
      },
      "source": [
        "### Encoder layer - (7)\n",
        "\n",
        "각 encoder layer 는 sublayer 들로 구성:\n",
        "\n",
        "1.   Multi-head attention (with padding mask)\n",
        "2.   Point wise feed forward networks.\n",
        "\n",
        "이들 서브 계층들 각각은 그 주변을 돌아가는 residual connection(잔차 연결)을 갖고 있어서 layer normalization 을 한다. 잔차 연결은 딥 네트워크에서의 vanishing gradient 문제를 방지하는 데 도움이 된다.\n",
        "\n",
        "각 sublayer 의 output 은 `LayerNorm(x + Sublayer(x))` 이다. normalization 은 `d_model` (last) axis 에 대해 이루어 진다. transformer 는 N encoder layer 로 구성된다."
      ]
    },
    {
      "cell_type": "code",
      "execution_count": null,
      "metadata": {
        "id": "ncyS-Ms3i2x_"
      },
      "outputs": [],
      "source": [
        "class EncoderLayer(tf.keras.layers.Layer):\n",
        "  def __init__(self, d_model, num_heads, dff, rate=0.1):\n",
        "    super(EncoderLayer, self).__init__()\n",
        "\n",
        "    self.mha = MultiHeadAttention(d_model, num_heads)\n",
        "    self.ffn = point_wise_feed_forward_network(d_model, dff)\n",
        "\n",
        "    self.layernorm1 = tf.keras.layers.LayerNormalization(epsilon=1e-6)\n",
        "    self.layernorm2 = tf.keras.layers.LayerNormalization(epsilon=1e-6)\n",
        "\n",
        "    self.dropout1 = tf.keras.layers.Dropout(rate)\n",
        "    self.dropout2 = tf.keras.layers.Dropout(rate)\n",
        "\n",
        "  def call(self, x, training, mask):\n",
        "\n",
        "    attn_output, _ = self.mha(x, x, x, mask)  # (batch_size, input_seq_len, d_model)\n",
        "    attn_output = self.dropout1(attn_output, training=training)\n",
        "    out1 = self.layernorm1(x + attn_output)  # (batch_size, input_seq_len, d_model)\n",
        "\n",
        "    ffn_output = self.ffn(out1)  # (batch_size, input_seq_len, d_model)\n",
        "    ffn_output = self.dropout2(ffn_output, training=training)\n",
        "    out2 = self.layernorm2(out1 + ffn_output)  # (batch_size, input_seq_len, d_model)\n",
        "\n",
        "    return out2"
      ]
    },
    {
      "cell_type": "code",
      "execution_count": null,
      "metadata": {
        "colab": {
          "base_uri": "https://localhost:8080/"
        },
        "id": "AzZRXdO0mI48",
        "outputId": "a53e9903-830c-4f1c-8b52-dd06965b0e1f"
      },
      "outputs": [
        {
          "data": {
            "text/plain": [
              "TensorShape([64, 43, 512])"
            ]
          },
          "execution_count": 38,
          "metadata": {},
          "output_type": "execute_result"
        }
      ],
      "source": [
        "sample_encoder_layer = EncoderLayer(512, 8, 2048)\n",
        "x = tf.random.uniform((64, 43, 512))\n",
        "\n",
        "sample_encoder_layer_output = sample_encoder_layer(x, False, None)\n",
        "\n",
        "sample_encoder_layer_output.shape  # (batch_size, input_seq_len, d_model)"
      ]
    },
    {
      "cell_type": "markdown",
      "metadata": {
        "id": "6LO_48Owmx_o"
      },
      "source": [
        "### Decoder layer - (8)\n",
        "\n",
        "각 decoder layer 는 다음의 sublayer 들로 구성:\n",
        "\n",
        "1.   Masked multi-head attention (look ahead mask 와 padding mask 로 구성)\n",
        "2.   Multi-head attention (with padding mask).\n",
        "    - encoder 로부터 V (value) and K (key) 의 *encoder output* 을 inputs 으로 받는다.\n",
        "    - Q (query) 는  *masked multi-head attention sublayer 의 output* 을 input 으로 받는다.\n",
        "3.   Point wise feed forward networks\n",
        "\n",
        "이들 서브 계층들 각각은 그 주변에 residual connection(잔차 연결) 을 갖고 이어서 layer normalization dmf 갖는다. 각 sublayer 의 output 은 `LayerNorm(x + Sublayer(x))` 이다. normalization 은 d_model (last) axis 에 대해 이루어 진다.\n",
        "\n",
        "N decoder layer 로 구성된다.\n",
        "\n",
        "Q는 디코더의 첫 번째 attention 블록에서 출력을 수신하고 K가 인코더 출력을 수신함에 따라 attention weight 는 인코더의 출력을 기반으로 디코더의 입력에 주어진 중요성을 나타낸다. 다시 말해, 디코더는 엔코더의 출력을보고 자체 출력에 self attention 하여 다음 단어를 예측한다.\n"
      ]
    },
    {
      "cell_type": "code",
      "execution_count": null,
      "metadata": {
        "id": "9SoX0-vd1hue"
      },
      "outputs": [],
      "source": [
        "class DecoderLayer(tf.keras.layers.Layer):\n",
        "  def __init__(self, d_model, num_heads, dff, rate=0.1):\n",
        "    super(DecoderLayer, self).__init__()\n",
        "\n",
        "    self.mha1 = MultiHeadAttention(d_model, num_heads)\n",
        "    self.mha2 = MultiHeadAttention(d_model, num_heads)\n",
        "\n",
        "    self.ffn = point_wise_feed_forward_network(d_model, dff)\n",
        "\n",
        "    self.layernorm1 = tf.keras.layers.LayerNormalization(epsilon=1e-6)\n",
        "    self.layernorm2 = tf.keras.layers.LayerNormalization(epsilon=1e-6)\n",
        "    self.layernorm3 = tf.keras.layers.LayerNormalization(epsilon=1e-6)\n",
        "\n",
        "    self.dropout1 = tf.keras.layers.Dropout(rate)\n",
        "    self.dropout2 = tf.keras.layers.Dropout(rate)\n",
        "    self.dropout3 = tf.keras.layers.Dropout(rate)\n",
        "\n",
        "\n",
        "  def call(self, x, enc_output, training, look_ahead_mask, padding_mask):\n",
        "    # enc_output.shape == (batch_size, input_seq_len, d_model)\n",
        "\n",
        "    attn1, attn_weights_block1 \\\n",
        "            = self.mha1(x, x, x, look_ahead_mask)  # (batch_size, target_seq_len, d_model)\n",
        "    attn1 = self.dropout1(attn1, training=training)\n",
        "    out1 = self.layernorm1(attn1 + x)\n",
        "\n",
        "    attn2, attn_weights_block2 \\\n",
        "            = self.mha2(enc_output, enc_output, out1, padding_mask)  # (batch_size, target_seq_len, d_model)\n",
        "    attn2 = self.dropout2(attn2, training=training)\n",
        "    out2 = self.layernorm2(attn2 + out1)  # (batch_size, target_seq_len, d_model)\n",
        "\n",
        "    ffn_output = self.ffn(out2)           # (batch_size, target_seq_len, d_model)\n",
        "    ffn_output = self.dropout3(ffn_output, training=training)\n",
        "    out3 = self.layernorm3(ffn_output + out2)  # (batch_size, target_seq_len, d_model)\n",
        "\n",
        "    return out3, attn_weights_block1, attn_weights_block2"
      ]
    },
    {
      "cell_type": "code",
      "execution_count": null,
      "metadata": {
        "colab": {
          "base_uri": "https://localhost:8080/"
        },
        "id": "Ne2Bqx8k71l0",
        "outputId": "afb3187f-16c5-4caf-bd66-d5d8a0a9c4c5"
      },
      "outputs": [
        {
          "data": {
            "text/plain": [
              "TensorShape([64, 50, 512])"
            ]
          },
          "execution_count": 40,
          "metadata": {},
          "output_type": "execute_result"
        }
      ],
      "source": [
        "sample_decoder_layer = DecoderLayer(512, 8, 2048)\n",
        "\n",
        "x = tf.random.uniform((64, 50, 512))\n",
        "\n",
        "sample_decoder_layer_output, _, _ \\\n",
        "        = sample_decoder_layer(x, sample_encoder_layer_output, False, None, None)\n",
        "\n",
        "sample_decoder_layer_output.shape  # (batch_size, target_seq_len, d_model)"
      ]
    },
    {
      "cell_type": "markdown",
      "metadata": {
        "id": "SE1H51Ajm0q1"
      },
      "source": [
        "### Encoder 전체 - (9)\n",
        "\n",
        "전체 `Encoder` 는 다음으로 구성:\n",
        "1.   Input Embedding\n",
        "2.   Positional Encoding\n",
        "3.   N encoder layers\n",
        "\n",
        "입력은 positional 인코딩과 합쳐진 임베딩을 통해 이루어진다. 이 합산의 출력은 인코더 계층에 대한 입력이다. 인코더의 출력은 디코더에 대한 입력이다."
      ]
    },
    {
      "cell_type": "code",
      "execution_count": null,
      "metadata": {
        "id": "jpEox7gJ8FCI"
      },
      "outputs": [],
      "source": [
        "class Encoder(tf.keras.layers.Layer):\n",
        "  def __init__(self, num_layers, d_model, num_heads, dff, input_vocab_size,\n",
        "               maximum_position_encoding, rate=0.1):\n",
        "    super(Encoder, self).__init__()\n",
        "\n",
        "    self.d_model = d_model\n",
        "    self.num_layers = num_layers\n",
        "\n",
        "    self.embedding = tf.keras.layers.Embedding(input_vocab_size, d_model)\n",
        "    self.pos_encoding = positional_encoding(maximum_position_encoding, self.d_model)\n",
        "\n",
        "    self.enc_layers \\\n",
        "          = [EncoderLayer(d_model, num_heads, dff, rate) for _ in range(num_layers)]\n",
        "\n",
        "    self.dropout = tf.keras.layers.Dropout(rate)\n",
        "\n",
        "  def call(self, x, training, mask):\n",
        "\n",
        "    seq_len = tf.shape(x)[1]\n",
        "\n",
        "    # adding embedding and position encoding.\n",
        "    x = self.embedding(x)  # (batch_size, input_seq_len, d_model)\n",
        "    x *= tf.math.sqrt(tf.cast(self.d_model, tf.float32))\n",
        "    x += self.pos_encoding[:, :seq_len, :]\n",
        "\n",
        "    x = self.dropout(x, training=training)\n",
        "\n",
        "    for i in range(self.num_layers):\n",
        "        x = self.enc_layers[i](x, training, mask)\n",
        "\n",
        "    return x  # (batch_size, input_seq_len, d_model)"
      ]
    },
    {
      "cell_type": "code",
      "execution_count": null,
      "metadata": {
        "colab": {
          "base_uri": "https://localhost:8080/"
        },
        "id": "8QG9nueFQKXx",
        "outputId": "fa4d7d27-341f-4f2d-8b98-38bceae81f94"
      },
      "outputs": [
        {
          "name": "stdout",
          "output_type": "stream",
          "text": [
            "(64, 62, 512)\n"
          ]
        }
      ],
      "source": [
        "sample_encoder = Encoder(num_layers=2, d_model=512, num_heads=8,\n",
        "                         dff=2048, input_vocab_size=8500,\n",
        "                         maximum_position_encoding=10000)\n",
        "x = tf.random.uniform((64, 62), dtype=tf.int64, minval=0, maxval=200)\n",
        "\n",
        "sample_encoder_output = sample_encoder(x, training=False, mask=None)\n",
        "\n",
        "print (sample_encoder_output.shape)  # (batch_size, input_seq_len, d_model)"
      ]
    },
    {
      "cell_type": "markdown",
      "metadata": {
        "id": "p-uO6ls8m2O5"
      },
      "source": [
        "### Decoder 전체 - (10)"
      ]
    },
    {
      "cell_type": "markdown",
      "metadata": {
        "id": "ZtT7PKzrXkNr"
      },
      "source": [
        "전체 `Decoder` 는 다음으로 구성:\n",
        "1.   Output Embedding\n",
        "2.   Positional Encoding\n",
        "3.   N decoder layers\n",
        "\n",
        "타겟은 positional 인코딩과 합산 된 임베딩을 통해 이루어진다. 이 합산의 출력은 디코더 층에 대한 입력이다. 디코더의 출력은 최종 linear layer 에 대한 입력이다."
      ]
    },
    {
      "cell_type": "code",
      "execution_count": null,
      "metadata": {
        "id": "d5_d5-PLQXwY"
      },
      "outputs": [],
      "source": [
        "class Decoder(tf.keras.layers.Layer):\n",
        "  def __init__(self, num_layers, d_model, num_heads, dff, target_vocab_size,\n",
        "               maximum_position_encoding, rate=0.1):\n",
        "    super(Decoder, self).__init__()\n",
        "\n",
        "    self.d_model = d_model\n",
        "    self.num_layers = num_layers\n",
        "\n",
        "    self.embedding = tf.keras.layers.Embedding(target_vocab_size, d_model)\n",
        "    self.pos_encoding = positional_encoding(maximum_position_encoding, d_model)\n",
        "\n",
        "    self.dec_layers \\\n",
        "         = [DecoderLayer(d_model, num_heads, dff, rate) for _ in range(num_layers)]\n",
        "    self.dropout = tf.keras.layers.Dropout(rate)\n",
        "\n",
        "  def call(self, x, enc_output, training, look_ahead_mask, padding_mask):\n",
        "\n",
        "    seq_len = tf.shape(x)[1]\n",
        "    attention_weights = {}\n",
        "\n",
        "    x = self.embedding(x)  # (batch_size, target_seq_len, d_model)\n",
        "    x *= tf.math.sqrt(tf.cast(self.d_model, tf.float32))\n",
        "    x += self.pos_encoding[:, :seq_len, :]\n",
        "\n",
        "    x = self.dropout(x, training=training)\n",
        "\n",
        "    for i in range(self.num_layers):\n",
        "      x, block1, block2 \\\n",
        "        = self.dec_layers[i](x, enc_output, training, look_ahead_mask, padding_mask)\n",
        "\n",
        "      attention_weights['decoder_layer{}_block1'.format(i+1)] = block1\n",
        "      attention_weights['decoder_layer{}_block2'.format(i+1)] = block2\n",
        "\n",
        "    # x.shape == (batch_size, target_seq_len, d_model)\n",
        "    return x, attention_weights"
      ]
    },
    {
      "cell_type": "code",
      "execution_count": null,
      "metadata": {
        "colab": {
          "base_uri": "https://localhost:8080/"
        },
        "id": "a1jXoAMRZyvu",
        "outputId": "14b84317-daa9-4c11-e2b9-4e437a421868"
      },
      "outputs": [
        {
          "data": {
            "text/plain": [
              "(TensorShape([64, 26, 512]), TensorShape([64, 8, 26, 62]))"
            ]
          },
          "execution_count": 44,
          "metadata": {},
          "output_type": "execute_result"
        }
      ],
      "source": [
        "sample_decoder = Decoder(num_layers=2, d_model=512, num_heads=8,\n",
        "                         dff=2048, target_vocab_size=8000,\n",
        "                         maximum_position_encoding=5000)\n",
        "\n",
        "x = tf.random.uniform((64, 26), dtype=tf.int64, minval=0, maxval=200)\n",
        "\n",
        "output, attn = sample_decoder(x,\n",
        "                              enc_output=sample_encoder_output,\n",
        "                              training=False,\n",
        "                              look_ahead_mask=None,\n",
        "                              padding_mask=None)\n",
        "\n",
        "output.shape, attn['decoder_layer2_block2'].shape"
      ]
    },
    {
      "cell_type": "markdown",
      "metadata": {
        "id": "y54xnJnuYgJ7"
      },
      "source": [
        "## Transformer 생성 - (11)"
      ]
    },
    {
      "cell_type": "markdown",
      "metadata": {
        "id": "uERO1y54cOKq"
      },
      "source": [
        "Transformer 는 인코더, 디코더 및 최종 linear layer 로 구성. 디코더의 출력은 linear layer 에 대한 입력이며 출력이 반환된다."
      ]
    },
    {
      "cell_type": "code",
      "execution_count": null,
      "metadata": {
        "id": "PED3bIpOYkBu"
      },
      "outputs": [],
      "source": [
        "class Transformer(tf.keras.Model):\n",
        "  def __init__(self, num_layers, d_model, num_heads, dff, input_vocab_size,\n",
        "               target_vocab_size, pe_input, pe_target, rate=0.1):\n",
        "    super().__init__()\n",
        "    self.encoder = Encoder(num_layers, d_model, num_heads, dff,\n",
        "                             input_vocab_size, pe_input, rate)\n",
        "\n",
        "    self.decoder = Decoder(num_layers, d_model, num_heads, dff,\n",
        "                           target_vocab_size, pe_target, rate)\n",
        "\n",
        "    self.final_layer = tf.keras.layers.Dense(target_vocab_size)\n",
        "\n",
        "  def call(self, inputs, training):\n",
        "    # Keras models prefer if you pass all your inputs in the first argument\n",
        "    inp, tar = inputs\n",
        "\n",
        "    enc_padding_mask, look_ahead_mask, dec_padding_mask = self.create_masks(inp, tar)\n",
        "\n",
        "    enc_output = self.encoder(inp, training, enc_padding_mask)  # (batch_size, inp_seq_len, d_model)\n",
        "\n",
        "    # dec_output.shape == (batch_size, tar_seq_len, d_model)\n",
        "    dec_output, attention_weights = self.decoder(\n",
        "        tar, enc_output, training, look_ahead_mask, dec_padding_mask)\n",
        "\n",
        "    final_output = self.final_layer(dec_output)  # (batch_size, tar_seq_len, target_vocab_size)\n",
        "\n",
        "    return final_output, attention_weights\n",
        "\n",
        "  def create_masks(self, inp, tar):\n",
        "    # Encoder padding mask\n",
        "    enc_padding_mask = create_padding_mask(inp)\n",
        "\n",
        "    # Used in the 2nd attention block in the decoder.\n",
        "    # This padding mask is used to mask the encoder outputs.\n",
        "    dec_padding_mask = create_padding_mask(inp)\n",
        "\n",
        "    # Used in the 1st attention block in the decoder.\n",
        "    # It is used to pad and mask future tokens in the input received by\n",
        "    # the decoder.\n",
        "    look_ahead_mask = create_look_ahead_mask(tf.shape(tar)[1])\n",
        "    dec_target_padding_mask = create_padding_mask(tar)\n",
        "    look_ahead_mask = tf.maximum(dec_target_padding_mask, look_ahead_mask)\n",
        "\n",
        "    return enc_padding_mask, look_ahead_mask, dec_padding_mask"
      ]
    },
    {
      "cell_type": "code",
      "execution_count": null,
      "metadata": {
        "colab": {
          "base_uri": "https://localhost:8080/"
        },
        "id": "tJ4fbQcIkHW1",
        "outputId": "4c1159eb-6a10-4e70-e09f-fef4f8eaee59"
      },
      "outputs": [
        {
          "data": {
            "text/plain": [
              "TensorShape([64, 36, 8000])"
            ]
          },
          "execution_count": 52,
          "metadata": {},
          "output_type": "execute_result"
        }
      ],
      "source": [
        "sample_transformer = Transformer(\n",
        "    num_layers=2, d_model=512, num_heads=8, dff=2048,\n",
        "    input_vocab_size=8500, target_vocab_size=8000,\n",
        "    pe_input=10000, pe_target=6000)\n",
        "\n",
        "temp_input = tf.random.uniform((64, 38), dtype=tf.int64, minval=0, maxval=200)\n",
        "temp_target = tf.random.uniform((64, 36), dtype=tf.int64, minval=0, maxval=200)\n",
        "\n",
        "fn_out, _ = sample_transformer([temp_input, temp_target], training=False)\n",
        "\n",
        "fn_out.shape  # (batch_size, tar_seq_len, target_vocab_size)"
      ]
    },
    {
      "cell_type": "markdown",
      "metadata": {
        "id": "wsINyf1VEQLC"
      },
      "source": [
        "## Set hyperparameters"
      ]
    },
    {
      "cell_type": "markdown",
      "metadata": {
        "id": "zVjWCxFNcgbt"
      },
      "source": [
        "이 예제를 작고 비교적 빠르게 유지하기 위해 *num_layers, d_model 및 dff* 의 값을 줄임.\n",
        "\n",
        "transformer  기본 모델에 사용 된 값은; *num_layers=6*, *d_model = 512*, *dff = 2048*.\n",
        "\n",
        "참고 : 아래 값을 변경하면 많은 작업에서 최첨단 모델을 얻을 수 있다."
      ]
    },
    {
      "cell_type": "code",
      "execution_count": null,
      "metadata": {
        "id": "lnJn5SLA2ahP"
      },
      "outputs": [],
      "source": [
        "num_layers = 4\n",
        "d_model = 128\n",
        "dff = 512\n",
        "num_heads = 8\n",
        "dropout_rate = 0.1"
      ]
    },
    {
      "cell_type": "markdown",
      "metadata": {
        "id": "xYEGhEOtzn5W"
      },
      "source": [
        "## Optimizer"
      ]
    },
    {
      "cell_type": "markdown",
      "metadata": {
        "id": "GOmWW--yP3zx"
      },
      "source": [
        "[paper](https://arxiv.org/abs/1706.03762) 의 공식에 따라 custom learning rate scheduler 와 함께 Adam optimizer 를 사용한다.\n",
        "\n",
        "\n",
        "\n",
        "$${lrate = d_{model}^{-0.5} * min(step{\\_}num^{-0.5}, step{\\_}num * warmup{\\_}steps^{-1.5})}$$\n"
      ]
    },
    {
      "cell_type": "code",
      "execution_count": null,
      "metadata": {
        "id": "iYQdOO1axwEI"
      },
      "outputs": [],
      "source": [
        "class CustomSchedule(tf.keras.optimizers.schedules.LearningRateSchedule):\n",
        "  def __init__(self, d_model, warmup_steps=4000):\n",
        "    super().__init__()\n",
        "\n",
        "    self.d_model = d_model\n",
        "    self.d_model = tf.cast(self.d_model, tf.float32)\n",
        "\n",
        "    self.warmup_steps = warmup_steps\n",
        "\n",
        "  def __call__(self, step):\n",
        "    step = tf.cast(step, dtype=tf.float32)\n",
        "    arg1 = tf.math.rsqrt(step)\n",
        "    arg2 = step * (self.warmup_steps ** -1.5)\n",
        "\n",
        "    return tf.math.rsqrt(self.d_model) * tf.math.minimum(arg1, arg2)"
      ]
    },
    {
      "cell_type": "code",
      "execution_count": null,
      "metadata": {
        "collapsed": true,
        "id": "7r4scdulztRx"
      },
      "outputs": [],
      "source": [
        "learning_rate = CustomSchedule(d_model)\n",
        "\n",
        "optimizer = tf.keras.optimizers.Adam(learning_rate, beta_1=0.9, beta_2=0.98,\n",
        "                                     epsilon=1e-9)"
      ]
    },
    {
      "cell_type": "code",
      "execution_count": null,
      "metadata": {
        "colab": {
          "base_uri": "https://localhost:8080/",
          "height": 297
        },
        "id": "f33ZCgvHpPdG",
        "outputId": "4e484c3e-300d-45e5-a705-e90b1fc2204b"
      },
      "outputs": [
        {
          "data": {
            "text/plain": [
              "Text(0.5, 0, 'Train Step')"
            ]
          },
          "execution_count": 57,
          "metadata": {},
          "output_type": "execute_result"
        },
        {
          "data": {
            "image/png": "[encoded data removed]",
            "text/plain": [
              "<Figure size 432x288 with 1 Axes>"
            ]
          },
          "metadata": {
            "needs_background": "light"
          },
          "output_type": "display_data"
        }
      ],
      "source": [
        "temp_learning_rate_schedule = CustomSchedule(d_model)\n",
        "\n",
        "plt.plot(temp_learning_rate_schedule(tf.range(40000, dtype=tf.float32)))\n",
        "plt.ylabel(\"Learning Rate\")\n",
        "plt.xlabel(\"Train Step\")"
      ]
    },
    {
      "cell_type": "markdown",
      "metadata": {
        "id": "YgkDE7hzo8r5"
      },
      "source": [
        "## Loss and metrics"
      ]
    },
    {
      "cell_type": "markdown",
      "metadata": {
        "id": "oxGJtoDuYIHL"
      },
      "source": [
        "target sequences 가 padding 되어 있으므로, loss 계산 시 `padding mask` 를 적용하는 것이 중요.\n",
        "\n",
        "`tf.keras.losses.SparseCategoricalCrossentropy` 의 reduction=NONE 으로 지정할 경우는 shape 이 `[batch_size, d0, .. dN-1]` 이고, 그렇지 않은 경우는 scalar 이다."
      ]
    },
    {
      "cell_type": "code",
      "execution_count": null,
      "metadata": {
        "id": "MlhsJMm0TW_B"
      },
      "outputs": [],
      "source": [
        "loss_object = tf.keras.losses.SparseCategoricalCrossentropy(\n",
        "                    from_logits=True, reduction='none')"
      ]
    },
    {
      "cell_type": "code",
      "execution_count": null,
      "metadata": {
        "id": "67oqVHiT0Eiu"
      },
      "outputs": [],
      "source": [
        "def loss_function(real, pred):\n",
        "  mask = tf.math.logical_not(tf.math.equal(real, 0))\n",
        "  loss_ = loss_object(real, pred)\n",
        "\n",
        "  mask = tf.cast(mask, dtype=loss_.dtype)\n",
        "  loss_ *= mask\n",
        "\n",
        "  return tf.reduce_sum(loss_)/tf.reduce_sum(mask)\n",
        "\n",
        "def accuracy_function(real, pred):\n",
        "  accuracies = tf.equal(real, tf.argmax(pred, axis=2))\n",
        "\n",
        "  mask = tf.math.logical_not(tf.math.equal(real, 0))\n",
        "  accuracies = tf.math.logical_and(mask, accuracies)\n",
        "\n",
        "  accuracies = tf.cast(accuracies, dtype=tf.float32)\n",
        "  mask = tf.cast(mask, dtype=tf.float32)\n",
        "  return tf.reduce_sum(accuracies)/tf.reduce_sum(mask)"
      ]
    },
    {
      "cell_type": "code",
      "execution_count": null,
      "metadata": {
        "id": "phlyxMnm-Tpx"
      },
      "outputs": [],
      "source": [
        "train_loss = tf.keras.metrics.Mean(name='train_loss')\n",
        "train_accuracy = tf.keras.metrics.Mean(name='train_accuracy')"
      ]
    },
    {
      "cell_type": "markdown",
      "metadata": {
        "id": "aeHumfr7zmMa"
      },
      "source": [
        "# Training and checkpointing\n",
        "\n",
        "## Transformer model 생성"
      ]
    },
    {
      "cell_type": "code",
      "execution_count": null,
      "metadata": {
        "id": "UiysUa--4tOU"
      },
      "outputs": [],
      "source": [
        "transformer = Transformer(\n",
        "    num_layers=num_layers,\n",
        "    d_model=d_model,\n",
        "    num_heads=num_heads,\n",
        "    dff=dff,\n",
        "    input_vocab_size=tokenizers.pt.get_vocab_size().numpy(),\n",
        "    target_vocab_size=tokenizers.en.get_vocab_size().numpy(),\n",
        "    pe_input=1000,\n",
        "    pe_target=1000,\n",
        "    rate=dropout_rate)"
      ]
    },
    {
      "cell_type": "code",
      "execution_count": null,
      "metadata": {
        "id": "hNhuYfllndLZ"
      },
      "outputs": [],
      "source": [
        "checkpoint_path = \"./checkpoints/train\"\n",
        "\n",
        "ckpt = tf.train.Checkpoint(transformer=transformer,\n",
        "                           optimizer=optimizer)\n",
        "\n",
        "ckpt_manager = tf.train.CheckpointManager(ckpt, checkpoint_path, max_to_keep=5)\n",
        "\n",
        "# if a checkpoint exists, restore the latest checkpoint.\n",
        "if ckpt_manager.latest_checkpoint:\n",
        "  ckpt.restore(ckpt_manager.latest_checkpoint)\n",
        "  print('Latest checkpoint restored!!')"
      ]
    },
    {
      "cell_type": "markdown",
      "metadata": {
        "id": "0Di_Yaa1gf9r"
      },
      "source": [
        "- target 은 tar_inp와 tar_real로 나뉜다.\n",
        "- tar_inp 은 디코더에 입력으로 전달된다. tar_real은 동일한 입력이 1 step 만큼 이동 된 것이다. tar_input 의 각 위치에서 tar_real은 예측해야 할 다음 토큰을 포함한다.\n",
        "```\n",
        "    sentence = \"SOS A lion in the jungle is sleeping EOS\"\n",
        "    tar_inp =  \"SOS A lion in the jungle is sleeping\"\n",
        "    tar_real = \"A lion in the jungle is sleeping EOS\"\n",
        "```\n",
        "- training은 teacher-forcing 기법 사용 (teacher-forcing 은 현재 time step 에서 모델이 예측하는 것과 상관없이 실제 출력을 다음 time step 으로 전달)\n",
        "\n",
        "- Inference 단계에서 Transformer 는 자동 회귀 모델이다. 한 번에 한 부분 씩 예측하고 그 결과를 사용하여 다음 token을 예측. Transformer 가 각 단어를 예측할 때 *self-attention* 을 사용하면 입력 시퀀스의 이전 단어를보고 다음 단어를 더 잘 예측할 수 있다.\n",
        "\n",
        "- model 이 expected output 을 미리 엿보는 것을 막기 위해 look-ahead mask 사용."
      ]
    },
    {
      "cell_type": "code",
      "execution_count": null,
      "metadata": {
        "id": "mFyvdpSH7RCQ"
      },
      "outputs": [],
      "source": [
        "EPOCHS = 20"
      ]
    },
    {
      "cell_type": "code",
      "execution_count": null,
      "metadata": {
        "id": "iJwmp9OE29oj"
      },
      "outputs": [],
      "source": [
        "# The @tf.function trace-compiles train_step into a TF graph for faster\n",
        "# execution. The function specializes to the precise shape of the argument\n",
        "# tensors. To avoid re-tracing due to the variable sequence lengths or variable\n",
        "# batch sizes (the last batch is smaller), use input_signature to specify\n",
        "# more generic shapes.\n",
        "\n",
        "train_step_signature = [\n",
        "    tf.TensorSpec(shape=(None, None), dtype=tf.int64),\n",
        "    tf.TensorSpec(shape=(None, None), dtype=tf.int64),\n",
        "]\n",
        "\n",
        "\n",
        "@tf.function(input_signature=train_step_signature)\n",
        "def train_step(inp, tar):\n",
        "  tar_inp = tar[:, :-1]\n",
        "  tar_real = tar[:, 1:]\n",
        "\n",
        "  with tf.GradientTape() as tape:\n",
        "    predictions, _ = transformer([inp, tar_inp],\n",
        "                                 training = True)\n",
        "    loss = loss_function(tar_real, predictions)\n",
        "\n",
        "  gradients = tape.gradient(loss, transformer.trainable_variables)\n",
        "  optimizer.apply_gradients(zip(gradients, transformer.trainable_variables))\n",
        "\n",
        "  train_loss(loss)\n",
        "  train_accuracy(accuracy_function(tar_real, predictions))"
      ]
    },
    {
      "cell_type": "markdown",
      "metadata": {
        "id": "qM2PDWGDJ_8V"
      },
      "source": [
        "### Portugal 어가 input language 이고 English 가 target language 로 사용됨.\n",
        "\n",
        "- Colab GPU 약 20 분 이상 소요"
      ]
    },
    {
      "cell_type": "code",
      "execution_count": null,
      "metadata": {
        "colab": {
          "base_uri": "https://localhost:8080/"
        },
        "id": "bbvmaKNiznHZ",
        "outputId": "07274974-797f-4d13-9057-b9d6227617df"
      },
      "outputs": [
        {
          "name": "stdout",
          "output_type": "stream",
          "text": [
            "Epoch 1 Batch 0 Loss 8.8954 Accuracy 0.0000\n",
            "Epoch 1 Batch 50 Loss 8.8255 Accuracy 0.0023\n",
            "Epoch 1 Batch 100 Loss 8.7239 Accuracy 0.0228\n",
            "Epoch 1 Batch 150 Loss 8.6112 Accuracy 0.0322\n",
            "Epoch 1 Batch 200 Loss 8.4699 Accuracy 0.0382\n",
            "Epoch 1 Batch 250 Loss 8.3012 Accuracy 0.0426\n",
            "Epoch 1 Batch 300 Loss 8.1118 Accuracy 0.0472\n",
            "Epoch 1 Batch 350 Loss 7.9142 Accuracy 0.0554\n",
            "Epoch 1 Batch 400 Loss 7.7258 Accuracy 0.0627\n",
            "Epoch 1 Batch 450 Loss 7.5572 Accuracy 0.0701\n",
            "Epoch 1 Batch 500 Loss 7.4093 Accuracy 0.0772\n",
            "Epoch 1 Batch 550 Loss 7.2730 Accuracy 0.0849\n",
            "Epoch 1 Batch 600 Loss 7.1451 Accuracy 0.0926\n",
            "Epoch 1 Batch 650 Loss 7.0268 Accuracy 0.0998\n",
            "Epoch 1 Batch 700 Loss 6.9180 Accuracy 0.1064\n",
            "Epoch 1 Batch 750 Loss 6.8160 Accuracy 0.1128\n",
            "Epoch 1 Batch 800 Loss 6.7219 Accuracy 0.1186\n",
            "Epoch 1 Loss 6.7053 Accuracy 0.1197\n",
            "Time taken for 1 epoch: 208.81 secs\n",
            "\n",
            "Epoch 2 Batch 0 Loss 5.1475 Accuracy 0.2150\n",
            "Epoch 2 Batch 50 Loss 5.2168 Accuracy 0.2140\n",
            "Epoch 2 Batch 100 Loss 5.1818 Accuracy 0.2184\n",
            "Epoch 2 Batch 150 Loss 5.1527 Accuracy 0.2214\n",
            "Epoch 2 Batch 200 Loss 5.1315 Accuracy 0.2245\n",
            "Epoch 2 Batch 250 Loss 5.1081 Accuracy 0.2277\n",
            "Epoch 2 Batch 300 Loss 5.0827 Accuracy 0.2296\n",
            "Epoch 2 Batch 350 Loss 5.0592 Accuracy 0.2319\n",
            "Epoch 2 Batch 400 Loss 5.0367 Accuracy 0.2342\n",
            "Epoch 2 Batch 450 Loss 5.0177 Accuracy 0.2362\n",
            "Epoch 2 Batch 500 Loss 4.9976 Accuracy 0.2380\n",
            "Epoch 2 Batch 550 Loss 4.9762 Accuracy 0.2398\n",
            "Epoch 2 Batch 600 Loss 4.9586 Accuracy 0.2414\n",
            "Epoch 2 Batch 650 Loss 4.9394 Accuracy 0.2430\n",
            "Epoch 2 Batch 700 Loss 4.9231 Accuracy 0.2443\n",
            "Epoch 2 Batch 750 Loss 4.9086 Accuracy 0.2456\n",
            "Epoch 2 Batch 800 Loss 4.8936 Accuracy 0.2469\n",
            "Epoch 2 Loss 4.8911 Accuracy 0.2471\n",
            "Time taken for 1 epoch: 105.97 secs\n",
            "\n",
            "Epoch 3 Batch 0 Loss 4.5949 Accuracy 0.2735\n",
            "Epoch 3 Batch 50 Loss 4.5981 Accuracy 0.2716\n",
            "Epoch 3 Batch 100 Loss 4.5805 Accuracy 0.2734\n",
            "Epoch 3 Batch 150 Loss 4.5747 Accuracy 0.2737\n",
            "Epoch 3 Batch 200 Loss 4.5568 Accuracy 0.2752\n",
            "Epoch 3 Batch 250 Loss 4.5394 Accuracy 0.2774\n",
            "Epoch 3 Batch 300 Loss 4.5226 Accuracy 0.2790\n",
            "Epoch 3 Batch 350 Loss 4.5059 Accuracy 0.2810\n",
            "Epoch 3 Batch 400 Loss 4.4928 Accuracy 0.2825\n",
            "Epoch 3 Batch 450 Loss 4.4749 Accuracy 0.2846\n",
            "Epoch 3 Batch 500 Loss 4.4580 Accuracy 0.2866\n",
            "Epoch 3 Batch 550 Loss 4.4430 Accuracy 0.2886\n",
            "Epoch 3 Batch 600 Loss 4.4250 Accuracy 0.2908\n",
            "Epoch 3 Batch 650 Loss 4.4059 Accuracy 0.2933\n",
            "Epoch 3 Batch 700 Loss 4.3904 Accuracy 0.2953\n",
            "Epoch 3 Batch 750 Loss 4.3742 Accuracy 0.2973\n",
            "Epoch 3 Batch 800 Loss 4.3599 Accuracy 0.2989\n",
            "Epoch 3 Loss 4.3568 Accuracy 0.2993\n",
            "Time taken for 1 epoch: 102.73 secs\n",
            "\n",
            "Epoch 4 Batch 0 Loss 3.7413 Accuracy 0.3456\n",
            "Epoch 4 Batch 50 Loss 4.0207 Accuracy 0.3369\n",
            "Epoch 4 Batch 100 Loss 4.0067 Accuracy 0.3384\n",
            "Epoch 4 Batch 150 Loss 3.9837 Accuracy 0.3411\n",
            "Epoch 4 Batch 200 Loss 3.9694 Accuracy 0.3429\n",
            "Epoch 4 Batch 250 Loss 3.9527 Accuracy 0.3453\n",
            "Epoch 4 Batch 300 Loss 3.9433 Accuracy 0.3462\n",
            "Epoch 4 Batch 350 Loss 3.9318 Accuracy 0.3476\n",
            "Epoch 4 Batch 400 Loss 3.9160 Accuracy 0.3496\n",
            "Epoch 4 Batch 450 Loss 3.9012 Accuracy 0.3517\n",
            "Epoch 4 Batch 500 Loss 3.8902 Accuracy 0.3533\n",
            "Epoch 4 Batch 550 Loss 3.8773 Accuracy 0.3551\n",
            "Epoch 4 Batch 600 Loss 3.8635 Accuracy 0.3569\n",
            "Epoch 4 Batch 650 Loss 3.8486 Accuracy 0.3589\n",
            "Epoch 4 Batch 700 Loss 3.8368 Accuracy 0.3606\n",
            "Epoch 4 Batch 750 Loss 3.8238 Accuracy 0.3625\n",
            "Epoch 4 Batch 800 Loss 3.8104 Accuracy 0.3644\n",
            "Epoch 4 Loss 3.8088 Accuracy 0.3646\n",
            "Time taken for 1 epoch: 98.99 secs\n",
            "\n",
            "Epoch 5 Batch 0 Loss 3.4819 Accuracy 0.4253\n",
            "Epoch 5 Batch 50 Loss 3.5179 Accuracy 0.3968\n",
            "Epoch 5 Batch 100 Loss 3.5191 Accuracy 0.3976\n",
            "Epoch 5 Batch 150 Loss 3.5015 Accuracy 0.4004\n",
            "Epoch 5 Batch 200 Loss 3.4896 Accuracy 0.4017\n",
            "Epoch 5 Batch 250 Loss 3.4800 Accuracy 0.4031\n",
            "Epoch 5 Batch 300 Loss 3.4635 Accuracy 0.4053\n",
            "Epoch 5 Batch 350 Loss 3.4562 Accuracy 0.4065\n",
            "Epoch 5 Batch 400 Loss 3.4464 Accuracy 0.4078\n",
            "Epoch 5 Batch 450 Loss 3.4362 Accuracy 0.4093\n",
            "Epoch 5 Batch 500 Loss 3.4276 Accuracy 0.4105\n",
            "Epoch 5 Batch 550 Loss 3.4143 Accuracy 0.4121\n",
            "Epoch 5 Batch 600 Loss 3.4038 Accuracy 0.4135\n",
            "Epoch 5 Batch 650 Loss 3.3952 Accuracy 0.4146\n",
            "Epoch 5 Batch 700 Loss 3.3846 Accuracy 0.4160\n",
            "Epoch 5 Batch 750 Loss 3.3754 Accuracy 0.4175\n",
            "Epoch 5 Batch 800 Loss 3.3666 Accuracy 0.4186\n",
            "Saving checkpoint for epoch 5 at ./checkpoints/train/ckpt-1\n",
            "Epoch 5 Loss 3.3654 Accuracy 0.4188\n",
            "Time taken for 1 epoch: 98.73 secs\n",
            "\n",
            "Epoch 6 Batch 0 Loss 3.1555 Accuracy 0.4394\n",
            "Epoch 6 Batch 50 Loss 3.0742 Accuracy 0.4526\n",
            "Epoch 6 Batch 100 Loss 3.0758 Accuracy 0.4525\n",
            "Epoch 6 Batch 150 Loss 3.0669 Accuracy 0.4538\n",
            "Epoch 6 Batch 200 Loss 3.0686 Accuracy 0.4536\n",
            "Epoch 6 Batch 250 Loss 3.0621 Accuracy 0.4547\n",
            "Epoch 6 Batch 300 Loss 3.0587 Accuracy 0.4549\n",
            "Epoch 6 Batch 350 Loss 3.0463 Accuracy 0.4571\n",
            "Epoch 6 Batch 400 Loss 3.0394 Accuracy 0.4582\n",
            "Epoch 6 Batch 450 Loss 3.0326 Accuracy 0.4589\n",
            "Epoch 6 Batch 500 Loss 3.0212 Accuracy 0.4604\n",
            "Epoch 6 Batch 550 Loss 3.0156 Accuracy 0.4613\n",
            "Epoch 6 Batch 600 Loss 3.0050 Accuracy 0.4627\n",
            "Epoch 6 Batch 650 Loss 2.9966 Accuracy 0.4639\n",
            "Epoch 6 Batch 700 Loss 2.9897 Accuracy 0.4648\n",
            "Epoch 6 Batch 750 Loss 2.9830 Accuracy 0.4659\n",
            "Epoch 6 Batch 800 Loss 2.9747 Accuracy 0.4673\n",
            "Epoch 6 Loss 2.9728 Accuracy 0.4677\n",
            "Time taken for 1 epoch: 99.23 secs\n",
            "\n",
            "Epoch 7 Batch 0 Loss 2.6301 Accuracy 0.5194\n",
            "Epoch 7 Batch 50 Loss 2.7247 Accuracy 0.4974\n",
            "Epoch 7 Batch 100 Loss 2.7170 Accuracy 0.4985\n",
            "Epoch 7 Batch 150 Loss 2.7071 Accuracy 0.4999\n",
            "Epoch 7 Batch 200 Loss 2.6950 Accuracy 0.5016\n",
            "Epoch 7 Batch 250 Loss 2.6877 Accuracy 0.5031\n",
            "Epoch 7 Batch 300 Loss 2.6819 Accuracy 0.5044\n",
            "Epoch 7 Batch 350 Loss 2.6799 Accuracy 0.5045\n",
            "Epoch 7 Batch 400 Loss 2.6728 Accuracy 0.5059\n",
            "Epoch 7 Batch 450 Loss 2.6662 Accuracy 0.5072\n",
            "Epoch 7 Batch 500 Loss 2.6608 Accuracy 0.5079\n",
            "Epoch 7 Batch 550 Loss 2.6577 Accuracy 0.5083\n",
            "Epoch 7 Batch 600 Loss 2.6572 Accuracy 0.5084\n",
            "Epoch 7 Batch 650 Loss 2.6539 Accuracy 0.5088\n",
            "Epoch 7 Batch 700 Loss 2.6486 Accuracy 0.5096\n",
            "Epoch 7 Batch 750 Loss 2.6441 Accuracy 0.5104\n",
            "Epoch 7 Batch 800 Loss 2.6408 Accuracy 0.5109\n",
            "Epoch 7 Loss 2.6410 Accuracy 0.5109\n",
            "Time taken for 1 epoch: 99.29 secs\n",
            "\n",
            "Epoch 8 Batch 0 Loss 2.6467 Accuracy 0.5126\n",
            "Epoch 8 Batch 50 Loss 2.4471 Accuracy 0.5341\n",
            "Epoch 8 Batch 100 Loss 2.4326 Accuracy 0.5364\n",
            "Epoch 8 Batch 150 Loss 2.4272 Accuracy 0.5380\n",
            "Epoch 8 Batch 200 Loss 2.4279 Accuracy 0.5379\n",
            "Epoch 8 Batch 250 Loss 2.4262 Accuracy 0.5382\n",
            "Epoch 8 Batch 300 Loss 2.4228 Accuracy 0.5388\n",
            "Epoch 8 Batch 350 Loss 2.4240 Accuracy 0.5390\n",
            "Epoch 8 Batch 400 Loss 2.4227 Accuracy 0.5392\n",
            "Epoch 8 Batch 450 Loss 2.4207 Accuracy 0.5395\n",
            "Epoch 8 Batch 500 Loss 2.4126 Accuracy 0.5409\n",
            "Epoch 8 Batch 550 Loss 2.4063 Accuracy 0.5418\n",
            "Epoch 8 Batch 600 Loss 2.4068 Accuracy 0.5417\n",
            "Epoch 8 Batch 650 Loss 2.4070 Accuracy 0.5417\n",
            "Epoch 8 Batch 700 Loss 2.4061 Accuracy 0.5421\n",
            "Epoch 8 Batch 750 Loss 2.4052 Accuracy 0.5423\n",
            "Epoch 8 Batch 800 Loss 2.4025 Accuracy 0.5428\n",
            "Epoch 8 Loss 2.4024 Accuracy 0.5428\n",
            "Time taken for 1 epoch: 96.67 secs\n",
            "\n",
            "Epoch 9 Batch 0 Loss 2.0760 Accuracy 0.5978\n",
            "Epoch 9 Batch 50 Loss 2.2233 Accuracy 0.5646\n",
            "Epoch 9 Batch 100 Loss 2.2236 Accuracy 0.5649\n",
            "Epoch 9 Batch 150 Loss 2.2127 Accuracy 0.5667\n",
            "Epoch 9 Batch 200 Loss 2.2221 Accuracy 0.5654\n",
            "Epoch 9 Batch 250 Loss 2.2281 Accuracy 0.5647\n",
            "Epoch 9 Batch 300 Loss 2.2308 Accuracy 0.5644\n",
            "Epoch 9 Batch 350 Loss 2.2305 Accuracy 0.5649\n",
            "Epoch 9 Batch 400 Loss 2.2360 Accuracy 0.5643\n",
            "Epoch 9 Batch 450 Loss 2.2357 Accuracy 0.5645\n",
            "Epoch 9 Batch 500 Loss 2.2298 Accuracy 0.5653\n",
            "Epoch 9 Batch 550 Loss 2.2277 Accuracy 0.5658\n",
            "Epoch 9 Batch 600 Loss 2.2258 Accuracy 0.5660\n",
            "Epoch 9 Batch 650 Loss 2.2247 Accuracy 0.5663\n",
            "Epoch 9 Batch 700 Loss 2.2239 Accuracy 0.5664\n",
            "Epoch 9 Batch 750 Loss 2.2256 Accuracy 0.5666\n",
            "Epoch 9 Batch 800 Loss 2.2269 Accuracy 0.5665\n",
            "Epoch 9 Loss 2.2267 Accuracy 0.5665\n",
            "Time taken for 1 epoch: 99.40 secs\n",
            "\n",
            "Epoch 10 Batch 0 Loss 1.9754 Accuracy 0.6124\n",
            "Epoch 10 Batch 50 Loss 2.0748 Accuracy 0.5871\n",
            "Epoch 10 Batch 100 Loss 2.0668 Accuracy 0.5885\n",
            "Epoch 10 Batch 150 Loss 2.0604 Accuracy 0.5897\n",
            "Epoch 10 Batch 200 Loss 2.0715 Accuracy 0.5879\n",
            "Epoch 10 Batch 250 Loss 2.0781 Accuracy 0.5869\n",
            "Epoch 10 Batch 300 Loss 2.0785 Accuracy 0.5869\n",
            "Epoch 10 Batch 350 Loss 2.0804 Accuracy 0.5867\n",
            "Epoch 10 Batch 400 Loss 2.0801 Accuracy 0.5868\n",
            "Epoch 10 Batch 450 Loss 2.0818 Accuracy 0.5864\n",
            "Epoch 10 Batch 500 Loss 2.0813 Accuracy 0.5865\n",
            "Epoch 10 Batch 550 Loss 2.0844 Accuracy 0.5861\n",
            "Epoch 10 Batch 600 Loss 2.0863 Accuracy 0.5857\n",
            "Epoch 10 Batch 650 Loss 2.0868 Accuracy 0.5858\n",
            "Epoch 10 Batch 700 Loss 2.0867 Accuracy 0.5859\n",
            "Epoch 10 Batch 750 Loss 2.0878 Accuracy 0.5858\n",
            "Epoch 10 Batch 800 Loss 2.0906 Accuracy 0.5855\n",
            "Saving checkpoint for epoch 10 at ./checkpoints/train/ckpt-2\n",
            "Epoch 10 Loss 2.0899 Accuracy 0.5855\n",
            "Time taken for 1 epoch: 98.87 secs\n",
            "\n",
            "Epoch 11 Batch 0 Loss 2.0824 Accuracy 0.5682\n",
            "Epoch 11 Batch 50 Loss 1.9320 Accuracy 0.6056\n",
            "Epoch 11 Batch 100 Loss 1.9507 Accuracy 0.6038\n",
            "Epoch 11 Batch 150 Loss 1.9574 Accuracy 0.6023\n",
            "Epoch 11 Batch 200 Loss 1.9581 Accuracy 0.6025\n",
            "Epoch 11 Batch 250 Loss 1.9679 Accuracy 0.6016\n",
            "Epoch 11 Batch 300 Loss 1.9635 Accuracy 0.6026\n",
            "Epoch 11 Batch 350 Loss 1.9660 Accuracy 0.6025\n",
            "Epoch 11 Batch 400 Loss 1.9680 Accuracy 0.6025\n",
            "Epoch 11 Batch 450 Loss 1.9692 Accuracy 0.6024\n",
            "Epoch 11 Batch 500 Loss 1.9666 Accuracy 0.6028\n",
            "Epoch 11 Batch 550 Loss 1.9666 Accuracy 0.6030\n",
            "Epoch 11 Batch 600 Loss 1.9681 Accuracy 0.6028\n",
            "Epoch 11 Batch 650 Loss 1.9705 Accuracy 0.6026\n",
            "Epoch 11 Batch 700 Loss 1.9713 Accuracy 0.6024\n",
            "Epoch 11 Batch 750 Loss 1.9731 Accuracy 0.6021\n",
            "Epoch 11 Batch 800 Loss 1.9758 Accuracy 0.6019\n",
            "Epoch 11 Loss 1.9762 Accuracy 0.6019\n",
            "Time taken for 1 epoch: 98.70 secs\n",
            "\n",
            "Epoch 12 Batch 0 Loss 1.8386 Accuracy 0.6183\n",
            "Epoch 12 Batch 50 Loss 1.8341 Accuracy 0.6215\n",
            "Epoch 12 Batch 100 Loss 1.8572 Accuracy 0.6169\n",
            "Epoch 12 Batch 150 Loss 1.8507 Accuracy 0.6180\n",
            "Epoch 12 Batch 200 Loss 1.8527 Accuracy 0.6179\n",
            "Epoch 12 Batch 250 Loss 1.8630 Accuracy 0.6164\n",
            "Epoch 12 Batch 300 Loss 1.8653 Accuracy 0.6163\n",
            "Epoch 12 Batch 350 Loss 1.8654 Accuracy 0.6166\n",
            "Epoch 12 Batch 400 Loss 1.8658 Accuracy 0.6167\n",
            "Epoch 12 Batch 450 Loss 1.8668 Accuracy 0.6167\n",
            "Epoch 12 Batch 500 Loss 1.8700 Accuracy 0.6164\n",
            "Epoch 12 Batch 550 Loss 1.8739 Accuracy 0.6159\n",
            "Epoch 12 Batch 600 Loss 1.8765 Accuracy 0.6154\n",
            "Epoch 12 Batch 650 Loss 1.8784 Accuracy 0.6151\n",
            "Epoch 12 Batch 700 Loss 1.8795 Accuracy 0.6150\n",
            "Epoch 12 Batch 750 Loss 1.8809 Accuracy 0.6150\n",
            "Epoch 12 Batch 800 Loss 1.8816 Accuracy 0.6152\n",
            "Epoch 12 Loss 1.8827 Accuracy 0.6150\n",
            "Time taken for 1 epoch: 97.30 secs\n",
            "\n",
            "Epoch 13 Batch 0 Loss 1.7449 Accuracy 0.6153\n",
            "Epoch 13 Batch 50 Loss 1.7443 Accuracy 0.6336\n",
            "Epoch 13 Batch 100 Loss 1.7539 Accuracy 0.6332\n",
            "Epoch 13 Batch 150 Loss 1.7718 Accuracy 0.6308\n",
            "Epoch 13 Batch 200 Loss 1.7767 Accuracy 0.6304\n",
            "Epoch 13 Batch 250 Loss 1.7763 Accuracy 0.6307\n",
            "Epoch 13 Batch 300 Loss 1.7747 Accuracy 0.6314\n",
            "Epoch 13 Batch 350 Loss 1.7823 Accuracy 0.6300\n",
            "Epoch 13 Batch 400 Loss 1.7848 Accuracy 0.6296\n",
            "Epoch 13 Batch 450 Loss 1.7859 Accuracy 0.6294\n",
            "Epoch 13 Batch 500 Loss 1.7862 Accuracy 0.6295\n",
            "Epoch 13 Batch 550 Loss 1.7884 Accuracy 0.6291\n",
            "Epoch 13 Batch 600 Loss 1.7925 Accuracy 0.6286\n",
            "Epoch 13 Batch 650 Loss 1.7951 Accuracy 0.6283\n",
            "Epoch 13 Batch 700 Loss 1.7989 Accuracy 0.6276\n",
            "Epoch 13 Batch 750 Loss 1.8013 Accuracy 0.6273\n",
            "Epoch 13 Batch 800 Loss 1.8023 Accuracy 0.6273\n",
            "Epoch 13 Loss 1.8030 Accuracy 0.6272\n",
            "Time taken for 1 epoch: 98.00 secs\n",
            "\n",
            "Epoch 14 Batch 0 Loss 1.9461 Accuracy 0.5872\n",
            "Epoch 14 Batch 50 Loss 1.7164 Accuracy 0.6382\n",
            "Epoch 14 Batch 100 Loss 1.7138 Accuracy 0.6404\n",
            "Epoch 14 Batch 150 Loss 1.7161 Accuracy 0.6400\n",
            "Epoch 14 Batch 200 Loss 1.7141 Accuracy 0.6401\n",
            "Epoch 14 Batch 250 Loss 1.7174 Accuracy 0.6395\n",
            "Epoch 14 Batch 300 Loss 1.7157 Accuracy 0.6394\n",
            "Epoch 14 Batch 350 Loss 1.7154 Accuracy 0.6397\n",
            "Epoch 14 Batch 400 Loss 1.7152 Accuracy 0.6397\n",
            "Epoch 14 Batch 450 Loss 1.7161 Accuracy 0.6397\n",
            "Epoch 14 Batch 500 Loss 1.7183 Accuracy 0.6393\n",
            "Epoch 14 Batch 550 Loss 1.7198 Accuracy 0.6391\n",
            "Epoch 14 Batch 600 Loss 1.7226 Accuracy 0.6386\n",
            "Epoch 14 Batch 650 Loss 1.7252 Accuracy 0.6384\n",
            "Epoch 14 Batch 700 Loss 1.7259 Accuracy 0.6385\n",
            "Epoch 14 Batch 750 Loss 1.7298 Accuracy 0.6380\n",
            "Epoch 14 Batch 800 Loss 1.7321 Accuracy 0.6377\n",
            "Epoch 14 Loss 1.7318 Accuracy 0.6377\n",
            "Time taken for 1 epoch: 97.31 secs\n",
            "\n",
            "Epoch 15 Batch 0 Loss 1.5848 Accuracy 0.6669\n",
            "Epoch 15 Batch 50 Loss 1.5979 Accuracy 0.6583\n",
            "Epoch 15 Batch 100 Loss 1.6267 Accuracy 0.6546\n",
            "Epoch 15 Batch 150 Loss 1.6309 Accuracy 0.6528\n",
            "Epoch 15 Batch 200 Loss 1.6423 Accuracy 0.6508\n",
            "Epoch 15 Batch 250 Loss 1.6503 Accuracy 0.6494\n",
            "Epoch 15 Batch 300 Loss 1.6453 Accuracy 0.6504\n",
            "Epoch 15 Batch 350 Loss 1.6461 Accuracy 0.6503\n",
            "Epoch 15 Batch 400 Loss 1.6514 Accuracy 0.6494\n",
            "Epoch 15 Batch 450 Loss 1.6530 Accuracy 0.6491\n",
            "Epoch 15 Batch 500 Loss 1.6559 Accuracy 0.6486\n",
            "Epoch 15 Batch 550 Loss 1.6585 Accuracy 0.6480\n",
            "Epoch 15 Batch 600 Loss 1.6620 Accuracy 0.6476\n",
            "Epoch 15 Batch 650 Loss 1.6645 Accuracy 0.6473\n",
            "Epoch 15 Batch 700 Loss 1.6644 Accuracy 0.6476\n",
            "Epoch 15 Batch 750 Loss 1.6670 Accuracy 0.6473\n",
            "Epoch 15 Batch 800 Loss 1.6705 Accuracy 0.6467\n",
            "Saving checkpoint for epoch 15 at ./checkpoints/train/ckpt-3\n",
            "Epoch 15 Loss 1.6711 Accuracy 0.6467\n",
            "Time taken for 1 epoch: 98.47 secs\n",
            "\n",
            "Epoch 16 Batch 0 Loss 1.5628 Accuracy 0.6684\n",
            "Epoch 16 Batch 50 Loss 1.5892 Accuracy 0.6567\n",
            "Epoch 16 Batch 100 Loss 1.5670 Accuracy 0.6618\n",
            "Epoch 16 Batch 150 Loss 1.5724 Accuracy 0.6609\n",
            "Epoch 16 Batch 200 Loss 1.5895 Accuracy 0.6579\n",
            "Epoch 16 Batch 250 Loss 1.5846 Accuracy 0.6594\n",
            "Epoch 16 Batch 300 Loss 1.5846 Accuracy 0.6595\n",
            "Epoch 16 Batch 350 Loss 1.5902 Accuracy 0.6587\n",
            "Epoch 16 Batch 400 Loss 1.5970 Accuracy 0.6575\n",
            "Epoch 16 Batch 450 Loss 1.5993 Accuracy 0.6573\n",
            "Epoch 16 Batch 500 Loss 1.6034 Accuracy 0.6567\n",
            "Epoch 16 Batch 550 Loss 1.6060 Accuracy 0.6561\n",
            "Epoch 16 Batch 600 Loss 1.6073 Accuracy 0.6559\n",
            "Epoch 16 Batch 650 Loss 1.6112 Accuracy 0.6553\n",
            "Epoch 16 Batch 700 Loss 1.6147 Accuracy 0.6547\n",
            "Epoch 16 Batch 750 Loss 1.6166 Accuracy 0.6546\n",
            "Epoch 16 Batch 800 Loss 1.6187 Accuracy 0.6545\n",
            "Epoch 16 Loss 1.6190 Accuracy 0.6544\n",
            "Time taken for 1 epoch: 100.65 secs\n",
            "\n",
            "Epoch 17 Batch 0 Loss 1.3689 Accuracy 0.6961\n",
            "Epoch 17 Batch 50 Loss 1.5149 Accuracy 0.6721\n",
            "Epoch 17 Batch 100 Loss 1.5337 Accuracy 0.6675\n",
            "Epoch 17 Batch 150 Loss 1.5384 Accuracy 0.6667\n",
            "Epoch 17 Batch 200 Loss 1.5440 Accuracy 0.6652\n",
            "Epoch 17 Batch 250 Loss 1.5486 Accuracy 0.6646\n",
            "Epoch 17 Batch 300 Loss 1.5482 Accuracy 0.6647\n",
            "Epoch 17 Batch 350 Loss 1.5515 Accuracy 0.6643\n",
            "Epoch 17 Batch 400 Loss 1.5530 Accuracy 0.6642\n",
            "Epoch 17 Batch 450 Loss 1.5553 Accuracy 0.6639\n",
            "Epoch 17 Batch 500 Loss 1.5553 Accuracy 0.6640\n",
            "Epoch 17 Batch 550 Loss 1.5580 Accuracy 0.6636\n",
            "Epoch 17 Batch 600 Loss 1.5584 Accuracy 0.6636\n",
            "Epoch 17 Batch 650 Loss 1.5602 Accuracy 0.6634\n",
            "Epoch 17 Batch 700 Loss 1.5635 Accuracy 0.6628\n",
            "Epoch 17 Batch 750 Loss 1.5641 Accuracy 0.6628\n",
            "Epoch 17 Batch 800 Loss 1.5678 Accuracy 0.6624\n",
            "Epoch 17 Loss 1.5692 Accuracy 0.6622\n",
            "Time taken for 1 epoch: 97.04 secs\n",
            "\n",
            "Epoch 18 Batch 0 Loss 1.5970 Accuracy 0.6466\n",
            "Epoch 18 Batch 50 Loss 1.4878 Accuracy 0.6736\n",
            "Epoch 18 Batch 100 Loss 1.4827 Accuracy 0.6740\n",
            "Epoch 18 Batch 150 Loss 1.4871 Accuracy 0.6738\n",
            "Epoch 18 Batch 200 Loss 1.4911 Accuracy 0.6735\n",
            "Epoch 18 Batch 250 Loss 1.4924 Accuracy 0.6733\n",
            "Epoch 18 Batch 300 Loss 1.4997 Accuracy 0.6716\n",
            "Epoch 18 Batch 350 Loss 1.5020 Accuracy 0.6715\n",
            "Epoch 18 Batch 400 Loss 1.5039 Accuracy 0.6714\n",
            "Epoch 18 Batch 450 Loss 1.5068 Accuracy 0.6710\n",
            "Epoch 18 Batch 500 Loss 1.5070 Accuracy 0.6710\n",
            "Epoch 18 Batch 550 Loss 1.5105 Accuracy 0.6706\n",
            "Epoch 18 Batch 600 Loss 1.5129 Accuracy 0.6704\n",
            "Epoch 18 Batch 650 Loss 1.5167 Accuracy 0.6700\n",
            "Epoch 18 Batch 700 Loss 1.5189 Accuracy 0.6697\n",
            "Epoch 18 Batch 750 Loss 1.5217 Accuracy 0.6693\n",
            "Epoch 18 Batch 800 Loss 1.5244 Accuracy 0.6690\n",
            "Epoch 18 Loss 1.5250 Accuracy 0.6690\n",
            "Time taken for 1 epoch: 97.61 secs\n",
            "\n",
            "Epoch 19 Batch 0 Loss 1.3553 Accuracy 0.7069\n",
            "Epoch 19 Batch 50 Loss 1.3993 Accuracy 0.6902\n",
            "Epoch 19 Batch 100 Loss 1.4249 Accuracy 0.6844\n",
            "Epoch 19 Batch 150 Loss 1.4348 Accuracy 0.6825\n",
            "Epoch 19 Batch 200 Loss 1.4423 Accuracy 0.6809\n",
            "Epoch 19 Batch 250 Loss 1.4482 Accuracy 0.6803\n",
            "Epoch 19 Batch 300 Loss 1.4530 Accuracy 0.6794\n",
            "Epoch 19 Batch 350 Loss 1.4594 Accuracy 0.6787\n",
            "Epoch 19 Batch 400 Loss 1.4646 Accuracy 0.6780\n",
            "Epoch 19 Batch 450 Loss 1.4673 Accuracy 0.6779\n",
            "Epoch 19 Batch 500 Loss 1.4702 Accuracy 0.6771\n",
            "Epoch 19 Batch 550 Loss 1.4711 Accuracy 0.6770\n",
            "Epoch 19 Batch 600 Loss 1.4745 Accuracy 0.6765\n",
            "Epoch 19 Batch 650 Loss 1.4762 Accuracy 0.6765\n",
            "Epoch 19 Batch 700 Loss 1.4792 Accuracy 0.6760\n",
            "Epoch 19 Batch 750 Loss 1.4823 Accuracy 0.6756\n",
            "Epoch 19 Batch 800 Loss 1.4854 Accuracy 0.6752\n",
            "Epoch 19 Loss 1.4852 Accuracy 0.6753\n",
            "Time taken for 1 epoch: 96.74 secs\n",
            "\n",
            "Epoch 20 Batch 0 Loss 1.5358 Accuracy 0.6645\n",
            "Epoch 20 Batch 50 Loss 1.4147 Accuracy 0.6859\n",
            "Epoch 20 Batch 100 Loss 1.4105 Accuracy 0.6861\n",
            "Epoch 20 Batch 150 Loss 1.4038 Accuracy 0.6880\n",
            "Epoch 20 Batch 200 Loss 1.4038 Accuracy 0.6877\n",
            "Epoch 20 Batch 250 Loss 1.4102 Accuracy 0.6868\n",
            "Epoch 20 Batch 300 Loss 1.4122 Accuracy 0.6864\n",
            "Epoch 20 Batch 350 Loss 1.4187 Accuracy 0.6857\n",
            "Epoch 20 Batch 400 Loss 1.4220 Accuracy 0.6853\n",
            "Epoch 20 Batch 450 Loss 1.4263 Accuracy 0.6846\n",
            "Epoch 20 Batch 500 Loss 1.4279 Accuracy 0.6845\n",
            "Epoch 20 Batch 550 Loss 1.4314 Accuracy 0.6838\n",
            "Epoch 20 Batch 600 Loss 1.4326 Accuracy 0.6837\n",
            "Epoch 20 Batch 650 Loss 1.4363 Accuracy 0.6831\n",
            "Epoch 20 Batch 700 Loss 1.4426 Accuracy 0.6821\n",
            "Epoch 20 Batch 750 Loss 1.4455 Accuracy 0.6818\n",
            "Epoch 20 Batch 800 Loss 1.4494 Accuracy 0.6811\n",
            "Saving checkpoint for epoch 20 at ./checkpoints/train/ckpt-4\n",
            "Epoch 20 Loss 1.4495 Accuracy 0.6811\n",
            "Time taken for 1 epoch: 98.50 secs\n",
            "\n"
          ]
        }
      ],
      "source": [
        "import time\n",
        "s = time.time()\n",
        "\n",
        "for epoch in range(EPOCHS):\n",
        "  start = time.time()\n",
        "\n",
        "  train_loss.reset_states()\n",
        "  train_accuracy.reset_states()\n",
        "\n",
        "  # inp -> portuguese, tar -> english\n",
        "  for (batch, (inp, tar)) in enumerate(train_batches):\n",
        "    train_step(inp, tar)\n",
        "\n",
        "    if batch % 50 == 0:\n",
        "      print(f'Epoch {epoch + 1} Batch {batch} Loss {train_loss.result():.4f} Accuracy {train_accuracy.result():.4f}')\n",
        "\n",
        "  if (epoch + 1) % 5 == 0:\n",
        "    ckpt_save_path = ckpt_manager.save()\n",
        "    print(f'Saving checkpoint for epoch {epoch+1} at {ckpt_save_path}')\n",
        "\n",
        "  print(f'Epoch {epoch + 1} Loss {train_loss.result():.4f} Accuracy {train_accuracy.result():.4f}')\n",
        "\n",
        "  print(f'Time taken for 1 epoch: {time.time() - start:.2f} secs\\n')"
      ]
    },
    {
      "cell_type": "code",
      "execution_count": null,
      "metadata": {
        "colab": {
          "base_uri": "https://localhost:8080/"
        },
        "id": "hB8OG2NK01iS",
        "outputId": "ddd97c78-e8f0-424b-a9fe-1a6cc97c1726"
      },
      "outputs": [
        {
          "name": "stdout",
          "output_type": "stream",
          "text": [
            "Total elapsed : 34.82 분\n"
          ]
        }
      ],
      "source": [
        "print(\"Total elapsed : {:.2f} 분\".format((time.time() - s) / 60))"
      ]
    },
    {
      "cell_type": "markdown",
      "metadata": {
        "id": "y6APsFrgImLW"
      },
      "source": [
        "## 추론 실행\n",
        "추론에는 다음 단계가 사용됩니다.\n",
        "\n",
        "- 포르투갈어 토크나이저(tokenizers.pt)를 사용하여 입력 문장을 인코딩합니다. 인코더 입력입니다.\n",
        "\n",
        "- 디코더 입력은 [START] 토큰으로 초기화됩니다.\n",
        "\n",
        "- 패딩 마스크와 look ahead mask를 계산합니다.\n",
        "\n",
        "- 그런 다음 디코더는 인코더 출력과 자체 출력(셀프 어텐션)을 확인하여 예측을 출력합니다.\n",
        "\n",
        "- 예측된 토큰을 디코더 입력에 연결하고 디코더에 전달합니다.\n",
        "\n",
        "- 이 접근 방식에서 디코더는 예측한 이전 토큰을 기반으로 다음 토큰을 예측합니다."
      ]
    },
    {
      "cell_type": "code",
      "execution_count": null,
      "metadata": {
        "id": "5buvMlnvyrFm"
      },
      "outputs": [],
      "source": [
        "class Translator(tf.Module):\n",
        "  def __init__(self, tokenizers, transformer):\n",
        "    self.tokenizers = tokenizers\n",
        "    self.transformer = transformer\n",
        "\n",
        "  def __call__(self, sentence, max_length=20):\n",
        "    # 입력 문장은 포르투갈어이므로 시작 및 종료 토큰을 추가합니다.\n",
        "    assert isinstance(sentence, tf.Tensor)\n",
        "    if len(sentence.shape) == 0:\n",
        "      sentence = sentence[tf.newaxis]\n",
        "\n",
        "    sentence = self.tokenizers.pt.tokenize(sentence).to_tensor()\n",
        "\n",
        "    encoder_input = sentence\n",
        "\n",
        "    # 대상이 영어이므로 transformer에 대한 첫 번째 토큰은 english start 토큰이어야 합니다.\n",
        "    start_end = self.tokenizers.en.tokenize([''])[0]\n",
        "    start = start_end[0][tf.newaxis]\n",
        "    end = start_end[1][tf.newaxis]\n",
        "\n",
        "    # 동적 루프가 `tf.function`에 의해 추적될 수 있도록 `tf.TensorArray`가 (파이썬 list 대신) 필요합니다.\n",
        "    output_array = tf.TensorArray(dtype=tf.int64, size=0, dynamic_size=True)\n",
        "    output_array = output_array.write(0, start)\n",
        "\n",
        "    for i in tf.range(max_length):\n",
        "      output = tf.transpose(output_array.stack())\n",
        "      predictions, _ = self.transformer([encoder_input, output], training=False)\n",
        "\n",
        "      # seq_len dimension에서 last token을 선택합니다.\n",
        "      predictions = predictions[:, -1:, :]  # (batch_size, 1, vocab_size)\n",
        "\n",
        "      predicted_id = tf.argmax(predictions, axis=-1)\n",
        "\n",
        "      # 디코더에 input으로 제공되는 output에 predicted_id를 concatenate합니다.\n",
        "      output_array = output_array.write(i+1, predicted_id[0])\n",
        "\n",
        "      if predicted_id == end:\n",
        "        break\n",
        "\n",
        "    output = tf.transpose(output_array.stack())\n",
        "    # output.shape (1, tokens)\n",
        "    text = tokenizers.en.detokenize(output)[0]  # shape: ()\n",
        "\n",
        "    tokens = tokenizers.en.lookup(output)[0]\n",
        "\n",
        "    # `tf.function`은 루프의 마지막 iteration에서 계산된 Attention_weights를 사용하지 못하게 합니다.\n",
        "    # 따라서 loop 외부에서 다시 계산합니다.\n",
        "    _, attention_weights = self.transformer([encoder_input, output[:,:-1]], training=False)\n",
        "\n",
        "    return text, tokens, attention_weights"
      ]
    },
    {
      "cell_type": "markdown",
      "metadata": {
        "id": "dphbsdv_-RTP"
      },
      "source": [
        "이 Translator 클래스의 인스턴스를 만들고 몇 번 시도해 봅니다."
      ]
    },
    {
      "cell_type": "code",
      "execution_count": null,
      "metadata": {
        "id": "44NVNgjs-dav"
      },
      "outputs": [],
      "source": [
        "translator = Translator(tokenizers, transformer)"
      ]
    },
    {
      "cell_type": "code",
      "execution_count": null,
      "metadata": {
        "id": "QHq4vT9i-h-9"
      },
      "outputs": [],
      "source": [
        "def print_translation(sentence, tokens, ground_truth):\n",
        "  print(f'{\"Input:\":15s}: {sentence}')\n",
        "  print(f'{\"Prediction\":15s}: {tokens.numpy().decode(\"utf-8\")}')\n",
        "  print(f'{\"Ground truth\":15s}: {ground_truth}')"
      ]
    },
    {
      "cell_type": "code",
      "execution_count": null,
      "metadata": {
        "colab": {
          "base_uri": "https://localhost:8080/"
        },
        "id": "g583llwI-ls2",
        "outputId": "9ddf8619-18ba-4690-e711-4218b807b49a"
      },
      "outputs": [
        {
          "name": "stdout",
          "output_type": "stream",
          "text": [
            "Input:         : este é um problema que temos que resolver.\n",
            "Prediction     : this is a problem we need to solve .\n",
            "Ground truth   : this is a problem we have to solve .\n"
          ]
        }
      ],
      "source": [
        "sentence = \"este é um problema que temos que resolver.\"\n",
        "ground_truth = \"this is a problem we have to solve .\"\n",
        "\n",
        "translated_text, translated_tokens, attention_weights = translator(\n",
        "    tf.constant(sentence))\n",
        "print_translation(sentence, translated_text, ground_truth)"
      ]
    },
    {
      "cell_type": "code",
      "execution_count": null,
      "metadata": {
        "colab": {
          "base_uri": "https://localhost:8080/"
        },
        "id": "JhiAFq-X-pMW",
        "outputId": "11dd2854-1b60-43ac-b0ef-541e28acdefc"
      },
      "outputs": [
        {
          "name": "stdout",
          "output_type": "stream",
          "text": [
            "Input:         : os meus vizinhos ouviram sobre esta ideia.\n",
            "Prediction     : my neighbors heard about this idea .\n",
            "Ground truth   : and my neighboring homes heard about this idea .\n"
          ]
        }
      ],
      "source": [
        "sentence = \"os meus vizinhos ouviram sobre esta ideia.\"\n",
        "ground_truth = \"and my neighboring homes heard about this idea .\"\n",
        "\n",
        "translated_text, translated_tokens, attention_weights = translator(\n",
        "    tf.constant(sentence))\n",
        "print_translation(sentence, translated_text, ground_truth)"
      ]
    },
    {
      "cell_type": "markdown",
      "metadata": {
        "id": "z4t9fvWLFgW1"
      },
      "source": [
        "## Attention plots\n",
        "\n",
        "Translator 클래스는 모델의 내부 작업을 시각화하는 데 사용할 수 있는 어텐션 맵의 dictionary를 반환합니다."
      ]
    },
    {
      "cell_type": "code",
      "execution_count": null,
      "metadata": {
        "colab": {
          "base_uri": "https://localhost:8080/"
        },
        "id": "EcTZAU7Z-x2g",
        "outputId": "703f81d1-d44f-454f-bb23-3a543f3ab405"
      },
      "outputs": [
        {
          "name": "stdout",
          "output_type": "stream",
          "text": [
            "Input:         : vou então muito rapidamente partilhar convosco algumas histórias de algumas coisas mágicas que aconteceram.\n",
            "Prediction     : so i ' ll do very quickly share with you some magical stories that happen to happen .\n",
            "Ground truth   : so i 'll just share with you some stories very quickly of some magical things that have happened .\n"
          ]
        }
      ],
      "source": [
        "sentence = \"vou então muito rapidamente partilhar convosco algumas histórias de algumas coisas mágicas que aconteceram.\"\n",
        "ground_truth = \"so i \\'ll just share with you some stories very quickly of some magical things that have happened .\"\n",
        "\n",
        "translated_text, translated_tokens, attention_weights = translator(\n",
        "    tf.constant(sentence))\n",
        "print_translation(sentence, translated_text, ground_truth)"
      ]
    },
    {
      "cell_type": "code",
      "execution_count": null,
      "metadata": {
        "id": "Zk13U57o-7V3"
      },
      "outputs": [],
      "source": [
        "def plot_attention_head(in_tokens, translated_tokens, attention):\n",
        "  # 토큰이 생성되었을 때의 attention을 plot 합니다.\n",
        "  # 모델이 출력에서 `<START>`를 생성하지 않았습니다. skip 합니다.\n",
        "  translated_tokens = translated_tokens[1:]\n",
        "\n",
        "  ax = plt.gca()\n",
        "  ax.matshow(attention)\n",
        "  ax.set_xticks(range(len(in_tokens)))\n",
        "  ax.set_yticks(range(len(translated_tokens)))\n",
        "\n",
        "  labels = [label.decode('utf-8') for label in in_tokens.numpy()]\n",
        "  ax.set_xticklabels(\n",
        "      labels, rotation=90)\n",
        "\n",
        "  labels = [label.decode('utf-8') for label in translated_tokens.numpy()]\n",
        "  ax.set_yticklabels(labels)"
      ]
    },
    {
      "cell_type": "code",
      "execution_count": null,
      "metadata": {
        "colab": {
          "base_uri": "https://localhost:8080/"
        },
        "id": "Et7CMYpV-_a9",
        "outputId": "f010b631-c928-46be-b915-e5af1af662eb"
      },
      "outputs": [
        {
          "data": {
            "text/plain": [
              "TensorShape([19, 20])"
            ]
          },
          "execution_count": 74,
          "metadata": {},
          "output_type": "execute_result"
        }
      ],
      "source": [
        "head = 0\n",
        "# shape: (batch=1, num_heads, seq_len_q, seq_len_k)\n",
        "attention_heads = tf.squeeze(\n",
        "  attention_weights['decoder_layer4_block2'], 0)\n",
        "attention = attention_heads[head]\n",
        "attention.shape"
      ]
    },
    {
      "cell_type": "code",
      "execution_count": null,
      "metadata": {
        "colab": {
          "base_uri": "https://localhost:8080/"
        },
        "id": "RRQpqTPkF8FE",
        "outputId": "e24e65da-facb-4ad9-a779-eb4323a198eb"
      },
      "outputs": [
        {
          "data": {
            "text/plain": [
              "<tf.Tensor: shape=(20,), dtype=string, numpy=\n",
              "array([b'[START]', b'vou', b'entao', b'muito', b'rapidamente',\n",
              "       b'partilhar', b'convosco', b'algumas', b'historias', b'de',\n",
              "       b'algumas', b'coisas', b'ma', b'##gica', b'##s', b'que',\n",
              "       b'acontecera', b'##m', b'.', b'[END]'], dtype=object)>"
            ]
          },
          "execution_count": 75,
          "metadata": {},
          "output_type": "execute_result"
        }
      ],
      "source": [
        "in_tokens = tf.convert_to_tensor([sentence])\n",
        "in_tokens = tokenizers.pt.tokenize(in_tokens).to_tensor()\n",
        "in_tokens = tokenizers.pt.lookup(in_tokens)[0]\n",
        "in_tokens"
      ]
    },
    {
      "cell_type": "code",
      "execution_count": null,
      "metadata": {
        "colab": {
          "base_uri": "https://localhost:8080/"
        },
        "id": "uvvcCzLdF772",
        "outputId": "5534f806-22a4-48fc-f263-3dd1396ae442"
      },
      "outputs": [
        {
          "data": {
            "text/plain": [
              "<tf.Tensor: shape=(20,), dtype=string, numpy=\n",
              "array([b'[START]', b'so', b'i', b\"'\", b'll', b'do', b'very', b'quickly',\n",
              "       b'share', b'with', b'you', b'some', b'magical', b'stories',\n",
              "       b'that', b'happen', b'to', b'happen', b'.', b'[END]'], dtype=object)>"
            ]
          },
          "execution_count": 76,
          "metadata": {},
          "output_type": "execute_result"
        }
      ],
      "source": [
        "translated_tokens"
      ]
    },
    {
      "cell_type": "code",
      "execution_count": null,
      "metadata": {
        "colab": {
          "base_uri": "https://localhost:8080/",
          "height": 323
        },
        "id": "KvBsOZd2_IcC",
        "outputId": "5235d1f1-9b20-4421-c144-f93db4dfa7df"
      },
      "outputs": [
        {
          "data": {
            "image/png": "[encoded data removed]",
            "text/plain": [
              "<Figure size 432x288 with 1 Axes>"
            ]
          },
          "metadata": {
            "needs_background": "light"
          },
          "output_type": "display_data"
        }
      ],
      "source": [
        "plot_attention_head(in_tokens, translated_tokens, attention)"
      ]
    },
    {
      "cell_type": "code",
      "execution_count": null,
      "metadata": {
        "id": "uRNCF7nG_J7Y"
      },
      "outputs": [],
      "source": [
        "def plot_attention_weights(sentence, translated_tokens, attention_heads):\n",
        "  in_tokens = tf.convert_to_tensor([sentence])\n",
        "  in_tokens = tokenizers.pt.tokenize(in_tokens).to_tensor()\n",
        "  in_tokens = tokenizers.pt.lookup(in_tokens)[0]\n",
        "  in_tokens\n",
        "\n",
        "  fig = plt.figure(figsize=(16, 8))\n",
        "\n",
        "  for h, head in enumerate(attention_heads):\n",
        "    ax = fig.add_subplot(2, 4, h+1)\n",
        "\n",
        "    plot_attention_head(in_tokens, translated_tokens, head)\n",
        "\n",
        "    ax.set_xlabel(f'Head {h+1}')\n",
        "\n",
        "  plt.tight_layout()\n",
        "  plt.show()"
      ]
    },
    {
      "cell_type": "code",
      "execution_count": null,
      "metadata": {
        "colab": {
          "base_uri": "https://localhost:8080/",
          "height": 599
        },
        "id": "lHhiIAp-_NFv",
        "outputId": "1a63e143-be4b-488b-f84c-01f49fe32635"
      },
      "outputs": [
        {
          "data": {
            "image/png": "[encoded data removed]",
            "text/plain": [
              "<Figure size 1152x576 with 8 Axes>"
            ]
          },
          "metadata": {
            "needs_background": "light"
          },
          "output_type": "display_data"
        }
      ],
      "source": [
        "plot_attention_weights(sentence, translated_tokens,\n",
        "                       attention_weights['decoder_layer4_block2'][0])"
      ]
    },
    {
      "cell_type": "markdown",
      "metadata": {
        "id": "ZSqIKQYNGVi5"
      },
      "source": [
        "모델은 익숙하지 않은 단어에 대해서도 괜찮아 보입니다. \"triceratops\" 또는 \"encyclopedia\"는 입력 데이터 세트에 없으며 모델은 공유 어휘 없이도 거의 음역(소리나는대로 번역)하는 방법을 학습합니다."
      ]
    },
    {
      "cell_type": "code",
      "execution_count": null,
      "metadata": {
        "colab": {
          "base_uri": "https://localhost:8080/",
          "height": 640
        },
        "id": "1f0uhRNY_O8b",
        "outputId": "2fc3a740-e00c-4003-9e7a-78649575c047"
      },
      "outputs": [
        {
          "name": "stdout",
          "output_type": "stream",
          "text": [
            "Input:         : Eu li sobre triceratops na enciclopédia.\n",
            "Prediction     : i read about transolesopolital in the encycloods .\n",
            "Ground truth   : I read about triceratops in the encyclopedia.\n"
          ]
        },
        {
          "data": {
            "image/png": "[encoded data removed]",
            "text/plain": [
              "<Figure size 1152x576 with 8 Axes>"
            ]
          },
          "metadata": {
            "needs_background": "light"
          },
          "output_type": "display_data"
        }
      ],
      "source": [
        "sentence = \"Eu li sobre triceratops na enciclopédia.\"\n",
        "ground_truth = \"I read about triceratops in the encyclopedia.\"\n",
        "\n",
        "translated_text, translated_tokens, attention_weights = translator(\n",
        "    tf.constant(sentence))\n",
        "print_translation(sentence, translated_text, ground_truth)\n",
        "\n",
        "plot_attention_weights(sentence, translated_tokens,\n",
        "                       attention_weights['decoder_layer4_block2'][0])"
      ]
    },
    {
      "cell_type": "markdown",
      "metadata": {
        "id": "01B_TlpqHDW-"
      },
      "source": [
        "## Export\n",
        "\n",
        "해당 추론 모델이 작동하고 있으므로 다음에는 이를 tf.saved_model로 내보냅니다.\n",
        "\n",
        "그렇게 하려면 이번에는 __call__ 메서드에 tf.function을 사용하여 또 다른 tf.Module 하위 클래스로 래핑합니다."
      ]
    },
    {
      "cell_type": "code",
      "execution_count": null,
      "metadata": {
        "id": "ulFxkN1z_RSP"
      },
      "outputs": [],
      "source": [
        "class ExportTranslator(tf.Module):\n",
        "  def __init__(self, translator):\n",
        "    self.translator = translator\n",
        "\n",
        "  @tf.function(input_signature=[tf.TensorSpec(shape=[], dtype=tf.string)])\n",
        "  def __call__(self, sentence):\n",
        "    (result,\n",
        "     tokens,\n",
        "     attention_weights) = self.translator(sentence, max_length=100)\n",
        "\n",
        "    return result"
      ]
    },
    {
      "cell_type": "markdown",
      "metadata": {
        "id": "ktK7YtrDHPBp"
      },
      "source": [
        "위의 tf.function에서는 출력 문장만 반환됩니다. tf.function의 엄격하지 않은 실행 덕분에 불필요한 값은 절대 계산되지 않습니다."
      ]
    },
    {
      "cell_type": "code",
      "execution_count": null,
      "metadata": {
        "id": "VzqBl7MC_WOi"
      },
      "outputs": [],
      "source": [
        "translator = ExportTranslator(translator)"
      ]
    },
    {
      "cell_type": "markdown",
      "metadata": {
        "id": "R0f3tHPCHXSN"
      },
      "source": [
        "모델이 tf.argmax를 사용하여 예측을 디코딩하기 때문에 예측은 결정적(deterministic)입니다. 원래 모델과 저장된 모델에서 다시 로드된 모델은 동일한 예측을 제공해야 합니다."
      ]
    },
    {
      "cell_type": "code",
      "execution_count": null,
      "metadata": {
        "colab": {
          "base_uri": "https://localhost:8080/"
        },
        "id": "zSr-8mNq_X0O",
        "outputId": "6a99857e-b85e-4bf4-8b15-29897384a1de"
      },
      "outputs": [
        {
          "data": {
            "text/plain": [
              "b'this is the first book i did .'"
            ]
          },
          "execution_count": 83,
          "metadata": {},
          "output_type": "execute_result"
        }
      ],
      "source": [
        "translator(\"este é o primeiro livro que eu fiz.\").numpy()"
      ]
    },
    {
      "cell_type": "code",
      "execution_count": null,
      "metadata": {
        "colab": {
          "base_uri": "https://localhost:8080/"
        },
        "id": "cWbAuFXp_Z3B",
        "outputId": "a6ab3c1a-99d0-4975-c427-a64349f7058e"
      },
      "outputs": [
        {
          "name": "stderr",
          "output_type": "stream",
          "text": [
            "WARNING:absl:Found untraced functions such as embedding_6_layer_call_fn, embedding_6_layer_call_and_return_conditional_losses, dropout_49_layer_call_fn, dropout_49_layer_call_and_return_conditional_losses, embedding_7_layer_call_fn while saving (showing 5 of 224). These functions will not be directly callable after loading.\n"
          ]
        }
      ],
      "source": [
        "tf.saved_model.save(translator, export_dir='translator')"
      ]
    },
    {
      "cell_type": "code",
      "execution_count": null,
      "metadata": {
        "id": "YB8ewWN4_b02"
      },
      "outputs": [],
      "source": [
        "reloaded = tf.saved_model.load('translator')"
      ]
    },
    {
      "cell_type": "code",
      "execution_count": null,
      "metadata": {
        "colab": {
          "base_uri": "https://localhost:8080/"
        },
        "id": "m0nF4w9r_dqT",
        "outputId": "93e45558-4945-485f-8452-26a8111f0737"
      },
      "outputs": [
        {
          "data": {
            "text/plain": [
              "b'this is the first book i did .'"
            ]
          },
          "execution_count": 86,
          "metadata": {},
          "output_type": "execute_result"
        }
      ],
      "source": [
        "reloaded(\"este é o primeiro livro que eu fiz.\").numpy()"
      ]
    },
    {
      "cell_type": "markdown",
      "metadata": {
        "id": "S49QkX9hHlTn"
      },
      "source": [
        "## 요약\n",
        "지금까지 positional encoding, multi-head attention, 마스킹의 중요성 및 transformer를 만드는 방법에 대해 배웠습니다.\n",
        "\n",
        "다른 데이터 세트를 사용하여 transformer를 훈련시키십시오. 위의 하이퍼파라미터를 변경하여 the base transformer 또는 transformer XL을 생성할 수도 있습니다. 여기에 정의된 레이어를 사용하여 BERT를 생성하고 최첨단 모델을 훈련할 수도 있습니다. 또한 더 나은 예측을 위해 beam search를 구현할 수 있습니다."
      ]
    }
  ],
  "metadata": {
    "accelerator": "GPU",
    "colab": {
      "provenance": [],
      "include_colab_link": true
    },
    "kernelspec": {
      "display_name": "Python 3 (ipykernel)",
      "language": "python",
      "name": "python3"
    },
    "language_info": {
      "codemirror_mode": {
        "name": "ipython",
        "version": 3
      },
      "file_extension": ".py",
      "mimetype": "text/x-python",
      "name": "python",
      "nbconvert_exporter": "python",
      "pygments_lexer": "ipython3",
      "version": "3.8.13"
    }
  },
  "nbformat": 4,
  "nbformat_minor": 0
}